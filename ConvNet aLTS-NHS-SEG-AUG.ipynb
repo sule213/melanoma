{
 "cells": [
  {
   "cell_type": "code",
   "execution_count": 12,
   "metadata": {},
   "outputs": [],
   "source": [
    "import tensorflow as tf"
   ]
  },
  {
   "cell_type": "code",
   "execution_count": 2,
   "metadata": {},
   "outputs": [],
   "source": [
    "#sequential model\n",
    "from tensorflow.keras.models import Sequential"
   ]
  },
  {
   "cell_type": "code",
   "execution_count": 3,
   "metadata": {},
   "outputs": [],
   "source": [
    "#ConvNet will end with dense layer and will flatten before feeding to dense layer\n",
    "from tensorflow.keras.layers import Dense, Dropout, Activation, Flatten, Conv2D, MaxPooling2D, LSTM"
   ]
  },
  {
   "cell_type": "code",
   "execution_count": 4,
   "metadata": {},
   "outputs": [],
   "source": [
    "from tensorflow.keras.callbacks import TensorBoard\n",
    "from tensorflow.keras.callbacks import EarlyStopping\n",
    "from tensorflow.keras.optimizers import RMSprop, Adam, SGD"
   ]
  },
  {
   "cell_type": "code",
   "execution_count": 5,
   "metadata": {},
   "outputs": [],
   "source": [
    "#load file with pickle\n",
    "import pickle\n",
    "import time"
   ]
  },
  {
   "cell_type": "code",
   "execution_count": 6,
   "metadata": {},
   "outputs": [],
   "source": [
    "gpu_options =tf.GPUOptions(per_process_gpu_memory_fraction=0.333)\n",
    "sess = tf.Session(config=tf.ConfigProto(gpu_options=gpu_options))"
   ]
  },
  {
   "cell_type": "code",
   "execution_count": 7,
   "metadata": {},
   "outputs": [],
   "source": [
    "pickle_in = open(\"X_SEG.pickle\", \"rb\")\n",
    "X = pickle.load(pickle_in)\n",
    "#load X\n",
    "\n",
    "pickle_in = open(\"y_SEG.pickle\", \"rb\")\n",
    "y = pickle.load(pickle_in)\n",
    "#load y"
   ]
  },
  {
   "cell_type": "code",
   "execution_count": 8,
   "metadata": {},
   "outputs": [],
   "source": [
    "#Data needs to be normalized and since we are using image data we divide by 255 the max value, min value is 0.\n",
    "X=X/255.0"
   ]
  },
  {
   "cell_type": "code",
   "execution_count": 9,
   "metadata": {},
   "outputs": [],
   "source": [
    "n_test = 28350\n",
    "trainX, testX = X[:n_test, :], X[n_test:, :]\n",
    "trainy, testy = y[:n_test], y[n_test:]"
   ]
  },
  {
   "cell_type": "code",
   "execution_count": 23,
   "metadata": {},
   "outputs": [],
   "source": [
    "dense_layers = [2]\n",
    "layer_sizes = [128]\n",
    "conv_layers = [2]\n",
    "size = 150"
   ]
  },
  {
   "cell_type": "code",
   "execution_count": 29,
   "metadata": {},
   "outputs": [
    {
     "name": "stdout",
     "output_type": "stream",
     "text": [
      "2-conv-128-nodes-2-dense-150-dimension-1558578368\n",
      "Train on 19845 samples, validate on 8505 samples\n",
      "Epoch 1/30\n",
      "19845/19845 [==============================] - 170s 9ms/step - loss: 0.6465 - acc: 0.6866 - val_loss: 0.6307 - val_acc: 0.6963 ETA: 10s - loss: 0.6470 - ETA: 7s - loss: 0.6470 - acc:  - ETA: 6s\n",
      "Epoch 2/30\n",
      "19845/19845 [==============================] - 162s 8ms/step - loss: 0.6327 - acc: 0.6967 - val_loss: 0.6275 - val_acc: 0.6994\n",
      "Epoch 3/30\n",
      "19845/19845 [==============================] - 152s 8ms/step - loss: 0.6285 - acc: 0.6975 - val_loss: 0.6276 - val_acc: 0.6859\n",
      "Epoch 4/30\n",
      "19845/19845 [==============================] - 172s 9ms/step - loss: 0.6217 - acc: 0.6985 - val_loss: 0.6287 - val_acc: 0.6384\n",
      "Epoch 5/30\n",
      "19845/19845 [==============================] - 154s 8ms/step - loss: 0.6170 - acc: 0.6902 - val_loss: 0.6410 - val_acc: 0.7126\n",
      "Epoch 6/30\n",
      "19845/19845 [==============================] - 152s 8ms/step - loss: 0.6082 - acc: 0.6986 - val_loss: 0.6314 - val_acc: 0.6834\n",
      "Epoch 7/30\n",
      "19845/19845 [==============================] - 156s 8ms/step - loss: 0.5975 - acc: 0.6978 - val_loss: 0.6308 - val_acc: 0.6958\n",
      "Epoch 8/30\n",
      "19845/19845 [==============================] - 153s 8ms/step - loss: 0.5833 - acc: 0.7067 - val_loss: 0.6307 - val_acc: 0.6734\n",
      "Epoch 9/30\n",
      "19845/19845 [==============================] - 146s 7ms/step - loss: 0.5681 - acc: 0.7216 - val_loss: 0.6425 - val_acc: 0.6584. - ETA: 6s - loss: - ETA: 2s - loss: 0.5681 - acc: 0.721 - ETA: 2s - loss: 0.5680 -  - ETA: 0s - loss: 0.5683 - acc: 0.\n",
      "Epoch 10/30\n",
      "19845/19845 [==============================] - 156s 8ms/step - loss: 0.5476 - acc: 0.7394 - val_loss: 0.6538 - val_acc: 0.6641 loss:\n",
      "Epoch 11/30\n",
      "19845/19845 [==============================] - 160s 8ms/step - loss: 0.5229 - acc: 0.7525 - val_loss: 0.6564 - val_acc: 0.6349\n",
      "Epoch 12/30\n",
      "19845/19845 [==============================] - 153s 8ms/step - loss: 0.4956 - acc: 0.7723 - val_loss: 0.6830 - val_acc: 0.6784\n",
      "Epoch 13/30\n",
      "19845/19845 [==============================] - 153s 8ms/step - loss: 0.4674 - acc: 0.7885 - val_loss: 0.7042 - val_acc: 0.6527\n",
      "Epoch 14/30\n",
      "19845/19845 [==============================] - 153s 8ms/step - loss: 0.4327 - acc: 0.8084 - val_loss: 0.7332 - val_acc: 0.6500\n",
      "Epoch 15/30\n",
      "19845/19845 [==============================] - 157s 8ms/step - loss: 0.3990 - acc: 0.8276 - val_loss: 0.7715 - val_acc: 0.6661: 4s - loss: 0 - ETA: 1s - loss: 0.3993 - acc:\n",
      "Epoch 16/30\n",
      "19845/19845 [==============================] - 160s 8ms/step - loss: 0.3625 - acc: 0.8481 - val_loss: 0.8560 - val_acc: 0.6859\n",
      "Epoch 17/30\n",
      "19845/19845 [==============================] - 158s 8ms/step - loss: 0.3246 - acc: 0.8666 - val_loss: 0.8291 - val_acc: 0.6548\n",
      "Epoch 18/30\n",
      "19845/19845 [==============================] - 158s 8ms/step - loss: 0.2883 - acc: 0.8876 - val_loss: 0.8478 - val_acc: 0.6368\n",
      "Epoch 19/30\n",
      "19845/19845 [==============================] - 154s 8ms/step - loss: 0.2595 - acc: 0.9006 - val_loss: 0.9278 - val_acc: 0.6355: 7s - loss: 0.2586 - acc: - ETA\n",
      "Epoch 20/30\n",
      "19845/19845 [==============================] - 165s 8ms/step - loss: 0.2280 - acc: 0.9160 - val_loss: 1.0282 - val_acc: 0.6564\n",
      "Epoch 21/30\n",
      "19845/19845 [==============================] - 165s 8ms/step - loss: 0.1966 - acc: 0.9282 - val_loss: 1.0559 - val_acc: 0.6507\n",
      "Epoch 22/30\n",
      "19845/19845 [==============================] - 152s 8ms/step - loss: 0.1686 - acc: 0.9400 - val_loss: 1.0836 - val_acc: 0.6268.9 - ETA: 2s - loss: 0.168\n",
      "Epoch 23/30\n",
      "19845/19845 [==============================] - 151s 8ms/step - loss: 0.1454 - acc: 0.9514 - val_loss: 1.3666 - val_acc: 0.6788\n",
      "Epoch 24/30\n",
      "19845/19845 [==============================] - 151s 8ms/step - loss: 0.1260 - acc: 0.9593 - val_loss: 1.3117 - val_acc: 0.6455\n",
      "Epoch 25/30\n",
      "19845/19845 [==============================] - 145s 7ms/step - loss: 0.1141 - acc: 0.9622 - val_loss: 1.3976 - val_acc: 0.6630\n",
      "Epoch 26/30\n",
      "19845/19845 [==============================] - 132s 7ms/step - loss: 0.0996 - acc: 0.9689 - val_loss: 1.3666 - val_acc: 0.6262\n",
      "Epoch 27/30\n",
      "19845/19845 [==============================] - 137s 7ms/step - loss: 0.0896 - acc: 0.9714 - val_loss: 1.4683 - val_acc: 0.6513\n",
      "Epoch 28/30\n",
      "19845/19845 [==============================] - 143s 7ms/step - loss: 0.0759 - acc: 0.9775 - val_loss: 1.5156 - val_acc: 0.6474\n",
      "Epoch 29/30\n",
      "19845/19845 [==============================] - 144s 7ms/step - loss: 0.0646 - acc: 0.9803 - val_loss: 1.7060 - val_acc: 0.6663\n",
      "Epoch 30/30\n",
      "19845/19845 [==============================] - 141s 7ms/step - loss: 0.0591 - acc: 0.9819 - val_loss: 1.9623 - val_acc: 0.6768\n"
     ]
    }
   ],
   "source": [
    "for dense_layer in dense_layers:\n",
    "    for layer_size in layer_sizes:\n",
    "        for conv_layer in conv_layers:\n",
    "            NAME = \"{}-conv-{}-nodes-{}-dense-{}-dimension-{}\".format(conv_layer, layer_size, dense_layer, size, int(time.time()))\n",
    "            \n",
    "            print(NAME)\n",
    "            #build our model with sequential\n",
    "            model = Sequential()\n",
    "            \n",
    "            # start with Conv layer 1 and pass layer sizes, 9x9 window, input data features\n",
    "            model.add(Conv2D(layer_size, (9,9), input_shape = X.shape[1:]))\n",
    "            padding='same'\n",
    "            \n",
    "            #after convolution pass activation layer 1 with 'rectified linear'\n",
    "            model.add(Activation(\"relu\"))\n",
    "            \n",
    "            #pass max pooling layer 1 with 7x7\n",
    "            model.add(MaxPooling2D(pool_size=(7,7)))\n",
    "            model.add(Dropout(0.3))\n",
    "                       \n",
    "            #need to flatten before passing to dense layer\n",
    "            model.add(Flatten()) \n",
    "            for l in range(dense_layer):\n",
    "                model.add(Dense(layer_size))\n",
    "                model.add(Activation(\"relu\"))\n",
    "            \n",
    "            #add finally an output dense layer of size 1\n",
    "            model.add(Dense(1))\n",
    "            model.add(Activation('sigmoid'))\n",
    "            \n",
    "            tensorboard = TensorBoard(log_dir= 'logs/{}'.format(NAME))\n",
    "            \n",
    "            #compile our model and measure the performance of classification \n",
    "            #Adam is a popular algorithm in the field of deep learning because it achieves good results fast\n",
    "            \n",
    "            # simple early stopping\n",
    "            #es = EarlyStopping(monitor='val_loss', mode='min', verbose=1)\n",
    "            \n",
    "            opt = Adam(lr=0.0001, decay=1e-6)\n",
    "            \n",
    "            model.compile(loss='binary_crossentropy',\n",
    "                          optimizer=opt,\n",
    "                          metrics=['accuracy'])\n",
    "            \n",
    "            #unbalanced class with more negatives 8705 than positives 4862\n",
    "            class_weights = {0: 1.0,\n",
    "                            1: 1.8} #8705/4862\n",
    "            \n",
    "            #fit model set how many to pass as a time in batch size, with 30% for validation\n",
    "            model.fit(trainX, trainy, class_weight=class_weights, batch_size=32, epochs=30, validation_split=0.3,\n",
    "                       callbacks=[tensorboard])"
   ]
  },
  {
   "cell_type": "code",
   "execution_count": 30,
   "metadata": {},
   "outputs": [],
   "source": [
    "# predict probabilities for test set\n",
    "yhat_probs = model.predict(testX, verbose=0)\n",
    "# predict crisp classes for test set\n",
    "yhat_classes = model.predict_classes(testX, verbose=0)\n",
    "# reduce to 1d array\n",
    "yhat_probs = yhat_probs[:, 0]\n",
    "yhat_classes = yhat_classes[:, 0]"
   ]
  },
  {
   "cell_type": "code",
   "execution_count": 26,
   "metadata": {},
   "outputs": [],
   "source": [
    "from sklearn.metrics import accuracy_score, precision_score, recall_score, f1_score, roc_auc_score, confusion_matrix, roc_curve\n",
    "import matplotlib.pyplot as plt"
   ]
  },
  {
   "cell_type": "code",
   "execution_count": 31,
   "metadata": {},
   "outputs": [
    {
     "name": "stdout",
     "output_type": "stream",
     "text": [
      "Accuracy: 0.678002\n",
      "Precision: 0.649142\n",
      "Recall: 0.678002\n",
      "F1 score: 0.658541\n",
      "ROC AUC: 0.630220\n"
     ]
    }
   ],
   "source": [
    "# accuracy: (tp + tn) / (p + n)\n",
    "accuracy = accuracy_score(testy, yhat_classes)\n",
    "print('Accuracy: %f' % accuracy)\n",
    "# precision tp / (tp + fp)\n",
    "precision = precision_score(testy, yhat_classes, average='weighted')\n",
    "print('Precision: %f' % precision)\n",
    "# recall: tp / (tp + fn)\n",
    "recall = recall_score(testy, yhat_classes, average='weighted')\n",
    "print('Recall: %f' % recall)\n",
    "# f1: 2 tp / (2 tp + fp + fn)\n",
    "f1 = f1_score(testy, yhat_classes, average='weighted')\n",
    "print('F1 score: %f' % f1)\n",
    "# ROC AUC\n",
    "auc = roc_auc_score(testy, yhat_probs, average='weighted')\n",
    "print('ROC AUC: %f' % auc)"
   ]
  },
  {
   "cell_type": "code",
   "execution_count": 34,
   "metadata": {},
   "outputs": [
    {
     "data": {
      "image/png": "[encoded data removed]",
      "text/plain": [
       "<Figure size 720x576 with 1 Axes>"
      ]
     },
     "metadata": {
      "needs_background": "light"
     },
     "output_type": "display_data"
    }
   ],
   "source": [
    "# calculate roc curve\n",
    "fpr, tpr, thresholds = roc_curve(testy, yhat_probs)\n",
    "# plot the roc curve for the model\n",
    "plt.plot(fpr, tpr, marker='.', linewidth=2, label='AUC = 0.630220')\n",
    "plt.plot([0, 1], [0, 1], linestyle='--', label='Random guess')\n",
    "plt.title('CNN ROC 128 Hidden Neurons', fontsize=15)\n",
    "plt.legend(loc=\"lower right\", fontsize=15)\n",
    "plt.rcParams[\"figure.figsize\"]=10,8\n",
    "#plt.plot ([0, 1], [0, 1], linestyle='--', color='gray', linewidth=2)\n",
    "plt.xlim([-0.1, 1.1])\n",
    "plt.ylim([-0.1, 1.1])\n",
    "plt.grid()\n",
    "plt.xlabel('false positive rate', fontsize=15)\n",
    "plt.ylabel('true positive rate', fontsize=15)\n",
    "# show the plot\n",
    "plt.show()"
   ]
  },
  {
   "cell_type": "code",
   "execution_count": 34,
   "metadata": {},
   "outputs": [
    {
     "name": "stdout",
     "output_type": "stream",
     "text": [
      "Accuracy: 0.755313\n",
      "Precision: 0.721724\n",
      "Recall: 0.755313\n",
      "F1 score: 0.736888\n",
      "ROC AUC: 0.794973\n"
     ]
    }
   ],
   "source": [
    "# accuracy: (tp + tn) / (p + n)\n",
    "accuracy = accuracy_score(testy, yhat_classes)\n",
    "print('Accuracy: %f' % accuracy)\n",
    "# precision tp / (tp + fp)\n",
    "precision = precision_score(testy, yhat_classes, average='weighted')\n",
    "print('Precision: %f' % precision)\n",
    "# recall: tp / (tp + fn)\n",
    "recall = recall_score(testy, yhat_classes, average='weighted')\n",
    "print('Recall: %f' % recall)\n",
    "# f1: 2 tp / (2 tp + fp + fn)\n",
    "f1 = f1_score(testy, yhat_classes, average='weighted')\n",
    "print('F1 score: %f' % f1)\n",
    "# ROC AUC\n",
    "auc = roc_auc_score(testy, yhat_probs, average='weighted')\n",
    "print('ROC AUC: %f' % auc)"
   ]
  },
  {
   "cell_type": "code",
   "execution_count": 59,
   "metadata": {},
   "outputs": [
    {
     "data": {
      "image/png": "[encoded data removed]",
      "text/plain": [
       "<Figure size 1080x720 with 1 Axes>"
      ]
     },
     "metadata": {
      "needs_background": "light"
     },
     "output_type": "display_data"
    }
   ],
   "source": [
    "# calculate roc curve\n",
    "fpr, tpr, thresholds = roc_curve(testy, yhat_probs)\n",
    "# plot the roc curve for the model\n",
    "plt.plot(fpr, tpr, marker='.', linewidth=2, label='AUC = 0.7949')\n",
    "plt.plot([0, 1], [0, 1], linestyle='--', label='Random guess')\n",
    "plt.title('CNN ROC', fontsize=15)\n",
    "plt.legend(loc=\"lower right\", fontsize=15)\n",
    "plt.rcParams[\"figure.figsize\"]=10,8\n",
    "#plt.plot ([0, 1], [0, 1], linestyle='--', color='gray', linewidth=2)\n",
    "plt.xlim([-0.1, 1.1])\n",
    "plt.ylim([-0.1, 1.1])\n",
    "plt.grid()\n",
    "plt.xlabel('false positive rate', fontsize=15)\n",
    "plt.ylabel('true positive rate', fontsize=15)\n",
    "# show the plot\n",
    "plt.show()"
   ]
  },
  {
   "cell_type": "code",
   "execution_count": 35,
   "metadata": {},
   "outputs": [
    {
     "name": "stdout",
     "output_type": "stream",
     "text": [
      "[[3031  315]\n",
      " [ 871  630]]\n"
     ]
    }
   ],
   "source": [
    "from sklearn.metrics import confusion_matrix\n",
    "cm = confusion_matrix(testy, yhat_classes)\n",
    "print(cm)"
   ]
  },
  {
   "cell_type": "code",
   "execution_count": null,
   "metadata": {},
   "outputs": [],
   "source": []
  },
  {
   "cell_type": "code",
   "execution_count": 24,
   "metadata": {},
   "outputs": [],
   "source": [
    "from sklearn.metrics import precision_recall_curve\n",
    "from sklearn.metrics import f1_score\n",
    "from sklearn.metrics import auc\n",
    "from sklearn.metrics import average_precision_score"
   ]
  },
  {
   "cell_type": "code",
   "execution_count": 37,
   "metadata": {},
   "outputs": [
    {
     "name": "stdout",
     "output_type": "stream",
     "text": [
      "f1=0.737 auc=0.795 ap=0.685\n"
     ]
    },
    {
     "data": {
      "image/png": "[encoded data removed]",
      "text/plain": [
       "<Figure size 1080x720 with 1 Axes>"
      ]
     },
     "metadata": {
      "needs_background": "light"
     },
     "output_type": "display_data"
    }
   ],
   "source": [
    "# calculate precision-recall curve\n",
    "precision, recall, thresholds = precision_recall_curve(testy, yhat_probs)\n",
    "# calculate F1 score\n",
    "f1 = f1_score(testy, yhat_classes, average='weighted')\n",
    "# calculate precision-recall AUC\n",
    "#auc = auc(recall, precision, average='weighted')\n",
    "auc=roc_auc_score(testy, yhat_probs, average='weighted')\n",
    "# calculate average precision score\n",
    "ap = average_precision_score(testy, yhat_probs, average='weighted')\n",
    "print('f1=%.3f auc=%.3f ap=%.3f' % (f1, auc, ap))\n",
    "# plot no skill\n",
    "plt.plot([0, 1], [0.5, 0.5], linestyle='--')\n",
    "# plot the precision-recall curve for the model\n",
    "plt.plot(recall, precision, marker='.')\n",
    "plt.title('Precision-recall curve')\n",
    "# show the plot\n",
    "plt.show()"
   ]
  },
  {
   "cell_type": "code",
   "execution_count": 17,
   "metadata": {},
   "outputs": [],
   "source": [
    "dense_layers = [1,2,3]\n",
    "layer_sizes = [64]\n",
    "conv_layers = [1,2,3]\n",
    "size = 100"
   ]
  },
  {
   "cell_type": "code",
   "execution_count": 12,
   "metadata": {},
   "outputs": [
    {
     "name": "stdout",
     "output_type": "stream",
     "text": [
      "1-conv-32-nodes-2-dense-100-dimension-1555551030\n",
      "Train on 17500 samples, validate on 7500 samples\n",
      "Epoch 1/10\n",
      "17500/17500 [==============================] - 23s 1ms/step - loss: 0.5539 - acc: 0.6586 - val_loss: 0.5220 - val_acc: 0.7077\n",
      "Epoch 2/10\n",
      "17500/17500 [==============================] - 21s 1ms/step - loss: 0.5213 - acc: 0.7060 - val_loss: 0.5168 - val_acc: 0.7175\n",
      "Epoch 3/10\n",
      "17500/17500 [==============================] - 21s 1ms/step - loss: 0.5162 - acc: 0.7167 - val_loss: 0.5158 - val_acc: 0.7299\n",
      "Epoch 4/10\n",
      "17500/17500 [==============================] - 21s 1ms/step - loss: 0.5119 - acc: 0.7259 - val_loss: 0.5070 - val_acc: 0.7259\n",
      "Epoch 5/10\n",
      "17500/17500 [==============================] - 21s 1ms/step - loss: 0.5053 - acc: 0.7317 - val_loss: 0.5074 - val_acc: 0.7416\n",
      "Epoch 6/10\n",
      "17500/17500 [==============================] - 21s 1ms/step - loss: 0.4986 - acc: 0.7392 - val_loss: 0.5028 - val_acc: 0.7363\n",
      "Epoch 7/10\n",
      "17500/17500 [==============================] - 21s 1ms/step - loss: 0.4953 - acc: 0.7357 - val_loss: 0.5031 - val_acc: 0.7360\n",
      "Epoch 8/10\n",
      "17500/17500 [==============================] - 21s 1ms/step - loss: 0.4900 - acc: 0.7433 - val_loss: 0.5106 - val_acc: 0.7419\n",
      "Epoch 9/10\n",
      "17500/17500 [==============================] - 21s 1ms/step - loss: 0.4856 - acc: 0.7468 - val_loss: 0.5055 - val_acc: 0.7512\n",
      "Epoch 10/10\n",
      "17500/17500 [==============================] - 21s 1ms/step - loss: 0.4812 - acc: 0.7518 - val_loss: 0.5083 - val_acc: 0.7309\n",
      "2-conv-32-nodes-2-dense-100-dimension-1555551245\n",
      "Train on 17500 samples, validate on 7500 samples\n",
      "Epoch 1/10\n",
      "17500/17500 [==============================] - 22s 1ms/step - loss: 0.5523 - acc: 0.6365 - val_loss: 0.5221 - val_acc: 0.7143\n",
      "Epoch 2/10\n",
      "17500/17500 [==============================] - 21s 1ms/step - loss: 0.5186 - acc: 0.7154 - val_loss: 0.5077 - val_acc: 0.7275\n",
      "Epoch 3/10\n",
      "17500/17500 [==============================] - 21s 1ms/step - loss: 0.5127 - acc: 0.7230 - val_loss: 0.5063 - val_acc: 0.7415\n",
      "Epoch 4/10\n",
      "17500/17500 [==============================] - 22s 1ms/step - loss: 0.5090 - acc: 0.7250 - val_loss: 0.5052 - val_acc: 0.7388\n",
      "Epoch 5/10\n",
      "17500/17500 [==============================] - 22s 1ms/step - loss: 0.5045 - acc: 0.7333 - val_loss: 0.5052 - val_acc: 0.7337039 - acc: 0.73 - ETA: 0s - loss: 0.5038 - acc: 0.\n",
      "Epoch 6/10\n",
      "17500/17500 [==============================] - 21s 1ms/step - loss: 0.4988 - acc: 0.7360 - val_loss: 0.5015 - val_acc: 0.7264\n",
      "Epoch 7/10\n",
      "17500/17500 [==============================] - 21s 1ms/step - loss: 0.4955 - acc: 0.7365 - val_loss: 0.5041 - val_acc: 0.7456\n",
      "Epoch 8/10\n",
      "17500/17500 [==============================] - 22s 1ms/step - loss: 0.4876 - acc: 0.7446 - val_loss: 0.5006 - val_acc: 0.7312\n",
      "Epoch 9/10\n",
      "17500/17500 [==============================] - 20s 1ms/step - loss: 0.4801 - acc: 0.7555 - val_loss: 0.5033 - val_acc: 0.7193\n",
      "Epoch 10/10\n",
      "17500/17500 [==============================] - 20s 1ms/step - loss: 0.4745 - acc: 0.7542 - val_loss: 0.5063 - val_acc: 0.7013\n",
      "3-conv-32-nodes-2-dense-100-dimension-1555551458\n",
      "Train on 17500 samples, validate on 7500 samples\n",
      "Epoch 1/10\n",
      "17500/17500 [==============================] - 21s 1ms/step - loss: 0.5521 - acc: 0.6570 - val_loss: 0.5215 - val_acc: 0.6491\n",
      "Epoch 2/10\n",
      "17500/17500 [==============================] - 21s 1ms/step - loss: 0.5220 - acc: 0.7054 - val_loss: 0.5172 - val_acc: 0.6911acc\n",
      "Epoch 3/10\n",
      "17500/17500 [==============================] - 22s 1ms/step - loss: 0.5114 - acc: 0.7271 - val_loss: 0.5068 - val_acc: 0.7257\n",
      "Epoch 4/10\n",
      "17500/17500 [==============================] - 21s 1ms/step - loss: 0.5040 - acc: 0.7319 - val_loss: 0.5044 - val_acc: 0.7475\n",
      "Epoch 5/10\n",
      "17500/17500 [==============================] - 22s 1ms/step - loss: 0.4986 - acc: 0.7367 - val_loss: 0.5015 - val_acc: 0.7505\n",
      "Epoch 6/10\n",
      "17500/17500 [==============================] - 20s 1ms/step - loss: 0.4948 - acc: 0.7411 - val_loss: 0.5063 - val_acc: 0.7435\n",
      "Epoch 7/10\n",
      "17500/17500 [==============================] - 22s 1ms/step - loss: 0.4919 - acc: 0.7372 - val_loss: 0.4945 - val_acc: 0.7311\n",
      "Epoch 8/10\n",
      "17500/17500 [==============================] - 21s 1ms/step - loss: 0.4856 - acc: 0.7437 - val_loss: 0.4981 - val_acc: 0.7337\n",
      "Epoch 9/10\n",
      "17500/17500 [==============================] - 22s 1ms/step - loss: 0.4755 - acc: 0.7517 - val_loss: 0.5104 - val_acc: 0.7537\n",
      "Epoch 10/10\n",
      "17500/17500 [==============================] - 20s 1ms/step - loss: 0.4731 - acc: 0.7486 - val_loss: 0.4971 - val_acc: 0.7289\n"
     ]
    }
   ],
   "source": [
    "for dense_layer in dense_layers:\n",
    "    for layer_size in layer_sizes:\n",
    "        for conv_layer in conv_layers:\n",
    "            NAME = \"{}-conv-{}-nodes-{}-dense-{}-dimension-{}\".format(conv_layer, layer_size, dense_layer, size, int(time.time()))\n",
    "            \n",
    "            print(NAME)\n",
    "            #build our model with sequential\n",
    "            model = Sequential()\n",
    "            \n",
    "            # start with Conv layer 1 and pass layer sizes, 3x3 window, input data features\n",
    "            model.add(Conv2D(layer_size, (9,9), input_shape = X.shape[1:]))\n",
    "            padding='same'\n",
    "            \n",
    "            #after convolution pass activation layer 1 with 'rectified linear'\n",
    "            model.add(Activation(\"relu\"))\n",
    "            \n",
    "            #pass max pooling layer 1 with 2x2\n",
    "            model.add(MaxPooling2D(pool_size=(7,7)))\n",
    "            model.add(Dropout(0.3))\n",
    "            \n",
    "            #Conv layer, activation and pooling layers 2\n",
    "            #for l in range(conv_layer-1):\n",
    "             #   model.add(Conv2D(layer_size, (7,7)))\n",
    "             #   model.add(Activation(\"relu\"))\n",
    "             #   model.add(MaxPooling2D(pool_size=(5,5)))\n",
    "             #   model.add(Dropout(0.1))\n",
    "            \n",
    "            #need to flatten before passing to dense layer\n",
    "            model.add(Flatten()) \n",
    "            for l in range(dense_layer):\n",
    "                model.add(Dense(layer_size))\n",
    "                model.add(Activation(\"relu\"))\n",
    "            \n",
    "            #add finally an output dense layer of size 1\n",
    "            model.add(Dense(1))\n",
    "            model.add(Activation('sigmoid'))\n",
    "            \n",
    "            tensorboard = TensorBoard(log_dir= 'logs/{}'.format(NAME))\n",
    "            \n",
    "            #compile our model and measure the performance of classification \n",
    "            #Adam is a popular algorithm in the field of deep learning because it achieves good results fast\n",
    "            \n",
    "            model.compile(loss='binary_crossentropy',\n",
    "                          optimizer='Adam',\n",
    "                          metrics=['accuracy'])\n",
    "            \n",
    "            #unbalanced class with more negatives 8705 than positives 4862\n",
    "            class_weights = {0: 1.0,\n",
    "                            1: 1.8} #8705/4862\n",
    "            \n",
    "            #fit model set how many to pass as a time in batch size, with 30% for validation\n",
    "            model.fit(trainX, trainy, class_weight=class_weights, batch_size=20, epochs=10, validation_split=0.3, callbacks=[tensorboard])"
   ]
  },
  {
   "cell_type": "code",
   "execution_count": 11,
   "metadata": {},
   "outputs": [
    {
     "name": "stdout",
     "output_type": "stream",
     "text": [
      "_________________________________________________________________\n",
      "Layer (type)                 Output Shape              Param #   \n",
      "=================================================================\n",
      "conv2d (Conv2D)              (None, 92, 92, 64)        15616     \n",
      "_________________________________________________________________\n",
      "activation (Activation)      (None, 92, 92, 64)        0         \n",
      "_________________________________________________________________\n",
      "max_pooling2d (MaxPooling2D) (None, 13, 13, 64)        0         \n",
      "_________________________________________________________________\n",
      "dropout (Dropout)            (None, 13, 13, 64)        0         \n",
      "_________________________________________________________________\n",
      "flatten (Flatten)            (None, 10816)             0         \n",
      "_________________________________________________________________\n",
      "dense (Dense)                (None, 64)                692288    \n",
      "_________________________________________________________________\n",
      "activation_1 (Activation)    (None, 64)                0         \n",
      "_________________________________________________________________\n",
      "dense_1 (Dense)              (None, 64)                4160      \n",
      "_________________________________________________________________\n",
      "activation_2 (Activation)    (None, 64)                0         \n",
      "_________________________________________________________________\n",
      "dense_2 (Dense)              (None, 1)                 65        \n",
      "_________________________________________________________________\n",
      "activation_3 (Activation)    (None, 1)                 0         \n",
      "=================================================================\n",
      "Total params: 712,129\n",
      "Trainable params: 712,129\n",
      "Non-trainable params: 0\n",
      "_________________________________________________________________\n"
     ]
    }
   ],
   "source": [
    "model.summary()"
   ]
  },
  {
   "cell_type": "code",
   "execution_count": 19,
   "metadata": {},
   "outputs": [],
   "source": [
    "# predict probabilities for test set\n",
    "yhat_probs = model.predict(testX, verbose=0)\n",
    "# predict crisp classes for test set\n",
    "yhat_classes = model.predict_classes(testX, verbose=0)\n",
    "# reduce to 1d array\n",
    "yhat_probs = yhat_probs[:, 0]\n",
    "yhat_classes = yhat_classes[:, 0]"
   ]
  },
  {
   "cell_type": "code",
   "execution_count": 33,
   "metadata": {},
   "outputs": [],
   "source": [
    "from sklearn.metrics import accuracy_score, precision_score, recall_score, f1_score, roc_auc_score, confusion_matrix"
   ]
  },
  {
   "cell_type": "code",
   "execution_count": 62,
   "metadata": {},
   "outputs": [
    {
     "name": "stdout",
     "output_type": "stream",
     "text": [
      "Accuracy: 0.714137\n",
      "Precision: 0.603194\n",
      "Recall: 0.714137\n",
      "F1 score: 0.650706\n"
     ]
    }
   ],
   "source": [
    "# accuracy: (tp + tn) / (p + n)\n",
    "accuracy = accuracy_score(testy, yhat_classes)\n",
    "print('Accuracy: %f' % accuracy)\n",
    "# precision tp / (tp + fp)\n",
    "precision = precision_score(testy, yhat_classes, average='macro')\n",
    "print('Precision: %f' % precision)\n",
    "# recall: tp / (tp + fn)\n",
    "recall = recall_score(testy, yhat_classes, average='weighted')\n",
    "print('Recall: %f' % recall)\n",
    "# f1: 2 tp / (2 tp + fp + fn)\n",
    "f1 = f1_score(testy, yhat_classes, average='weighted')\n",
    "print('F1 score: %f' % f1)"
   ]
  },
  {
   "cell_type": "code",
   "execution_count": 63,
   "metadata": {},
   "outputs": [
    {
     "name": "stdout",
     "output_type": "stream",
     "text": [
      "ROC AUC: 0.619653\n"
     ]
    }
   ],
   "source": [
    "# ROC AUC\n",
    "auc = roc_auc_score(testy, yhat_probs, average='weighted')\n",
    "print('ROC AUC: %f' % auc)"
   ]
  },
  {
   "cell_type": "code",
   "execution_count": 120,
   "metadata": {},
   "outputs": [
    {
     "name": "stderr",
     "output_type": "stream",
     "text": [
      "No handles with labels found to put in legend.\n"
     ]
    },
    {
     "data": {
      "image/png": "[encoded data removed]",
      "text/plain": [
       "<Figure size 1080x720 with 1 Axes>"
      ]
     },
     "metadata": {
      "needs_background": "light"
     },
     "output_type": "display_data"
    }
   ],
   "source": [
    "import matplotlib.pyplot as plt\n",
    "\n",
    "# calculate roc curve\n",
    "fpr, tpr, thresholds = roc_curve(testy, yhat_probs)\n",
    "# plot no skill\n",
    "plt.plot([0, 1], [0, 1], linestyle='--')\n",
    "# plot the roc curve for the model\n",
    "plt.plot(fpr, tpr, marker='.', linewidth=2)\n",
    "plt.title('CNN ROC', fontsize=15)\n",
    "plt.legend(loc=\"lower right\", fontsize=15)\n",
    "plt.rcParams[\"figure.figsize\"]=15,10\n",
    "#plt.plot ([0, 1], [0, 1], linestyle='--', color='gray', linewidth=2)\n",
    "plt.xlim([-0.1, 1.1])\n",
    "plt.ylim([-0.1, 1.1])\n",
    "plt.grid()\n",
    "plt.xlabel('false positive rate', fontsize=15)\n",
    "plt.ylabel('true positive rate', fontsize=15)\n",
    "# show the plot\n",
    "plt.show()"
   ]
  },
  {
   "cell_type": "code",
   "execution_count": 117,
   "metadata": {},
   "outputs": [],
   "source": [
    "from sklearn.metrics import precision_recall_curve\n",
    "from sklearn.metrics import f1_score\n",
    "from sklearn.metrics import auc\n",
    "from sklearn.metrics import average_precision_score"
   ]
  },
  {
   "cell_type": "code",
   "execution_count": 118,
   "metadata": {},
   "outputs": [
    {
     "name": "stdout",
     "output_type": "stream",
     "text": [
      "f1=0.651 auc=0.620 ap=0.378\n"
     ]
    },
    {
     "data": {
      "image/png": "[encoded data removed]",
      "text/plain": [
       "<Figure size 1080x720 with 1 Axes>"
      ]
     },
     "metadata": {
      "needs_background": "light"
     },
     "output_type": "display_data"
    }
   ],
   "source": [
    "# calculate precision-recall curve\n",
    "precision, recall, thresholds = precision_recall_curve(testy, yhat_probs)\n",
    "# calculate F1 score\n",
    "f1 = f1_score(testy, yhat_classes, average='weighted')\n",
    "# calculate precision-recall AUC\n",
    "#auc = auc(recall, precision, average='weighted')\n",
    "auc=roc_auc_score(testy, yhat_probs, average='weighted')\n",
    "# calculate average precision score\n",
    "ap = average_precision_score(testy, yhat_probs, average='weighted')\n",
    "print('f1=%.3f auc=%.3f ap=%.3f' % (f1, auc, ap))\n",
    "# plot no skill\n",
    "pyplot.plot([0, 1], [0.5, 0.5], linestyle='--')\n",
    "# plot the precision-recall curve for the model\n",
    "pyplot.plot(recall, precision, marker='.')\n",
    "# show the plot\n",
    "pyplot.show()"
   ]
  },
  {
   "cell_type": "code",
   "execution_count": 19,
   "metadata": {},
   "outputs": [
    {
     "name": "stdout",
     "output_type": "stream",
     "text": [
      "3-conv-64-nodes-1-dense-100-dimension-1553674093\n"
     ]
    },
    {
     "ename": "ValueError",
     "evalue": "Negative dimension size caused by subtracting 11 from 10 for 'conv2d_23/Conv2D' (op: 'Conv2D') with input shapes: [?,10,10,64], [11,11,64,64].",
     "output_type": "error",
     "traceback": [
      "\u001b[1;31m---------------------------------------------------------------------------\u001b[0m",
      "\u001b[1;31mInvalidArgumentError\u001b[0m                      Traceback (most recent call last)",
      "\u001b[1;32m~\\AppData\\Local\\conda\\conda\\envs\\tensorflow-gpu\\lib\\site-packages\\tensorflow\\python\\framework\\ops.py\u001b[0m in \u001b[0;36m_create_c_op\u001b[1;34m(graph, node_def, inputs, control_inputs)\u001b[0m\n\u001b[0;32m   1625\u001b[0m   \u001b[1;32mtry\u001b[0m\u001b[1;33m:\u001b[0m\u001b[1;33m\u001b[0m\u001b[0m\n\u001b[1;32m-> 1626\u001b[1;33m     \u001b[0mc_op\u001b[0m \u001b[1;33m=\u001b[0m \u001b[0mc_api\u001b[0m\u001b[1;33m.\u001b[0m\u001b[0mTF_FinishOperation\u001b[0m\u001b[1;33m(\u001b[0m\u001b[0mop_desc\u001b[0m\u001b[1;33m)\u001b[0m\u001b[1;33m\u001b[0m\u001b[0m\n\u001b[0m\u001b[0;32m   1627\u001b[0m   \u001b[1;32mexcept\u001b[0m \u001b[0merrors\u001b[0m\u001b[1;33m.\u001b[0m\u001b[0mInvalidArgumentError\u001b[0m \u001b[1;32mas\u001b[0m \u001b[0me\u001b[0m\u001b[1;33m:\u001b[0m\u001b[1;33m\u001b[0m\u001b[0m\n",
      "\u001b[1;31mInvalidArgumentError\u001b[0m: Negative dimension size caused by subtracting 11 from 10 for 'conv2d_23/Conv2D' (op: 'Conv2D') with input shapes: [?,10,10,64], [11,11,64,64].",
      "\nDuring handling of the above exception, another exception occurred:\n",
      "\u001b[1;31mValueError\u001b[0m                                Traceback (most recent call last)",
      "\u001b[1;32m<ipython-input-19-b72b035d3a9b>\u001b[0m in \u001b[0;36m<module>\u001b[1;34m\u001b[0m\n\u001b[0;32m     20\u001b[0m             \u001b[1;31m#Conv layer, activation and pooling layers 2\u001b[0m\u001b[1;33m\u001b[0m\u001b[1;33m\u001b[0m\u001b[0m\n\u001b[0;32m     21\u001b[0m             \u001b[1;32mfor\u001b[0m \u001b[0ml\u001b[0m \u001b[1;32min\u001b[0m \u001b[0mrange\u001b[0m\u001b[1;33m(\u001b[0m\u001b[0mconv_layer\u001b[0m\u001b[1;33m-\u001b[0m\u001b[1;36m1\u001b[0m\u001b[1;33m)\u001b[0m\u001b[1;33m:\u001b[0m\u001b[1;33m\u001b[0m\u001b[0m\n\u001b[1;32m---> 22\u001b[1;33m                 \u001b[0mmodel\u001b[0m\u001b[1;33m.\u001b[0m\u001b[0madd\u001b[0m\u001b[1;33m(\u001b[0m\u001b[0mConv2D\u001b[0m\u001b[1;33m(\u001b[0m\u001b[0mlayer_size\u001b[0m\u001b[1;33m,\u001b[0m \u001b[1;33m(\u001b[0m\u001b[1;36m11\u001b[0m\u001b[1;33m,\u001b[0m\u001b[1;36m11\u001b[0m\u001b[1;33m)\u001b[0m\u001b[1;33m)\u001b[0m\u001b[1;33m)\u001b[0m\u001b[1;33m\u001b[0m\u001b[0m\n\u001b[0m\u001b[0;32m     23\u001b[0m                 \u001b[0mmodel\u001b[0m\u001b[1;33m.\u001b[0m\u001b[0madd\u001b[0m\u001b[1;33m(\u001b[0m\u001b[0mActivation\u001b[0m\u001b[1;33m(\u001b[0m\u001b[1;34m\"relu\"\u001b[0m\u001b[1;33m)\u001b[0m\u001b[1;33m)\u001b[0m\u001b[1;33m\u001b[0m\u001b[0m\n\u001b[0;32m     24\u001b[0m                 \u001b[0mmodel\u001b[0m\u001b[1;33m.\u001b[0m\u001b[0madd\u001b[0m\u001b[1;33m(\u001b[0m\u001b[0mMaxPooling2D\u001b[0m\u001b[1;33m(\u001b[0m\u001b[0mpool_size\u001b[0m\u001b[1;33m=\u001b[0m\u001b[1;33m(\u001b[0m\u001b[1;36m9\u001b[0m\u001b[1;33m,\u001b[0m\u001b[1;36m9\u001b[0m\u001b[1;33m)\u001b[0m\u001b[1;33m)\u001b[0m\u001b[1;33m)\u001b[0m\u001b[1;33m\u001b[0m\u001b[0m\n",
      "\u001b[1;32m~\\AppData\\Local\\conda\\conda\\envs\\tensorflow-gpu\\lib\\site-packages\\tensorflow\\python\\training\\checkpointable\\base.py\u001b[0m in \u001b[0;36m_method_wrapper\u001b[1;34m(self, *args, **kwargs)\u001b[0m\n\u001b[0;32m    424\u001b[0m     \u001b[0mself\u001b[0m\u001b[1;33m.\u001b[0m\u001b[0m_setattr_tracking\u001b[0m \u001b[1;33m=\u001b[0m \u001b[1;32mFalse\u001b[0m  \u001b[1;31m# pylint: disable=protected-access\u001b[0m\u001b[1;33m\u001b[0m\u001b[0m\n\u001b[0;32m    425\u001b[0m     \u001b[1;32mtry\u001b[0m\u001b[1;33m:\u001b[0m\u001b[1;33m\u001b[0m\u001b[0m\n\u001b[1;32m--> 426\u001b[1;33m       \u001b[0mmethod\u001b[0m\u001b[1;33m(\u001b[0m\u001b[0mself\u001b[0m\u001b[1;33m,\u001b[0m \u001b[1;33m*\u001b[0m\u001b[0margs\u001b[0m\u001b[1;33m,\u001b[0m \u001b[1;33m**\u001b[0m\u001b[0mkwargs\u001b[0m\u001b[1;33m)\u001b[0m\u001b[1;33m\u001b[0m\u001b[0m\n\u001b[0m\u001b[0;32m    427\u001b[0m     \u001b[1;32mfinally\u001b[0m\u001b[1;33m:\u001b[0m\u001b[1;33m\u001b[0m\u001b[0m\n\u001b[0;32m    428\u001b[0m       \u001b[0mself\u001b[0m\u001b[1;33m.\u001b[0m\u001b[0m_setattr_tracking\u001b[0m \u001b[1;33m=\u001b[0m \u001b[0mprevious_value\u001b[0m  \u001b[1;31m# pylint: disable=protected-access\u001b[0m\u001b[1;33m\u001b[0m\u001b[0m\n",
      "\u001b[1;32m~\\AppData\\Local\\conda\\conda\\envs\\tensorflow-gpu\\lib\\site-packages\\tensorflow\\python\\keras\\engine\\sequential.py\u001b[0m in \u001b[0;36madd\u001b[1;34m(self, layer)\u001b[0m\n\u001b[0;32m    173\u001b[0m       \u001b[1;31m# If the model is being built continuously on top of an input layer:\u001b[0m\u001b[1;33m\u001b[0m\u001b[1;33m\u001b[0m\u001b[0m\n\u001b[0;32m    174\u001b[0m       \u001b[1;31m# refresh its output.\u001b[0m\u001b[1;33m\u001b[0m\u001b[1;33m\u001b[0m\u001b[0m\n\u001b[1;32m--> 175\u001b[1;33m       \u001b[0moutput_tensor\u001b[0m \u001b[1;33m=\u001b[0m \u001b[0mlayer\u001b[0m\u001b[1;33m(\u001b[0m\u001b[0mself\u001b[0m\u001b[1;33m.\u001b[0m\u001b[0moutputs\u001b[0m\u001b[1;33m[\u001b[0m\u001b[1;36m0\u001b[0m\u001b[1;33m]\u001b[0m\u001b[1;33m)\u001b[0m\u001b[1;33m\u001b[0m\u001b[0m\n\u001b[0m\u001b[0;32m    176\u001b[0m       \u001b[1;32mif\u001b[0m \u001b[0misinstance\u001b[0m\u001b[1;33m(\u001b[0m\u001b[0moutput_tensor\u001b[0m\u001b[1;33m,\u001b[0m \u001b[0mlist\u001b[0m\u001b[1;33m)\u001b[0m\u001b[1;33m:\u001b[0m\u001b[1;33m\u001b[0m\u001b[0m\n\u001b[0;32m    177\u001b[0m         raise TypeError('All layers in a Sequential model '\n",
      "\u001b[1;32m~\\AppData\\Local\\conda\\conda\\envs\\tensorflow-gpu\\lib\\site-packages\\tensorflow\\python\\keras\\engine\\base_layer.py\u001b[0m in \u001b[0;36m__call__\u001b[1;34m(self, inputs, *args, **kwargs)\u001b[0m\n\u001b[0;32m    767\u001b[0m \u001b[1;33m\u001b[0m\u001b[0m\n\u001b[0;32m    768\u001b[0m       \u001b[1;32mif\u001b[0m \u001b[1;32mnot\u001b[0m \u001b[0min_deferred_mode\u001b[0m\u001b[1;33m:\u001b[0m\u001b[1;33m\u001b[0m\u001b[0m\n\u001b[1;32m--> 769\u001b[1;33m         \u001b[0moutputs\u001b[0m \u001b[1;33m=\u001b[0m \u001b[0mself\u001b[0m\u001b[1;33m.\u001b[0m\u001b[0mcall\u001b[0m\u001b[1;33m(\u001b[0m\u001b[0minputs\u001b[0m\u001b[1;33m,\u001b[0m \u001b[1;33m*\u001b[0m\u001b[0margs\u001b[0m\u001b[1;33m,\u001b[0m \u001b[1;33m**\u001b[0m\u001b[0mkwargs\u001b[0m\u001b[1;33m)\u001b[0m\u001b[1;33m\u001b[0m\u001b[0m\n\u001b[0m\u001b[0;32m    770\u001b[0m         \u001b[1;32mif\u001b[0m \u001b[0moutputs\u001b[0m \u001b[1;32mis\u001b[0m \u001b[1;32mNone\u001b[0m\u001b[1;33m:\u001b[0m\u001b[1;33m\u001b[0m\u001b[0m\n\u001b[0;32m    771\u001b[0m           raise ValueError('A layer\\'s `call` method should return a Tensor '\n",
      "\u001b[1;32m~\\AppData\\Local\\conda\\conda\\envs\\tensorflow-gpu\\lib\\site-packages\\tensorflow\\python\\keras\\layers\\convolutional.py\u001b[0m in \u001b[0;36mcall\u001b[1;34m(self, inputs)\u001b[0m\n\u001b[0;32m    184\u001b[0m \u001b[1;33m\u001b[0m\u001b[0m\n\u001b[0;32m    185\u001b[0m   \u001b[1;32mdef\u001b[0m \u001b[0mcall\u001b[0m\u001b[1;33m(\u001b[0m\u001b[0mself\u001b[0m\u001b[1;33m,\u001b[0m \u001b[0minputs\u001b[0m\u001b[1;33m)\u001b[0m\u001b[1;33m:\u001b[0m\u001b[1;33m\u001b[0m\u001b[0m\n\u001b[1;32m--> 186\u001b[1;33m     \u001b[0moutputs\u001b[0m \u001b[1;33m=\u001b[0m \u001b[0mself\u001b[0m\u001b[1;33m.\u001b[0m\u001b[0m_convolution_op\u001b[0m\u001b[1;33m(\u001b[0m\u001b[0minputs\u001b[0m\u001b[1;33m,\u001b[0m \u001b[0mself\u001b[0m\u001b[1;33m.\u001b[0m\u001b[0mkernel\u001b[0m\u001b[1;33m)\u001b[0m\u001b[1;33m\u001b[0m\u001b[0m\n\u001b[0m\u001b[0;32m    187\u001b[0m \u001b[1;33m\u001b[0m\u001b[0m\n\u001b[0;32m    188\u001b[0m     \u001b[1;32mif\u001b[0m \u001b[0mself\u001b[0m\u001b[1;33m.\u001b[0m\u001b[0muse_bias\u001b[0m\u001b[1;33m:\u001b[0m\u001b[1;33m\u001b[0m\u001b[0m\n",
      "\u001b[1;32m~\\AppData\\Local\\conda\\conda\\envs\\tensorflow-gpu\\lib\\site-packages\\tensorflow\\python\\ops\\nn_ops.py\u001b[0m in \u001b[0;36m__call__\u001b[1;34m(self, inp, filter)\u001b[0m\n\u001b[0;32m    867\u001b[0m \u001b[1;33m\u001b[0m\u001b[0m\n\u001b[0;32m    868\u001b[0m   \u001b[1;32mdef\u001b[0m \u001b[0m__call__\u001b[0m\u001b[1;33m(\u001b[0m\u001b[0mself\u001b[0m\u001b[1;33m,\u001b[0m \u001b[0minp\u001b[0m\u001b[1;33m,\u001b[0m \u001b[0mfilter\u001b[0m\u001b[1;33m)\u001b[0m\u001b[1;33m:\u001b[0m  \u001b[1;31m# pylint: disable=redefined-builtin\u001b[0m\u001b[1;33m\u001b[0m\u001b[0m\n\u001b[1;32m--> 869\u001b[1;33m     \u001b[1;32mreturn\u001b[0m \u001b[0mself\u001b[0m\u001b[1;33m.\u001b[0m\u001b[0mconv_op\u001b[0m\u001b[1;33m(\u001b[0m\u001b[0minp\u001b[0m\u001b[1;33m,\u001b[0m \u001b[0mfilter\u001b[0m\u001b[1;33m)\u001b[0m\u001b[1;33m\u001b[0m\u001b[0m\n\u001b[0m\u001b[0;32m    870\u001b[0m \u001b[1;33m\u001b[0m\u001b[0m\n\u001b[0;32m    871\u001b[0m \u001b[1;33m\u001b[0m\u001b[0m\n",
      "\u001b[1;32m~\\AppData\\Local\\conda\\conda\\envs\\tensorflow-gpu\\lib\\site-packages\\tensorflow\\python\\ops\\nn_ops.py\u001b[0m in \u001b[0;36m__call__\u001b[1;34m(self, inp, filter)\u001b[0m\n\u001b[0;32m    519\u001b[0m \u001b[1;33m\u001b[0m\u001b[0m\n\u001b[0;32m    520\u001b[0m   \u001b[1;32mdef\u001b[0m \u001b[0m__call__\u001b[0m\u001b[1;33m(\u001b[0m\u001b[0mself\u001b[0m\u001b[1;33m,\u001b[0m \u001b[0minp\u001b[0m\u001b[1;33m,\u001b[0m \u001b[0mfilter\u001b[0m\u001b[1;33m)\u001b[0m\u001b[1;33m:\u001b[0m  \u001b[1;31m# pylint: disable=redefined-builtin\u001b[0m\u001b[1;33m\u001b[0m\u001b[0m\n\u001b[1;32m--> 521\u001b[1;33m     \u001b[1;32mreturn\u001b[0m \u001b[0mself\u001b[0m\u001b[1;33m.\u001b[0m\u001b[0mcall\u001b[0m\u001b[1;33m(\u001b[0m\u001b[0minp\u001b[0m\u001b[1;33m,\u001b[0m \u001b[0mfilter\u001b[0m\u001b[1;33m)\u001b[0m\u001b[1;33m\u001b[0m\u001b[0m\n\u001b[0m\u001b[0;32m    522\u001b[0m \u001b[1;33m\u001b[0m\u001b[0m\n\u001b[0;32m    523\u001b[0m \u001b[1;33m\u001b[0m\u001b[0m\n",
      "\u001b[1;32m~\\AppData\\Local\\conda\\conda\\envs\\tensorflow-gpu\\lib\\site-packages\\tensorflow\\python\\ops\\nn_ops.py\u001b[0m in \u001b[0;36m__call__\u001b[1;34m(self, inp, filter)\u001b[0m\n\u001b[0;32m    203\u001b[0m         \u001b[0mpadding\u001b[0m\u001b[1;33m=\u001b[0m\u001b[0mself\u001b[0m\u001b[1;33m.\u001b[0m\u001b[0mpadding\u001b[0m\u001b[1;33m,\u001b[0m\u001b[1;33m\u001b[0m\u001b[0m\n\u001b[0;32m    204\u001b[0m         \u001b[0mdata_format\u001b[0m\u001b[1;33m=\u001b[0m\u001b[0mself\u001b[0m\u001b[1;33m.\u001b[0m\u001b[0mdata_format\u001b[0m\u001b[1;33m,\u001b[0m\u001b[1;33m\u001b[0m\u001b[0m\n\u001b[1;32m--> 205\u001b[1;33m         name=self.name)\n\u001b[0m\u001b[0;32m    206\u001b[0m \u001b[1;33m\u001b[0m\u001b[0m\n\u001b[0;32m    207\u001b[0m \u001b[1;33m\u001b[0m\u001b[0m\n",
      "\u001b[1;32m~\\AppData\\Local\\conda\\conda\\envs\\tensorflow-gpu\\lib\\site-packages\\tensorflow\\python\\ops\\gen_nn_ops.py\u001b[0m in \u001b[0;36mconv2d\u001b[1;34m(input, filter, strides, padding, use_cudnn_on_gpu, data_format, dilations, name)\u001b[0m\n\u001b[0;32m   1042\u001b[0m         \u001b[1;34m\"Conv2D\"\u001b[0m\u001b[1;33m,\u001b[0m \u001b[0minput\u001b[0m\u001b[1;33m=\u001b[0m\u001b[0minput\u001b[0m\u001b[1;33m,\u001b[0m \u001b[0mfilter\u001b[0m\u001b[1;33m=\u001b[0m\u001b[0mfilter\u001b[0m\u001b[1;33m,\u001b[0m \u001b[0mstrides\u001b[0m\u001b[1;33m=\u001b[0m\u001b[0mstrides\u001b[0m\u001b[1;33m,\u001b[0m\u001b[1;33m\u001b[0m\u001b[0m\n\u001b[0;32m   1043\u001b[0m         \u001b[0mpadding\u001b[0m\u001b[1;33m=\u001b[0m\u001b[0mpadding\u001b[0m\u001b[1;33m,\u001b[0m \u001b[0muse_cudnn_on_gpu\u001b[0m\u001b[1;33m=\u001b[0m\u001b[0muse_cudnn_on_gpu\u001b[0m\u001b[1;33m,\u001b[0m\u001b[1;33m\u001b[0m\u001b[0m\n\u001b[1;32m-> 1044\u001b[1;33m         data_format=data_format, dilations=dilations, name=name)\n\u001b[0m\u001b[0;32m   1045\u001b[0m     \u001b[0m_result\u001b[0m \u001b[1;33m=\u001b[0m \u001b[0m_op\u001b[0m\u001b[1;33m.\u001b[0m\u001b[0moutputs\u001b[0m\u001b[1;33m[\u001b[0m\u001b[1;33m:\u001b[0m\u001b[1;33m]\u001b[0m\u001b[1;33m\u001b[0m\u001b[0m\n\u001b[0;32m   1046\u001b[0m     \u001b[0m_inputs_flat\u001b[0m \u001b[1;33m=\u001b[0m \u001b[0m_op\u001b[0m\u001b[1;33m.\u001b[0m\u001b[0minputs\u001b[0m\u001b[1;33m\u001b[0m\u001b[0m\n",
      "\u001b[1;32m~\\AppData\\Local\\conda\\conda\\envs\\tensorflow-gpu\\lib\\site-packages\\tensorflow\\python\\framework\\op_def_library.py\u001b[0m in \u001b[0;36m_apply_op_helper\u001b[1;34m(self, op_type_name, name, **keywords)\u001b[0m\n\u001b[0;32m    785\u001b[0m         op = g.create_op(op_type_name, inputs, output_types, name=scope,\n\u001b[0;32m    786\u001b[0m                          \u001b[0minput_types\u001b[0m\u001b[1;33m=\u001b[0m\u001b[0minput_types\u001b[0m\u001b[1;33m,\u001b[0m \u001b[0mattrs\u001b[0m\u001b[1;33m=\u001b[0m\u001b[0mattr_protos\u001b[0m\u001b[1;33m,\u001b[0m\u001b[1;33m\u001b[0m\u001b[0m\n\u001b[1;32m--> 787\u001b[1;33m                          op_def=op_def)\n\u001b[0m\u001b[0;32m    788\u001b[0m       \u001b[1;32mreturn\u001b[0m \u001b[0moutput_structure\u001b[0m\u001b[1;33m,\u001b[0m \u001b[0mop_def\u001b[0m\u001b[1;33m.\u001b[0m\u001b[0mis_stateful\u001b[0m\u001b[1;33m,\u001b[0m \u001b[0mop\u001b[0m\u001b[1;33m\u001b[0m\u001b[0m\n\u001b[0;32m    789\u001b[0m \u001b[1;33m\u001b[0m\u001b[0m\n",
      "\u001b[1;32m~\\AppData\\Local\\conda\\conda\\envs\\tensorflow-gpu\\lib\\site-packages\\tensorflow\\python\\util\\deprecation.py\u001b[0m in \u001b[0;36mnew_func\u001b[1;34m(*args, **kwargs)\u001b[0m\n\u001b[0;32m    486\u001b[0m                 \u001b[1;34m'in a future version'\u001b[0m \u001b[1;32mif\u001b[0m \u001b[0mdate\u001b[0m \u001b[1;32mis\u001b[0m \u001b[1;32mNone\u001b[0m \u001b[1;32melse\u001b[0m \u001b[1;33m(\u001b[0m\u001b[1;34m'after %s'\u001b[0m \u001b[1;33m%\u001b[0m \u001b[0mdate\u001b[0m\u001b[1;33m)\u001b[0m\u001b[1;33m,\u001b[0m\u001b[1;33m\u001b[0m\u001b[0m\n\u001b[0;32m    487\u001b[0m                 instructions)\n\u001b[1;32m--> 488\u001b[1;33m       \u001b[1;32mreturn\u001b[0m \u001b[0mfunc\u001b[0m\u001b[1;33m(\u001b[0m\u001b[1;33m*\u001b[0m\u001b[0margs\u001b[0m\u001b[1;33m,\u001b[0m \u001b[1;33m**\u001b[0m\u001b[0mkwargs\u001b[0m\u001b[1;33m)\u001b[0m\u001b[1;33m\u001b[0m\u001b[0m\n\u001b[0m\u001b[0;32m    489\u001b[0m     return tf_decorator.make_decorator(func, new_func, 'deprecated',\n\u001b[0;32m    490\u001b[0m                                        _add_deprecated_arg_notice_to_docstring(\n",
      "\u001b[1;32m~\\AppData\\Local\\conda\\conda\\envs\\tensorflow-gpu\\lib\\site-packages\\tensorflow\\python\\framework\\ops.py\u001b[0m in \u001b[0;36mcreate_op\u001b[1;34m(***failed resolving arguments***)\u001b[0m\n\u001b[0;32m   3270\u001b[0m           \u001b[0minput_types\u001b[0m\u001b[1;33m=\u001b[0m\u001b[0minput_types\u001b[0m\u001b[1;33m,\u001b[0m\u001b[1;33m\u001b[0m\u001b[0m\n\u001b[0;32m   3271\u001b[0m           \u001b[0moriginal_op\u001b[0m\u001b[1;33m=\u001b[0m\u001b[0mself\u001b[0m\u001b[1;33m.\u001b[0m\u001b[0m_default_original_op\u001b[0m\u001b[1;33m,\u001b[0m\u001b[1;33m\u001b[0m\u001b[0m\n\u001b[1;32m-> 3272\u001b[1;33m           op_def=op_def)\n\u001b[0m\u001b[0;32m   3273\u001b[0m       \u001b[0mself\u001b[0m\u001b[1;33m.\u001b[0m\u001b[0m_create_op_helper\u001b[0m\u001b[1;33m(\u001b[0m\u001b[0mret\u001b[0m\u001b[1;33m,\u001b[0m \u001b[0mcompute_device\u001b[0m\u001b[1;33m=\u001b[0m\u001b[0mcompute_device\u001b[0m\u001b[1;33m)\u001b[0m\u001b[1;33m\u001b[0m\u001b[0m\n\u001b[0;32m   3274\u001b[0m     \u001b[1;32mreturn\u001b[0m \u001b[0mret\u001b[0m\u001b[1;33m\u001b[0m\u001b[0m\n",
      "\u001b[1;32m~\\AppData\\Local\\conda\\conda\\envs\\tensorflow-gpu\\lib\\site-packages\\tensorflow\\python\\framework\\ops.py\u001b[0m in \u001b[0;36m__init__\u001b[1;34m(self, node_def, g, inputs, output_types, control_inputs, input_types, original_op, op_def)\u001b[0m\n\u001b[0;32m   1788\u001b[0m           op_def, inputs, node_def.attr)\n\u001b[0;32m   1789\u001b[0m       self._c_op = _create_c_op(self._graph, node_def, grouped_inputs,\n\u001b[1;32m-> 1790\u001b[1;33m                                 control_input_ops)\n\u001b[0m\u001b[0;32m   1791\u001b[0m \u001b[1;33m\u001b[0m\u001b[0m\n\u001b[0;32m   1792\u001b[0m     \u001b[1;31m# Initialize self._outputs.\u001b[0m\u001b[1;33m\u001b[0m\u001b[1;33m\u001b[0m\u001b[0m\n",
      "\u001b[1;32m~\\AppData\\Local\\conda\\conda\\envs\\tensorflow-gpu\\lib\\site-packages\\tensorflow\\python\\framework\\ops.py\u001b[0m in \u001b[0;36m_create_c_op\u001b[1;34m(graph, node_def, inputs, control_inputs)\u001b[0m\n\u001b[0;32m   1627\u001b[0m   \u001b[1;32mexcept\u001b[0m \u001b[0merrors\u001b[0m\u001b[1;33m.\u001b[0m\u001b[0mInvalidArgumentError\u001b[0m \u001b[1;32mas\u001b[0m \u001b[0me\u001b[0m\u001b[1;33m:\u001b[0m\u001b[1;33m\u001b[0m\u001b[0m\n\u001b[0;32m   1628\u001b[0m     \u001b[1;31m# Convert to ValueError for backwards compatibility.\u001b[0m\u001b[1;33m\u001b[0m\u001b[1;33m\u001b[0m\u001b[0m\n\u001b[1;32m-> 1629\u001b[1;33m     \u001b[1;32mraise\u001b[0m \u001b[0mValueError\u001b[0m\u001b[1;33m(\u001b[0m\u001b[0mstr\u001b[0m\u001b[1;33m(\u001b[0m\u001b[0me\u001b[0m\u001b[1;33m)\u001b[0m\u001b[1;33m)\u001b[0m\u001b[1;33m\u001b[0m\u001b[0m\n\u001b[0m\u001b[0;32m   1630\u001b[0m \u001b[1;33m\u001b[0m\u001b[0m\n\u001b[0;32m   1631\u001b[0m   \u001b[1;32mreturn\u001b[0m \u001b[0mc_op\u001b[0m\u001b[1;33m\u001b[0m\u001b[0m\n",
      "\u001b[1;31mValueError\u001b[0m: Negative dimension size caused by subtracting 11 from 10 for 'conv2d_23/Conv2D' (op: 'Conv2D') with input shapes: [?,10,10,64], [11,11,64,64]."
     ]
    }
   ],
   "source": [
    "for dense_layer in dense_layers:\n",
    "    for layer_size in layer_sizes:\n",
    "        for conv_layer in conv_layers:\n",
    "            NAME = \"{}-conv-{}-nodes-{}-dense-{}-dimension-{}\".format(conv_layer, layer_size, dense_layer, size, int(time.time()))\n",
    "            \n",
    "            print(NAME)\n",
    "            #build our model with sequential\n",
    "            model = Sequential()\n",
    "            \n",
    "            # start with Conv layer 1 and pass layer sizes, 3x3 window, input data features\n",
    "            model.add(Conv2D(layer_size, (11,11), input_shape = X.shape[1:]))\n",
    "            \n",
    "            #after convolution pass activation layer 1 with 'rectified linear'\n",
    "            model.add(Activation(\"relu\"))\n",
    "            \n",
    "            #pass max pooling layer 1 with 2x2\n",
    "            model.add(MaxPooling2D(pool_size=(9,9)))\n",
    "            model.add(Dropout(0.4))\n",
    "            \n",
    "            #Conv layer, activation and pooling layers 2\n",
    "            for l in range(conv_layer-1):\n",
    "                model.add(Conv2D(layer_size, (11,11)))\n",
    "                model.add(Activation(\"relu\"))\n",
    "                model.add(MaxPooling2D(pool_size=(9,9)))\n",
    "                model.add(Dropout(0.4))\n",
    "                \n",
    "           # for l in range(conv_layer-2):\n",
    "           #     model.add(Conv2D(layer_size, (5,5)))\n",
    "           #     model.add(Activation(\"relu\"))\n",
    "           #     model.add(MaxPooling2D(pool_size=(5,5)))\n",
    "           #     model.add(Dropout(0.4))\n",
    "            \n",
    "            #need to flatten before passing to dense layer\n",
    "            model.add(Flatten()) \n",
    "            for l in range(dense_layer):\n",
    "                model.add(Dense(layer_size))\n",
    "                model.add(Activation(\"relu\"))\n",
    "            \n",
    "            #add finally an output dense layer of size 1\n",
    "            model.add(Dense(1))\n",
    "            model.add(Activation('sigmoid'))\n",
    "            \n",
    "            tensorboard = TensorBoard(log_dir= 'logs/{}'.format(NAME))\n",
    "            \n",
    "            #compile our model and measure the performance of classification \n",
    "            #Adam is a popular algorithm in the field of deep learning because it achieves good results fast\n",
    "            \n",
    "            model.compile(loss='binary_crossentropy',\n",
    "                          optimizer='adam',\n",
    "                          metrics=['accuracy'])\n",
    "            \n",
    "            #unbalanced class with more negatives 8705 than positives 4862\n",
    "            class_weights = {0: 1.,\n",
    "                             1: 1} #8705/4862\n",
    "            \n",
    "            #fit model set how many to pass as a time in batch size, with 30% for validation\n",
    "            model.fit(X, y, class_weight=class_weights, batch_size=20, epochs=1, validation_split=0.3, callbacks=[tensorboard])"
   ]
  },
  {
   "cell_type": "code",
   "execution_count": 13,
   "metadata": {},
   "outputs": [],
   "source": [
    "model.save('ALTS-NHS-2x32x1-CNN.model')"
   ]
  },
  {
   "cell_type": "code",
   "execution_count": 15,
   "metadata": {},
   "outputs": [
    {
     "name": "stdout",
     "output_type": "stream",
     "text": [
      "Starting webserver from: C:\\Users\\suleiman\\AppData\\Local\\conda\\conda\\envs\\tensorflow-gpu\\lib\\site-packages\\quiver_engine\n"
     ]
    },
    {
     "name": "stderr",
     "output_type": "stream",
     "text": [
      "::1 - - [2018-12-18 14:00:01] \"GET / HTTP/1.1\" 304 241 0.014960\n",
      "::1 - - [2018-12-18 14:00:01] \"GET /app.14b8092d6ea379715007.js HTTP/1.1\" 304 243 0.022938\n",
      "::1 - - [2018-12-18 14:00:01] \"GET /app.c1d3d21cfba8c1aabed6806773c8f0ba.css HTTP/1.1\" 304 242 0.005984\n",
      "::1 - - [2018-12-18 14:00:01] \"GET /vendor.280c5ce1d78077ee8d66.js HTTP/1.1\" 304 243 0.013960\n",
      "::1 - - [2018-12-18 14:00:02] \"GET /model HTTP/1.1\" 200 3657 0.004985\n",
      "::1 - - [2018-12-18 14:00:02] \"GET /inputs HTTP/1.1\" 200 163 0.000992\n",
      "::1 - - [2018-12-18 14:00:02] \"GET /input-file/CIN.jpg HTTP/1.1\" 200 41371 0.003017\n",
      "::1 - - [2018-12-18 14:00:02] \"GET /input-file/CIN2.jpg HTTP/1.1\" 200 22570 0.002992\n",
      "Traceback (most recent call last):\n",
      "  File \"C:\\Users\\suleiman\\AppData\\Local\\conda\\conda\\envs\\tensorflow-gpu\\lib\\site-packages\\gevent\\_ffi\\loop.py\", line 230, in python_check_callback\n",
      "    def python_check_callback(self, watcher_ptr): # pylint:disable=unused-argument\n",
      "KeyboardInterrupt\n",
      "2018-12-19T01:24:01Z\n"
     ]
    },
    {
     "ename": "KeyboardInterrupt",
     "evalue": "",
     "output_type": "error",
     "traceback": [
      "\u001b[1;31m---------------------------------------------------------------------------\u001b[0m",
      "\u001b[1;31mKeyboardInterrupt\u001b[0m                         Traceback (most recent call last)",
      "\u001b[1;32m<ipython-input-15-9107a5fac287>\u001b[0m in \u001b[0;36m<module>\u001b[1;34m\u001b[0m\n\u001b[0;32m      1\u001b[0m \u001b[1;32mfrom\u001b[0m \u001b[0mquiver_engine\u001b[0m \u001b[1;32mimport\u001b[0m \u001b[0mserver\u001b[0m\u001b[1;33m\u001b[0m\u001b[0m\n\u001b[1;32m----> 2\u001b[1;33m \u001b[0mserver\u001b[0m\u001b[1;33m.\u001b[0m\u001b[0mlaunch\u001b[0m\u001b[1;33m(\u001b[0m\u001b[0mmodel\u001b[0m\u001b[1;33m)\u001b[0m\u001b[1;33m\u001b[0m\u001b[0m\n\u001b[0m\u001b[0;32m      3\u001b[0m \u001b[1;31m#quiver_engine.server.launch(model, classes=['Neg','Pos'], input_folder= r\"D:\\suleiman\\Documents\\ALTS\\400x400\\)\u001b[0m\u001b[1;33m\u001b[0m\u001b[1;33m\u001b[0m\u001b[0m\n",
      "\u001b[1;32m~\\AppData\\Local\\conda\\conda\\envs\\tensorflow-gpu\\lib\\site-packages\\quiver_engine\\server.py\u001b[0m in \u001b[0;36mlaunch\u001b[1;34m(model, classes, top, temp_folder, input_folder, port, html_base_dir, mean, std)\u001b[0m\n\u001b[0;32m    157\u001b[0m             \u001b[0mmean\u001b[0m\u001b[1;33m=\u001b[0m\u001b[0mmean\u001b[0m\u001b[1;33m,\u001b[0m \u001b[0mstd\u001b[0m\u001b[1;33m=\u001b[0m\u001b[0mstd\u001b[0m\u001b[1;33m\u001b[0m\u001b[0m\n\u001b[0;32m    158\u001b[0m         ),\n\u001b[1;32m--> 159\u001b[1;33m         \u001b[0mport\u001b[0m\u001b[1;33m\u001b[0m\u001b[0m\n\u001b[0m\u001b[0;32m    160\u001b[0m     )\n",
      "\u001b[1;32m~\\AppData\\Local\\conda\\conda\\envs\\tensorflow-gpu\\lib\\site-packages\\quiver_engine\\server.py\u001b[0m in \u001b[0;36mrun_app\u001b[1;34m(app, port)\u001b[0m\n\u001b[0;32m    134\u001b[0m     \u001b[0mhttp_server\u001b[0m \u001b[1;33m=\u001b[0m \u001b[0mWSGIServer\u001b[0m\u001b[1;33m(\u001b[0m\u001b[1;33m(\u001b[0m\u001b[1;34m''\u001b[0m\u001b[1;33m,\u001b[0m \u001b[0mport\u001b[0m\u001b[1;33m)\u001b[0m\u001b[1;33m,\u001b[0m \u001b[0mapp\u001b[0m\u001b[1;33m)\u001b[0m\u001b[1;33m\u001b[0m\u001b[0m\n\u001b[0;32m    135\u001b[0m     \u001b[0mwebbrowser\u001b[0m\u001b[1;33m.\u001b[0m\u001b[0mopen_new\u001b[0m\u001b[1;33m(\u001b[0m\u001b[1;34m'http://localhost:'\u001b[0m \u001b[1;33m+\u001b[0m \u001b[0mstr\u001b[0m\u001b[1;33m(\u001b[0m\u001b[0mport\u001b[0m\u001b[1;33m)\u001b[0m\u001b[1;33m)\u001b[0m\u001b[1;33m\u001b[0m\u001b[0m\n\u001b[1;32m--> 136\u001b[1;33m     \u001b[0mhttp_server\u001b[0m\u001b[1;33m.\u001b[0m\u001b[0mserve_forever\u001b[0m\u001b[1;33m(\u001b[0m\u001b[1;33m)\u001b[0m\u001b[1;33m\u001b[0m\u001b[0m\n\u001b[0m\u001b[0;32m    137\u001b[0m \u001b[1;33m\u001b[0m\u001b[0m\n\u001b[0;32m    138\u001b[0m \u001b[1;33m\u001b[0m\u001b[0m\n",
      "\u001b[1;32m~\\AppData\\Local\\conda\\conda\\envs\\tensorflow-gpu\\lib\\site-packages\\gevent\\baseserver.py\u001b[0m in \u001b[0;36mserve_forever\u001b[1;34m(self, stop_timeout)\u001b[0m\n\u001b[0;32m    362\u001b[0m             \u001b[0mself\u001b[0m\u001b[1;33m.\u001b[0m\u001b[0mstart\u001b[0m\u001b[1;33m(\u001b[0m\u001b[1;33m)\u001b[0m\u001b[1;33m\u001b[0m\u001b[0m\n\u001b[0;32m    363\u001b[0m         \u001b[1;32mtry\u001b[0m\u001b[1;33m:\u001b[0m\u001b[1;33m\u001b[0m\u001b[0m\n\u001b[1;32m--> 364\u001b[1;33m             \u001b[0mself\u001b[0m\u001b[1;33m.\u001b[0m\u001b[0m_stop_event\u001b[0m\u001b[1;33m.\u001b[0m\u001b[0mwait\u001b[0m\u001b[1;33m(\u001b[0m\u001b[1;33m)\u001b[0m\u001b[1;33m\u001b[0m\u001b[0m\n\u001b[0m\u001b[0;32m    365\u001b[0m         \u001b[1;32mfinally\u001b[0m\u001b[1;33m:\u001b[0m\u001b[1;33m\u001b[0m\u001b[0m\n\u001b[0;32m    366\u001b[0m             \u001b[0mGreenlet\u001b[0m\u001b[1;33m.\u001b[0m\u001b[0mspawn\u001b[0m\u001b[1;33m(\u001b[0m\u001b[0mself\u001b[0m\u001b[1;33m.\u001b[0m\u001b[0mstop\u001b[0m\u001b[1;33m,\u001b[0m \u001b[0mtimeout\u001b[0m\u001b[1;33m=\u001b[0m\u001b[0mstop_timeout\u001b[0m\u001b[1;33m)\u001b[0m\u001b[1;33m.\u001b[0m\u001b[0mjoin\u001b[0m\u001b[1;33m(\u001b[0m\u001b[1;33m)\u001b[0m\u001b[1;33m\u001b[0m\u001b[0m\n",
      "\u001b[1;32m~\\AppData\\Local\\conda\\conda\\envs\\tensorflow-gpu\\lib\\site-packages\\gevent\\_event.cp36-win_amd64.pyd\u001b[0m in \u001b[0;36mgevent._event.Event.wait\u001b[1;34m()\u001b[0m\n",
      "\u001b[1;32m~\\AppData\\Local\\conda\\conda\\envs\\tensorflow-gpu\\lib\\site-packages\\gevent\\_event.cp36-win_amd64.pyd\u001b[0m in \u001b[0;36mgevent._event._AbstractLinkable._wait\u001b[1;34m()\u001b[0m\n",
      "\u001b[1;32m~\\AppData\\Local\\conda\\conda\\envs\\tensorflow-gpu\\lib\\site-packages\\gevent\\_event.cp36-win_amd64.pyd\u001b[0m in \u001b[0;36mgevent._event._AbstractLinkable._wait_core\u001b[1;34m()\u001b[0m\n",
      "\u001b[1;32m~\\AppData\\Local\\conda\\conda\\envs\\tensorflow-gpu\\lib\\site-packages\\gevent\\_event.cp36-win_amd64.pyd\u001b[0m in \u001b[0;36mgevent._event._AbstractLinkable._wait_core\u001b[1;34m()\u001b[0m\n",
      "\u001b[1;32m~\\AppData\\Local\\conda\\conda\\envs\\tensorflow-gpu\\lib\\site-packages\\gevent\\__greenlet_primitives.cp36-win_amd64.pyd\u001b[0m in \u001b[0;36mgevent.__greenlet_primitives.SwitchOutGreenletWithLoop.switch\u001b[1;34m()\u001b[0m\n",
      "\u001b[1;32m~\\AppData\\Local\\conda\\conda\\envs\\tensorflow-gpu\\lib\\site-packages\\gevent\\__greenlet_primitives.cp36-win_amd64.pyd\u001b[0m in \u001b[0;36mgevent.__greenlet_primitives.SwitchOutGreenletWithLoop.switch\u001b[1;34m()\u001b[0m\n",
      "\u001b[1;32m~\\AppData\\Local\\conda\\conda\\envs\\tensorflow-gpu\\lib\\site-packages\\gevent\\__greenlet_primitives.cp36-win_amd64.pyd\u001b[0m in \u001b[0;36mgevent.__greenlet_primitives.SwitchOutGreenletWithLoop.switch\u001b[1;34m()\u001b[0m\n",
      "\u001b[1;32msrc\\gevent\\__greenlet_primitives.pxd\u001b[0m in \u001b[0;36mgevent.__greenlet_primitives._greenlet_switch\u001b[1;34m()\u001b[0m\n",
      "\u001b[1;31mKeyboardInterrupt\u001b[0m: "
     ]
    }
   ],
   "source": [
    "from quiver_engine import server\n",
    "server.launch(model)\n",
    "#quiver_engine.server.launch(model, classes=['Neg','Pos'], input_folder= r\"D:\\suleiman\\Documents\\ALTS\\400x400\\)"
   ]
  },
  {
   "cell_type": "code",
   "execution_count": 14,
   "metadata": {},
   "outputs": [],
   "source": [
    "dense_layers = [0]\n",
    "layer_sizes = [32]\n",
    "conv_layers = [1]"
   ]
  },
  {
   "cell_type": "code",
   "execution_count": 16,
   "metadata": {},
   "outputs": [
    {
     "name": "stdout",
     "output_type": "stream",
     "text": [
      "1-conv-32-nodes-0-dense-1544767125\n",
      "Train on 9496 samples, validate on 4071 samples\n",
      "Epoch 1/3\n",
      "9496/9496 [==============================] - 129s 14ms/step - loss: 0.6457 - acc: 0.6868 - val_loss: 0.6249 - val_acc: 0.7136\n",
      "Epoch 2/3\n",
      "9496/9496 [==============================] - 190s 20ms/step - loss: 0.6490 - acc: 0.7010 - val_loss: 0.6231 - val_acc: 0.6949\n",
      "Epoch 3/3\n",
      "9496/9496 [==============================] - 191s 20ms/step - loss: 0.6267 - acc: 0.6910 - val_loss: 0.6235 - val_acc: 0.7015\n"
     ]
    }
   ],
   "source": [
    "for dense_layer in dense_layers:\n",
    "    for layer_size in layer_sizes:\n",
    "        for conv_layer in conv_layers:\n",
    "             NAME = \"{}-conv-{}-nodes-{}-dense-{}-dimension-{}\".format(conv_layer, layer_size, dense_layer, size, int(time.time()))\n",
    "            \n",
    "            print(NAME)\n",
    "            #build our model with sequential\n",
    "            model = Sequential()\n",
    "            \n",
    "            # start with Conv layer 1 and pass layer sizes, 3x3 window, input data features\n",
    "            model.add(Conv2D(layer_size, (9,9), input_shape = X.shape[1:]))\n",
    "            \n",
    "            #after convolution pass activation layer 1 with 'rectified linear'\n",
    "            model.add(Activation(\"relu\"))\n",
    "            \n",
    "            #pass max pooling layer 1 with 2x2\n",
    "            model.add(MaxPooling2D(pool_size=(7,7)))\n",
    "            model.add(Dropout(0.20))\n",
    "            \n",
    "            #Conv layer, activation and pooling layers 2\n",
    "            for l in range(conv_layer-1):\n",
    "                model.add(Conv2D(layer_size, (9,9)))\n",
    "                model.add(Activation(\"relu\"))\n",
    "                model.add(MaxPooling2D(pool_size=(7,7)))\n",
    "                model.add(Dropout(0.10))\n",
    "            \n",
    "            #need to flatten before passing to dense layer\n",
    "            model.add(Flatten()) \n",
    "            for l in range(dense_layer):\n",
    "                model.add(Dense(layer_size))\n",
    "                model.add(Activation(\"relu\"))\n",
    "            \n",
    "            #add finally an output dense layer of size 1\n",
    "            model.add(Dense(1))\n",
    "            model.add(Activation('sigmoid'))\n",
    "            \n",
    "            tensorboard = TensorBoard(log_dir= 'logs/{}'.format(NAME))\n",
    "            \n",
    "            #compile our model and measure the performance of classification \n",
    "            #Adam is a popular algorithm in the field of deep learning because it achieves good results fast\n",
    "            \n",
    "            model.compile(loss='binary_crossentropy',\n",
    "                          optimizer='adam',\n",
    "                          metrics=['accuracy'])\n",
    "            \n",
    "            #unbalanced class with more negatives 6873 than positives 3076\n",
    "            class_weights = {0: 1.,\n",
    "                             1: 1.8} #6873/3076\n",
    "            \n",
    "            #fit model set how many to pass as a time in batch size, with 30% for validation\n",
    "            model.fit(X, y, class_weight=class_weights, batch_size=10, epochs=3, validation_split=0.3, callbacks=[tensorboard])"
   ]
  },
  {
   "cell_type": "code",
   "execution_count": 17,
   "metadata": {},
   "outputs": [
    {
     "name": "stdout",
     "output_type": "stream",
     "text": [
      "2-conv-32-nodes-1-dense-1544768681\n",
      "Train on 9496 samples, validate on 4071 samples\n",
      "Epoch 1/3\n",
      "9496/9496 [==============================] - 144s 15ms/step - loss: 0.6753 - acc: 0.7027 - val_loss: 0.6750 - val_acc: 0.7136\n",
      "Epoch 2/3\n",
      "9496/9496 [==============================] - 189s 20ms/step - loss: 0.6742 - acc: 0.7161 - val_loss: 0.6749 - val_acc: 0.7136\n",
      "Epoch 3/3\n",
      "9496/9496 [==============================] - 173s 18ms/step - loss: 0.6739 - acc: 0.7161 - val_loss: 0.6749 - val_acc: 0.7136\n"
     ]
    }
   ],
   "source": [
    "dense_layers = [1]\n",
    "layer_sizes = [32]\n",
    "conv_layers = [2]\n",
    "\n",
    "for dense_layer in dense_layers:\n",
    "    for layer_size in layer_sizes:\n",
    "        for conv_layer in conv_layers:\n",
    "            NAME = \"{}-conv-{}-nodes-{}-dense-{}\".format(conv_layer, layer_size, dense_layer, int(time.time()))\n",
    "            \n",
    "            print(NAME)\n",
    "            #build our model with sequential\n",
    "            model = Sequential()\n",
    "            \n",
    "            # start with Conv layer 1 and pass layer sizes, 3x3 window, input data features\n",
    "            model.add(Conv2D(layer_size, (9,9), input_shape = X.shape[1:]))\n",
    "            \n",
    "            #after convolution pass activation layer 1 with 'rectified linear'\n",
    "            model.add(Activation(\"relu\"))\n",
    "            \n",
    "            #pass max pooling layer 1 with 2x2\n",
    "            model.add(MaxPooling2D(pool_size=(7,7)))\n",
    "            model.add(Dropout(0.20))\n",
    "            \n",
    "            #Conv layer, activation and pooling layers 2\n",
    "            for l in range(conv_layer-1):\n",
    "                model.add(Conv2D(layer_size, (9,9)))\n",
    "                model.add(Activation(\"relu\"))\n",
    "                model.add(MaxPooling2D(pool_size=(7,7)))\n",
    "                model.add(Dropout(0.10))\n",
    "            \n",
    "            #need to flatten before passing to dense layer\n",
    "            model.add(Flatten()) \n",
    "            for l in range(dense_layer):\n",
    "                model.add(Dense(layer_size))\n",
    "                model.add(Activation(\"relu\"))\n",
    "            \n",
    "            #add finally an output dense layer of size 1\n",
    "            model.add(Dense(1))\n",
    "            model.add(Activation('sigmoid'))\n",
    "            \n",
    "            tensorboard = TensorBoard(log_dir= 'logs/{}'.format(NAME))\n",
    "            \n",
    "            #compile our model and measure the performance of classification \n",
    "            #Adam is a popular algorithm in the field of deep learning because it achieves good results fast\n",
    "            \n",
    "            model.compile(loss='binary_crossentropy',\n",
    "                          optimizer='adam',\n",
    "                          metrics=['accuracy'])\n",
    "            \n",
    "            #unbalanced class with more negatives 6873 than positives 3076\n",
    "            class_weights = {0: 1.,\n",
    "                             1: 1.8} #6873/3076\n",
    "            \n",
    "            #fit model set how many to pass as a time in batch size, with 30% for validation\n",
    "            model.fit(X, y, class_weight=class_weights, batch_size=10, epochs=3, validation_split=0.3, callbacks=[tensorboard])"
   ]
  },
  {
   "cell_type": "code",
   "execution_count": 20,
   "metadata": {},
   "outputs": [
    {
     "name": "stdout",
     "output_type": "stream",
     "text": [
      "2-conv-64-nodes-2-dense-1544773731\n",
      "Train on 9496 samples, validate on 4071 samples\n",
      "Epoch 1/3\n",
      "9496/9496 [==============================] - 167s 18ms/step - loss: 0.6765 - acc: 0.6986 - val_loss: 0.6788 - val_acc: 0.7136\n",
      "Epoch 2/3\n",
      "9496/9496 [==============================] - 215s 23ms/step - loss: 0.6780 - acc: 0.7161 - val_loss: 0.6789 - val_acc: 0.7136\n",
      "Epoch 3/3\n",
      "9496/9496 [==============================] - 192s 20ms/step - loss: 0.6780 - acc: 0.7144 - val_loss: 0.6787 - val_acc: 0.7136\n"
     ]
    }
   ],
   "source": [
    "dense_layers = [2]\n",
    "layer_sizes = [64]\n",
    "conv_layers = [2]\n",
    "\n",
    "for dense_layer in dense_layers:\n",
    "    for layer_size in layer_sizes:\n",
    "        for conv_layer in conv_layers:\n",
    "            NAME = \"{}-conv-{}-nodes-{}-dense-{}-dimension-{}\".format(conv_layer, layer_size, dense_layer, size, int(time.time()))\n",
    "            \n",
    "            print(NAME)\n",
    "            #build our model with sequential\n",
    "            model = Sequential()\n",
    "            \n",
    "            # start with Conv layer 1 and pass layer sizes, 3x3 window, input data features\n",
    "            model.add(Conv2D(layer_size, (9,9), input_shape = X.shape[1:]))\n",
    "            \n",
    "            #after convolution pass activation layer 1 with 'rectified linear'\n",
    "            model.add(Activation(\"relu\"))\n",
    "            \n",
    "            #pass max pooling layer 1 with 2x2\n",
    "            model.add(MaxPooling2D(pool_size=(7,7)))\n",
    "            model.add(Dropout(0.25))\n",
    "            \n",
    "            #Conv layer, activation and pooling layers 2\n",
    "            for l in range(conv_layer-1):\n",
    "                model.add(Conv2D(layer_size, (9,9)))\n",
    "                model.add(Activation(\"relu\"))\n",
    "                model.add(MaxPooling2D(pool_size=(7,7)))\n",
    "                model.add(Dropout(0.1))\n",
    "            \n",
    "            #need to flatten before passing to dense layer\n",
    "            model.add(Flatten()) \n",
    "            for l in range(dense_layer):\n",
    "                model.add(Dense(layer_size))\n",
    "                model.add(Activation(\"relu\"))\n",
    "            \n",
    "            #add finally an output dense layer of size 1\n",
    "            model.add(Dense(1))\n",
    "            model.add(Activation('sigmoid'))\n",
    "            \n",
    "            tensorboard = TensorBoard(log_dir= 'logs/{}'.format(NAME))\n",
    "            \n",
    "            #compile our model and measure the performance of classification \n",
    "            #Adam is a popular algorithm in the field of deep learning because it achieves good results fast\n",
    "            \n",
    "            model.compile(loss='binary_crossentropy',\n",
    "                          optimizer='adam',\n",
    "                          metrics=['accuracy'])\n",
    "            \n",
    "            #unbalanced class with more negatives 6873 than positives 3076\n",
    "            class_weights = {0: 1.,\n",
    "                             1: 1.8} #6873/3076\n",
    "            \n",
    "            #fit model set how many to pass as a time in batch size, with 30% for validation\n",
    "            model.fit(X, y, class_weight=class_weights, batch_size=30, epochs=3, validation_split=0.3, callbacks=[tensorboard])"
   ]
  },
  {
   "cell_type": "code",
   "execution_count": 9,
   "metadata": {},
   "outputs": [],
   "source": [
    "dense_layers = [4]\n",
    "layer_sizes = [32, 64]\n",
    "conv_layers = [1,2,3]"
   ]
  },
  {
   "cell_type": "code",
   "execution_count": 10,
   "metadata": {},
   "outputs": [
    {
     "name": "stdout",
     "output_type": "stream",
     "text": [
      "1-conv-32-nodes-4-dense-1543288834\n",
      "Train on 6964 samples, validate on 2985 samples\n",
      "Epoch 1/3\n",
      "6964/6964 [==============================] - 17s 3ms/step - loss: 0.6985 - acc: 0.6216 - val_loss: 0.6924 - val_acc: 0.6901986 - acc: - ETA: 0s - loss: 0.6987 - a\n",
      "Epoch 2/3\n",
      "6964/6964 [==============================] - 16s 2ms/step - loss: 0.6924 - acc: 0.6328 - val_loss: 0.6953 - val_acc: 0.3327A: 9s - loss: 0.6925 - ac - ETA: 8s \n",
      "Epoch 3/3\n",
      "6964/6964 [==============================] - 16s 2ms/step - loss: 0.6924 - acc: 0.6025 - val_loss: 0.6916 - val_acc: 0.6496\n",
      "2-conv-32-nodes-4-dense-1543288888\n",
      "Train on 6964 samples, validate on 2985 samples\n",
      "Epoch 1/3\n",
      "6964/6964 [==============================] - 16s 2ms/step - loss: 0.6936 - acc: 0.6624 - val_loss: 0.6925 - val_acc: 0.6901\n",
      "Epoch 2/3\n",
      "6964/6964 [==============================] - 14s 2ms/step - loss: 0.6926 - acc: 0.6854 - val_loss: 0.6924 - val_acc: 0.6901\n",
      "Epoch 3/3\n",
      "6964/6964 [==============================] - 15s 2ms/step - loss: 0.6923 - acc: 0.6911 - val_loss: 0.6924 - val_acc: 0.6901\n",
      "3-conv-32-nodes-4-dense-1543288938\n",
      "Train on 6964 samples, validate on 2985 samples\n",
      "Epoch 1/3\n",
      "6964/6964 [==============================] - 15s 2ms/step - loss: 0.6929 - acc: 0.6715 - val_loss: 0.6935 - val_acc: 0.3099\n",
      "Epoch 2/3\n",
      "6964/6964 [==============================] - 14s 2ms/step - loss: 0.6926 - acc: 0.6716 - val_loss: 0.6925 - val_acc: 0.6901\n",
      "Epoch 3/3\n",
      "6964/6964 [==============================] - 14s 2ms/step - loss: 0.6924 - acc: 0.6911 - val_loss: 0.6924 - val_acc: 0.6901\n",
      "1-conv-64-nodes-4-dense-1543288988\n",
      "Train on 6964 samples, validate on 2985 samples\n",
      "Epoch 1/3\n",
      "6964/6964 [==============================] - 33s 5ms/step - loss: 0.7030 - acc: 0.6291 - val_loss: 0.6926 - val_acc: 0.6901\n",
      "Epoch 2/3\n",
      "6964/6964 [==============================] - 33s 5ms/step - loss: 0.6927 - acc: 0.6736 - val_loss: 0.6919 - val_acc: 0.6901\n",
      "Epoch 3/3\n",
      "6964/6964 [==============================] - 32s 5ms/step - loss: 0.6923 - acc: 0.6278 - val_loss: 0.6922 - val_acc: 0.6891\n",
      "2-conv-64-nodes-4-dense-1543289092\n",
      "Train on 6964 samples, validate on 2985 samples\n",
      "Epoch 1/3\n",
      "6964/6964 [==============================] - 26s 4ms/step - loss: 0.6940 - acc: 0.6534 - val_loss: 0.6924 - val_acc: 0.6901\n",
      "Epoch 2/3\n",
      "6964/6964 [==============================] - 23s 3ms/step - loss: 0.6936 - acc: 0.6850 - val_loss: 0.6924 - val_acc: 0.6901\n",
      "Epoch 3/3\n",
      "6964/6964 [==============================] - 24s 3ms/step - loss: 0.6926 - acc: 0.6699 - val_loss: 0.6924 - val_acc: 0.6901\n",
      "3-conv-64-nodes-4-dense-1543289171\n",
      "Train on 6964 samples, validate on 2985 samples\n",
      "Epoch 1/3\n",
      "6964/6964 [==============================] - 22s 3ms/step - loss: 0.6932 - acc: 0.6350 - val_loss: 0.6926 - val_acc: 0.6901\n",
      "Epoch 2/3\n",
      "6964/6964 [==============================] - 21s 3ms/step - loss: 0.6924 - acc: 0.6911 - val_loss: 0.6925 - val_acc: 0.6901\n",
      "Epoch 3/3\n",
      "6964/6964 [==============================] - 20s 3ms/step - loss: 0.6923 - acc: 0.6911 - val_loss: 0.6924 - val_acc: 0.6901- loss: 0.6924 - acc: 0.68 - ETA: 1s - loss: 0.6924 - acc: 0.6 - ETA: 0s - loss: 0.6924 - - ETA: 0s - loss: 0.6923 - acc: 0\n"
     ]
    }
   ],
   "source": [
    "for dense_layer in dense_layers:\n",
    "    for layer_size in layer_sizes:\n",
    "        for conv_layer in conv_layers:\n",
    "            NAME = \"{}-conv-{}-nodes-{}-dense-{}-dimension-{}\".format(conv_layer, layer_size, dense_layer, size, int(time.time()))\n",
    "            \n",
    "            print(NAME)\n",
    "            #build our model with sequential\n",
    "            model = Sequential()\n",
    "            \n",
    "            # start with Conv layer 1 and pass layer sizes, 3x3 window, input data features\n",
    "            model.add(Conv2D(layer_size, (3,3), input_shape = X.shape[1:]))\n",
    "            \n",
    "            #after convolution pass activation layer 1 with 'rectified linear'\n",
    "            model.add(Activation(\"relu\"))\n",
    "            \n",
    "            #pass max pooling layer 1 with 2x2\n",
    "            model.add(MaxPooling2D(pool_size=(2,2)))\n",
    "            model.add(Dropout(0.25))\n",
    "            \n",
    "            #Conv layer, activation and pooling layers 2\n",
    "            for l in range(conv_layer-1):\n",
    "                model.add(Conv2D(layer_size, (3,3)))\n",
    "                model.add(Activation(\"relu\"))\n",
    "                model.add(MaxPooling2D(pool_size=(2,2)))\n",
    "                model.add(Dropout(0.1))\n",
    "            \n",
    "            #need to flatten before passing to dense layer\n",
    "            model.add(Flatten()) \n",
    "            for l in range(dense_layer):\n",
    "                model.add(Dense(layer_size))\n",
    "                model.add(Activation(\"relu\"))\n",
    "            \n",
    "            #add finally an output dense layer of size 1\n",
    "            model.add(Dense(1))\n",
    "            model.add(Activation('sigmoid'))\n",
    "            \n",
    "            tensorboard = TensorBoard(log_dir= 'logs/{}'.format(NAME))\n",
    "            \n",
    "            #compile our model and measure the performance of classification \n",
    "            #Adam is a popular algorithm in the field of deep learning because it achieves good results fast\n",
    "            \n",
    "            model.compile(loss='binary_crossentropy',\n",
    "                          optimizer='adam',\n",
    "                          metrics=['accuracy'])\n",
    "            \n",
    "            #unbalanced class with more negatives 6873 than positives 3076\n",
    "            class_weights = {0: 1.,\n",
    "                             1: 2.23} #6873/3076\n",
    "            \n",
    "            #fit model set how many to pass as a time in batch size, with 30% for validation\n",
    "            model.fit(X, y, class_weight=class_weights, batch_size=10, epochs=3, validation_split=0.3, callbacks=[tensorboard])"
   ]
  },
  {
   "cell_type": "code",
   "execution_count": 9,
   "metadata": {},
   "outputs": [],
   "source": [
    "dense_layers = [0]\n",
    "layer_sizes = [128]\n",
    "conv_layers = [1,2,3]"
   ]
  },
  {
   "cell_type": "code",
   "execution_count": 10,
   "metadata": {},
   "outputs": [
    {
     "name": "stdout",
     "output_type": "stream",
     "text": [
      "1-conv-128-nodes-0-dense-1542782659\n",
      "Train on 6964 samples, validate on 2985 samples\n",
      "Epoch 1/3\n",
      "6964/6964 [==============================] - 52s 7ms/step - loss: 8.3349 - acc: 0.3087 - val_loss: 8.3100 - val_acc: 0.3099o - ETA: 19s - loss: 8.30 - ETA: 19s - loss - ETA:  - ETA: 10s - loss: 8.403 - ETA: 9s - loss: 8.402 - E - ETA: 1s - loss: 8\n",
      "Epoch 2/3\n",
      "6964/6964 [==============================] - 52s 8ms/step - loss: 8.3419 - acc: 0.3089 - val_loss: 8.3100 - val_acc: 0.3099- ETA: 10s  - ETA: 8s - loss: 8.3837 - acc: 0.3 - ETA: 8s - - ETA: 6s - loss: 8.3850 - ac - ETA: 5s - - ETA: 1s - loss: 8.3242 -  - ETA: 1s - loss: \n",
      "Epoch 3/3\n",
      "6964/6964 [==============================] - 51s 7ms/step - loss: 8.3745 - acc: 0.3089 - val_loss: 8.3100 - val_acc: 0.3099\n",
      "2-conv-128-nodes-0-dense-1542782815\n",
      "Train on 6964 samples, validate on 2985 samples\n",
      "Epoch 1/3\n",
      "6964/6964 [==============================] - 65s 9ms/step - loss: 0.7007 - acc: 0.6887 - val_loss: 0.6924 - val_acc: 0.6901\n",
      "Epoch 2/3\n",
      "6964/6964 [==============================] - 65s 9ms/step - loss: 0.6923 - acc: 0.6906 - val_loss: 0.6923 - val_acc: 0.6901\n",
      "Epoch 3/3\n",
      "6964/6964 [==============================] - 65s 9ms/step - loss: 0.6923 - acc: 0.6911 - val_loss: 0.6922 - val_acc: 0.6901\n",
      "3-conv-128-nodes-0-dense-1542783011\n",
      "Train on 6964 samples, validate on 2985 samples\n",
      "Epoch 1/3\n",
      "6964/6964 [==============================] - 71s 10ms/step - loss: 0.6941 - acc: 0.6643 - val_loss: 0.6924 - val_acc: 0.6901\n",
      "Epoch 2/3\n",
      "6964/6964 [==============================] - 71s 10ms/step - loss: 0.6928 - acc: 0.6707 - val_loss: 0.6922 - val_acc: 0.6901\n",
      "Epoch 3/3\n",
      "6964/6964 [==============================] - 72s 10ms/step - loss: 0.6922 - acc: 0.6881 - val_loss: 0.6922 - val_acc: 0.6901\n"
     ]
    }
   ],
   "source": [
    "for dense_layer in dense_layers:\n",
    "    for layer_size in layer_sizes:\n",
    "        for conv_layer in conv_layers:\n",
    "            NAME = \"{}-conv-{}-nodes-{}-dense-{}\".format(conv_layer, layer_size, dense_layer, int(time.time()))\n",
    "            \n",
    "            print(NAME)\n",
    "            #build our model with sequential\n",
    "            model = Sequential()\n",
    "            \n",
    "            # start with Conv layer 1 and pass layer sizes, 3x3 window, input data features\n",
    "            model.add(Conv2D(layer_size, (3,3), input_shape = X.shape[1:]))\n",
    "            \n",
    "            #after convolution pass activation layer 1 with 'rectified linear'\n",
    "            model.add(Activation(\"relu\"))\n",
    "            \n",
    "            #pass max pooling layer 1 with 2x2\n",
    "            model.add(MaxPooling2D(pool_size=(2,2)))\n",
    "            model.add(Dropout(0.25))\n",
    "            \n",
    "            #Conv layer, activation and pooling layers 2\n",
    "            for l in range(conv_layer-1):\n",
    "                model.add(Conv2D(layer_size, (3,3)))\n",
    "                model.add(Activation(\"relu\"))\n",
    "                model.add(MaxPooling2D(pool_size=(2,2)))\n",
    "                model.add(Dropout(0.1))\n",
    "            \n",
    "            #need to flatten before passing to dense layer\n",
    "            model.add(Flatten()) \n",
    "            for l in range(dense_layer):\n",
    "                model.add(Dense(layer_size))\n",
    "                model.add(Activation(\"relu\"))\n",
    "            \n",
    "            #add finally an output dense layer of size 1\n",
    "            model.add(Dense(1))\n",
    "            model.add(Activation('sigmoid'))\n",
    "            \n",
    "            tensorboard = TensorBoard(log_dir= 'logs/{}'.format(NAME))\n",
    "            \n",
    "            #compile our model and measure the performance of classification \n",
    "            #Adam is a popular algorithm in the field of deep learning because it achieves good results fast\n",
    "            \n",
    "            model.compile(loss='binary_crossentropy',\n",
    "                          optimizer='adam',\n",
    "                          metrics=['accuracy'])\n",
    "            \n",
    "            #unbalanced class with more negatives 6873 than positives 3076\n",
    "            class_weights = {0: 1.,\n",
    "                             1: 2.23} #6873/3076\n",
    "            \n",
    "            #fit model set how many to pass as a time in batch size, with 30% for validation\n",
    "            model.fit(X, y, class_weight=class_weights, batch_size=10, epochs=3, validation_split=0.3, callbacks=[tensorboard])"
   ]
  },
  {
   "cell_type": "code",
   "execution_count": 13,
   "metadata": {},
   "outputs": [],
   "source": [
    "dense_layers = [1]\n",
    "layer_sizes = [128]\n",
    "conv_layers = [1,2,3]"
   ]
  },
  {
   "cell_type": "code",
   "execution_count": 14,
   "metadata": {},
   "outputs": [
    {
     "name": "stdout",
     "output_type": "stream",
     "text": [
      "1-conv-128-nodes-1-dense-1542784371\n",
      "Train on 6964 samples, validate on 2985 samples\n"
     ]
    },
    {
     "ename": "ResourceExhaustedError",
     "evalue": "OOM when allocating tensor with shape[700928,128] and type float on /job:localhost/replica:0/task:0/device:GPU:0 by allocator GPU_0_bfc\n\t [[{{node dense_10/kernel/Initializer/random_uniform/RandomUniform}} = RandomUniform[T=DT_INT32, _class=[\"loc:@dense_10/kernel/Assign\"], dtype=DT_FLOAT, seed=0, seed2=0, _device=\"/job:localhost/replica:0/task:0/device:GPU:0\"](dense_10/kernel/Initializer/random_uniform/shape)]]\nHint: If you want to see a list of allocated tensors when OOM happens, add report_tensor_allocations_upon_oom to RunOptions for current allocation info.\n\n\nCaused by op 'dense_10/kernel/Initializer/random_uniform/RandomUniform', defined at:\n  File \"C:\\Users\\suleiman\\AppData\\Local\\conda\\conda\\envs\\tensorflow-gpu\\lib\\runpy.py\", line 193, in _run_module_as_main\n    \"__main__\", mod_spec)\n  File \"C:\\Users\\suleiman\\AppData\\Local\\conda\\conda\\envs\\tensorflow-gpu\\lib\\runpy.py\", line 85, in _run_code\n    exec(code, run_globals)\n  File \"C:\\Users\\suleiman\\AppData\\Local\\conda\\conda\\envs\\tensorflow-gpu\\lib\\site-packages\\ipykernel_launcher.py\", line 16, in <module>\n    app.launch_new_instance()\n  File \"C:\\Users\\suleiman\\AppData\\Local\\conda\\conda\\envs\\tensorflow-gpu\\lib\\site-packages\\traitlets\\config\\application.py\", line 658, in launch_instance\n    app.start()\n  File \"C:\\Users\\suleiman\\AppData\\Local\\conda\\conda\\envs\\tensorflow-gpu\\lib\\site-packages\\ipykernel\\kernelapp.py\", line 505, in start\n    self.io_loop.start()\n  File \"C:\\Users\\suleiman\\AppData\\Local\\conda\\conda\\envs\\tensorflow-gpu\\lib\\site-packages\\tornado\\platform\\asyncio.py\", line 132, in start\n    self.asyncio_loop.run_forever()\n  File \"C:\\Users\\suleiman\\AppData\\Local\\conda\\conda\\envs\\tensorflow-gpu\\lib\\asyncio\\base_events.py\", line 422, in run_forever\n    self._run_once()\n  File \"C:\\Users\\suleiman\\AppData\\Local\\conda\\conda\\envs\\tensorflow-gpu\\lib\\asyncio\\base_events.py\", line 1432, in _run_once\n    handle._run()\n  File \"C:\\Users\\suleiman\\AppData\\Local\\conda\\conda\\envs\\tensorflow-gpu\\lib\\asyncio\\events.py\", line 145, in _run\n    self._callback(*self._args)\n  File \"C:\\Users\\suleiman\\AppData\\Local\\conda\\conda\\envs\\tensorflow-gpu\\lib\\site-packages\\tornado\\ioloop.py\", line 758, in _run_callback\n    ret = callback()\n  File \"C:\\Users\\suleiman\\AppData\\Local\\conda\\conda\\envs\\tensorflow-gpu\\lib\\site-packages\\tornado\\stack_context.py\", line 300, in null_wrapper\n    return fn(*args, **kwargs)\n  File \"C:\\Users\\suleiman\\AppData\\Local\\conda\\conda\\envs\\tensorflow-gpu\\lib\\site-packages\\tornado\\gen.py\", line 1233, in inner\n    self.run()\n  File \"C:\\Users\\suleiman\\AppData\\Local\\conda\\conda\\envs\\tensorflow-gpu\\lib\\site-packages\\tornado\\gen.py\", line 1147, in run\n    yielded = self.gen.send(value)\n  File \"C:\\Users\\suleiman\\AppData\\Local\\conda\\conda\\envs\\tensorflow-gpu\\lib\\site-packages\\ipykernel\\kernelbase.py\", line 357, in process_one\n    yield gen.maybe_future(dispatch(*args))\n  File \"C:\\Users\\suleiman\\AppData\\Local\\conda\\conda\\envs\\tensorflow-gpu\\lib\\site-packages\\tornado\\gen.py\", line 326, in wrapper\n    yielded = next(result)\n  File \"C:\\Users\\suleiman\\AppData\\Local\\conda\\conda\\envs\\tensorflow-gpu\\lib\\site-packages\\ipykernel\\kernelbase.py\", line 267, in dispatch_shell\n    yield gen.maybe_future(handler(stream, idents, msg))\n  File \"C:\\Users\\suleiman\\AppData\\Local\\conda\\conda\\envs\\tensorflow-gpu\\lib\\site-packages\\tornado\\gen.py\", line 326, in wrapper\n    yielded = next(result)\n  File \"C:\\Users\\suleiman\\AppData\\Local\\conda\\conda\\envs\\tensorflow-gpu\\lib\\site-packages\\ipykernel\\kernelbase.py\", line 534, in execute_request\n    user_expressions, allow_stdin,\n  File \"C:\\Users\\suleiman\\AppData\\Local\\conda\\conda\\envs\\tensorflow-gpu\\lib\\site-packages\\tornado\\gen.py\", line 326, in wrapper\n    yielded = next(result)\n  File \"C:\\Users\\suleiman\\AppData\\Local\\conda\\conda\\envs\\tensorflow-gpu\\lib\\site-packages\\ipykernel\\ipkernel.py\", line 294, in do_execute\n    res = shell.run_cell(code, store_history=store_history, silent=silent)\n  File \"C:\\Users\\suleiman\\AppData\\Local\\conda\\conda\\envs\\tensorflow-gpu\\lib\\site-packages\\ipykernel\\zmqshell.py\", line 536, in run_cell\n    return super(ZMQInteractiveShell, self).run_cell(*args, **kwargs)\n  File \"C:\\Users\\suleiman\\AppData\\Local\\conda\\conda\\envs\\tensorflow-gpu\\lib\\site-packages\\IPython\\core\\interactiveshell.py\", line 2817, in run_cell\n    raw_cell, store_history, silent, shell_futures)\n  File \"C:\\Users\\suleiman\\AppData\\Local\\conda\\conda\\envs\\tensorflow-gpu\\lib\\site-packages\\IPython\\core\\interactiveshell.py\", line 2843, in _run_cell\n    return runner(coro)\n  File \"C:\\Users\\suleiman\\AppData\\Local\\conda\\conda\\envs\\tensorflow-gpu\\lib\\site-packages\\IPython\\core\\async_helpers.py\", line 67, in _pseudo_sync_runner\n    coro.send(None)\n  File \"C:\\Users\\suleiman\\AppData\\Local\\conda\\conda\\envs\\tensorflow-gpu\\lib\\site-packages\\IPython\\core\\interactiveshell.py\", line 3018, in run_cell_async\n    interactivity=interactivity, compiler=compiler, result=result)\n  File \"C:\\Users\\suleiman\\AppData\\Local\\conda\\conda\\envs\\tensorflow-gpu\\lib\\site-packages\\IPython\\core\\interactiveshell.py\", line 3183, in run_ast_nodes\n    if (yield from self.run_code(code, result)):\n  File \"C:\\Users\\suleiman\\AppData\\Local\\conda\\conda\\envs\\tensorflow-gpu\\lib\\site-packages\\IPython\\core\\interactiveshell.py\", line 3265, in run_code\n    exec(code_obj, self.user_global_ns, self.user_ns)\n  File \"<ipython-input-14-88f13bcd4031>\", line 30, in <module>\n    model.add(Dense(layer_size))\n  File \"C:\\Users\\suleiman\\AppData\\Local\\conda\\conda\\envs\\tensorflow-gpu\\lib\\site-packages\\tensorflow\\python\\training\\checkpointable\\base.py\", line 426, in _method_wrapper\n    method(self, *args, **kwargs)\n  File \"C:\\Users\\suleiman\\AppData\\Local\\conda\\conda\\envs\\tensorflow-gpu\\lib\\site-packages\\tensorflow\\python\\keras\\engine\\sequential.py\", line 175, in add\n    output_tensor = layer(self.outputs[0])\n  File \"C:\\Users\\suleiman\\AppData\\Local\\conda\\conda\\envs\\tensorflow-gpu\\lib\\site-packages\\tensorflow\\python\\keras\\engine\\base_layer.py\", line 759, in __call__\n    self.build(input_shapes)\n  File \"C:\\Users\\suleiman\\AppData\\Local\\conda\\conda\\envs\\tensorflow-gpu\\lib\\site-packages\\tensorflow\\python\\keras\\layers\\core.py\", line 921, in build\n    trainable=True)\n  File \"C:\\Users\\suleiman\\AppData\\Local\\conda\\conda\\envs\\tensorflow-gpu\\lib\\site-packages\\tensorflow\\python\\keras\\engine\\base_layer.py\", line 586, in add_weight\n    aggregation=aggregation)\n  File \"C:\\Users\\suleiman\\AppData\\Local\\conda\\conda\\envs\\tensorflow-gpu\\lib\\site-packages\\tensorflow\\python\\training\\checkpointable\\base.py\", line 591, in _add_variable_with_custom_getter\n    **kwargs_for_getter)\n  File \"C:\\Users\\suleiman\\AppData\\Local\\conda\\conda\\envs\\tensorflow-gpu\\lib\\site-packages\\tensorflow\\python\\keras\\engine\\base_layer.py\", line 1986, in make_variable\n    aggregation=aggregation)\n  File \"C:\\Users\\suleiman\\AppData\\Local\\conda\\conda\\envs\\tensorflow-gpu\\lib\\site-packages\\tensorflow\\python\\ops\\variables.py\", line 145, in __call__\n    return cls._variable_call(*args, **kwargs)\n  File \"C:\\Users\\suleiman\\AppData\\Local\\conda\\conda\\envs\\tensorflow-gpu\\lib\\site-packages\\tensorflow\\python\\ops\\variables.py\", line 141, in _variable_call\n    aggregation=aggregation)\n  File \"C:\\Users\\suleiman\\AppData\\Local\\conda\\conda\\envs\\tensorflow-gpu\\lib\\site-packages\\tensorflow\\python\\ops\\variables.py\", line 120, in <lambda>\n    previous_getter = lambda **kwargs: default_variable_creator(None, **kwargs)\n  File \"C:\\Users\\suleiman\\AppData\\Local\\conda\\conda\\envs\\tensorflow-gpu\\lib\\site-packages\\tensorflow\\python\\ops\\variable_scope.py\", line 2434, in default_variable_creator\n    import_scope=import_scope)\n  File \"C:\\Users\\suleiman\\AppData\\Local\\conda\\conda\\envs\\tensorflow-gpu\\lib\\site-packages\\tensorflow\\python\\ops\\variables.py\", line 147, in __call__\n    return super(VariableMetaclass, cls).__call__(*args, **kwargs)\n  File \"C:\\Users\\suleiman\\AppData\\Local\\conda\\conda\\envs\\tensorflow-gpu\\lib\\site-packages\\tensorflow\\python\\ops\\resource_variable_ops.py\", line 297, in __init__\n    constraint=constraint)\n  File \"C:\\Users\\suleiman\\AppData\\Local\\conda\\conda\\envs\\tensorflow-gpu\\lib\\site-packages\\tensorflow\\python\\ops\\resource_variable_ops.py\", line 411, in _init_from_args\n    initial_value(), name=\"initial_value\", dtype=dtype)\n  File \"C:\\Users\\suleiman\\AppData\\Local\\conda\\conda\\envs\\tensorflow-gpu\\lib\\site-packages\\tensorflow\\python\\keras\\engine\\base_layer.py\", line 1970, in <lambda>\n    shape, dtype=dtype, partition_info=partition_info)\n  File \"C:\\Users\\suleiman\\AppData\\Local\\conda\\conda\\envs\\tensorflow-gpu\\lib\\site-packages\\tensorflow\\python\\ops\\init_ops.py\", line 483, in __call__\n    shape, -limit, limit, dtype, seed=self.seed)\n  File \"C:\\Users\\suleiman\\AppData\\Local\\conda\\conda\\envs\\tensorflow-gpu\\lib\\site-packages\\tensorflow\\python\\ops\\random_ops.py\", line 242, in random_uniform\n    rnd = gen_random_ops.random_uniform(shape, dtype, seed=seed1, seed2=seed2)\n  File \"C:\\Users\\suleiman\\AppData\\Local\\conda\\conda\\envs\\tensorflow-gpu\\lib\\site-packages\\tensorflow\\python\\ops\\gen_random_ops.py\", line 772, in random_uniform\n    name=name)\n  File \"C:\\Users\\suleiman\\AppData\\Local\\conda\\conda\\envs\\tensorflow-gpu\\lib\\site-packages\\tensorflow\\python\\framework\\op_def_library.py\", line 787, in _apply_op_helper\n    op_def=op_def)\n  File \"C:\\Users\\suleiman\\AppData\\Local\\conda\\conda\\envs\\tensorflow-gpu\\lib\\site-packages\\tensorflow\\python\\util\\deprecation.py\", line 488, in new_func\n    return func(*args, **kwargs)\n  File \"C:\\Users\\suleiman\\AppData\\Local\\conda\\conda\\envs\\tensorflow-gpu\\lib\\site-packages\\tensorflow\\python\\framework\\ops.py\", line 3272, in create_op\n    op_def=op_def)\n  File \"C:\\Users\\suleiman\\AppData\\Local\\conda\\conda\\envs\\tensorflow-gpu\\lib\\site-packages\\tensorflow\\python\\framework\\ops.py\", line 1768, in __init__\n    self._traceback = tf_stack.extract_stack()\n\nResourceExhaustedError (see above for traceback): OOM when allocating tensor with shape[700928,128] and type float on /job:localhost/replica:0/task:0/device:GPU:0 by allocator GPU_0_bfc\n\t [[{{node dense_10/kernel/Initializer/random_uniform/RandomUniform}} = RandomUniform[T=DT_INT32, _class=[\"loc:@dense_10/kernel/Assign\"], dtype=DT_FLOAT, seed=0, seed2=0, _device=\"/job:localhost/replica:0/task:0/device:GPU:0\"](dense_10/kernel/Initializer/random_uniform/shape)]]\nHint: If you want to see a list of allocated tensors when OOM happens, add report_tensor_allocations_upon_oom to RunOptions for current allocation info.\n\n",
     "output_type": "error",
     "traceback": [
      "\u001b[1;31m---------------------------------------------------------------------------\u001b[0m",
      "\u001b[1;31mResourceExhaustedError\u001b[0m                    Traceback (most recent call last)",
      "\u001b[1;32m~\\AppData\\Local\\conda\\conda\\envs\\tensorflow-gpu\\lib\\site-packages\\tensorflow\\python\\client\\session.py\u001b[0m in \u001b[0;36m_do_call\u001b[1;34m(self, fn, *args)\u001b[0m\n\u001b[0;32m   1291\u001b[0m     \u001b[1;32mtry\u001b[0m\u001b[1;33m:\u001b[0m\u001b[1;33m\u001b[0m\u001b[0m\n\u001b[1;32m-> 1292\u001b[1;33m       \u001b[1;32mreturn\u001b[0m \u001b[0mfn\u001b[0m\u001b[1;33m(\u001b[0m\u001b[1;33m*\u001b[0m\u001b[0margs\u001b[0m\u001b[1;33m)\u001b[0m\u001b[1;33m\u001b[0m\u001b[0m\n\u001b[0m\u001b[0;32m   1293\u001b[0m     \u001b[1;32mexcept\u001b[0m \u001b[0merrors\u001b[0m\u001b[1;33m.\u001b[0m\u001b[0mOpError\u001b[0m \u001b[1;32mas\u001b[0m \u001b[0me\u001b[0m\u001b[1;33m:\u001b[0m\u001b[1;33m\u001b[0m\u001b[0m\n",
      "\u001b[1;32m~\\AppData\\Local\\conda\\conda\\envs\\tensorflow-gpu\\lib\\site-packages\\tensorflow\\python\\client\\session.py\u001b[0m in \u001b[0;36m_run_fn\u001b[1;34m(feed_dict, fetch_list, target_list, options, run_metadata)\u001b[0m\n\u001b[0;32m   1276\u001b[0m       return self._call_tf_sessionrun(\n\u001b[1;32m-> 1277\u001b[1;33m           options, feed_dict, fetch_list, target_list, run_metadata)\n\u001b[0m\u001b[0;32m   1278\u001b[0m \u001b[1;33m\u001b[0m\u001b[0m\n",
      "\u001b[1;32m~\\AppData\\Local\\conda\\conda\\envs\\tensorflow-gpu\\lib\\site-packages\\tensorflow\\python\\client\\session.py\u001b[0m in \u001b[0;36m_call_tf_sessionrun\u001b[1;34m(self, options, feed_dict, fetch_list, target_list, run_metadata)\u001b[0m\n\u001b[0;32m   1366\u001b[0m         \u001b[0mself\u001b[0m\u001b[1;33m.\u001b[0m\u001b[0m_session\u001b[0m\u001b[1;33m,\u001b[0m \u001b[0moptions\u001b[0m\u001b[1;33m,\u001b[0m \u001b[0mfeed_dict\u001b[0m\u001b[1;33m,\u001b[0m \u001b[0mfetch_list\u001b[0m\u001b[1;33m,\u001b[0m \u001b[0mtarget_list\u001b[0m\u001b[1;33m,\u001b[0m\u001b[1;33m\u001b[0m\u001b[0m\n\u001b[1;32m-> 1367\u001b[1;33m         run_metadata)\n\u001b[0m\u001b[0;32m   1368\u001b[0m \u001b[1;33m\u001b[0m\u001b[0m\n",
      "\u001b[1;31mResourceExhaustedError\u001b[0m: OOM when allocating tensor with shape[700928,128] and type float on /job:localhost/replica:0/task:0/device:GPU:0 by allocator GPU_0_bfc\n\t [[{{node dense_10/kernel/Initializer/random_uniform/RandomUniform}} = RandomUniform[T=DT_INT32, _class=[\"loc:@dense_10/kernel/Assign\"], dtype=DT_FLOAT, seed=0, seed2=0, _device=\"/job:localhost/replica:0/task:0/device:GPU:0\"](dense_10/kernel/Initializer/random_uniform/shape)]]\nHint: If you want to see a list of allocated tensors when OOM happens, add report_tensor_allocations_upon_oom to RunOptions for current allocation info.\n",
      "\nDuring handling of the above exception, another exception occurred:\n",
      "\u001b[1;31mResourceExhaustedError\u001b[0m                    Traceback (most recent call last)",
      "\u001b[1;32m<ipython-input-14-88f13bcd4031>\u001b[0m in \u001b[0;36m<module>\u001b[1;34m\u001b[0m\n\u001b[0;32m     49\u001b[0m \u001b[1;33m\u001b[0m\u001b[0m\n\u001b[0;32m     50\u001b[0m             \u001b[1;31m#fit model set how many to pass as a time in batch size, with 30% for validation\u001b[0m\u001b[1;33m\u001b[0m\u001b[1;33m\u001b[0m\u001b[0m\n\u001b[1;32m---> 51\u001b[1;33m             \u001b[0mmodel\u001b[0m\u001b[1;33m.\u001b[0m\u001b[0mfit\u001b[0m\u001b[1;33m(\u001b[0m\u001b[0mX\u001b[0m\u001b[1;33m,\u001b[0m \u001b[0my\u001b[0m\u001b[1;33m,\u001b[0m \u001b[0mclass_weight\u001b[0m\u001b[1;33m=\u001b[0m\u001b[0mclass_weights\u001b[0m\u001b[1;33m,\u001b[0m \u001b[0mbatch_size\u001b[0m\u001b[1;33m=\u001b[0m\u001b[1;36m10\u001b[0m\u001b[1;33m,\u001b[0m \u001b[0mepochs\u001b[0m\u001b[1;33m=\u001b[0m\u001b[1;36m3\u001b[0m\u001b[1;33m,\u001b[0m \u001b[0mvalidation_split\u001b[0m\u001b[1;33m=\u001b[0m\u001b[1;36m0.3\u001b[0m\u001b[1;33m,\u001b[0m \u001b[0mcallbacks\u001b[0m\u001b[1;33m=\u001b[0m\u001b[1;33m[\u001b[0m\u001b[0mtensorboard\u001b[0m\u001b[1;33m]\u001b[0m\u001b[1;33m)\u001b[0m\u001b[1;33m\u001b[0m\u001b[0m\n\u001b[0m",
      "\u001b[1;32m~\\AppData\\Local\\conda\\conda\\envs\\tensorflow-gpu\\lib\\site-packages\\tensorflow\\python\\keras\\engine\\training.py\u001b[0m in \u001b[0;36mfit\u001b[1;34m(self, x, y, batch_size, epochs, verbose, callbacks, validation_split, validation_data, shuffle, class_weight, sample_weight, initial_epoch, steps_per_epoch, validation_steps, **kwargs)\u001b[0m\n\u001b[0;32m   1603\u001b[0m           \u001b[0minitial_epoch\u001b[0m\u001b[1;33m=\u001b[0m\u001b[0minitial_epoch\u001b[0m\u001b[1;33m,\u001b[0m\u001b[1;33m\u001b[0m\u001b[0m\n\u001b[0;32m   1604\u001b[0m           \u001b[0msteps_per_epoch\u001b[0m\u001b[1;33m=\u001b[0m\u001b[0msteps_per_epoch\u001b[0m\u001b[1;33m,\u001b[0m\u001b[1;33m\u001b[0m\u001b[0m\n\u001b[1;32m-> 1605\u001b[1;33m           validation_steps=validation_steps)\n\u001b[0m\u001b[0;32m   1606\u001b[0m \u001b[1;33m\u001b[0m\u001b[0m\n\u001b[0;32m   1607\u001b[0m   def evaluate(self,\n",
      "\u001b[1;32m~\\AppData\\Local\\conda\\conda\\envs\\tensorflow-gpu\\lib\\site-packages\\tensorflow\\python\\keras\\engine\\training_arrays.py\u001b[0m in \u001b[0;36mfit_loop\u001b[1;34m(model, inputs, targets, sample_weights, batch_size, epochs, verbose, callbacks, val_inputs, val_targets, val_sample_weights, shuffle, initial_epoch, steps_per_epoch, validation_steps)\u001b[0m\n\u001b[0;32m    125\u001b[0m       \u001b[0mvalidation_steps\u001b[0m\u001b[1;33m=\u001b[0m\u001b[0mvalidation_steps\u001b[0m\u001b[1;33m,\u001b[0m\u001b[1;33m\u001b[0m\u001b[0m\n\u001b[0;32m    126\u001b[0m       \u001b[0mverbose\u001b[0m\u001b[1;33m=\u001b[0m\u001b[0mverbose\u001b[0m\u001b[1;33m,\u001b[0m\u001b[1;33m\u001b[0m\u001b[0m\n\u001b[1;32m--> 127\u001b[1;33m       count_mode=count_mode)\n\u001b[0m\u001b[0;32m    128\u001b[0m \u001b[1;33m\u001b[0m\u001b[0m\n\u001b[0;32m    129\u001b[0m   \u001b[1;32mif\u001b[0m \u001b[0mnum_train_samples\u001b[0m \u001b[1;32mis\u001b[0m \u001b[1;32mnot\u001b[0m \u001b[1;32mNone\u001b[0m\u001b[1;33m:\u001b[0m\u001b[1;33m\u001b[0m\u001b[0m\n",
      "\u001b[1;32m~\\AppData\\Local\\conda\\conda\\envs\\tensorflow-gpu\\lib\\site-packages\\tensorflow\\python\\keras\\callbacks.py\u001b[0m in \u001b[0;36mconfigure_callbacks\u001b[1;34m(callbacks, model, do_validation, val_inputs, val_targets, val_sample_weights, batch_size, epochs, steps_per_epoch, samples, validation_steps, verbose, count_mode)\u001b[0m\n\u001b[0;32m    112\u001b[0m     \u001b[1;31m# list of fetches of the test_function\u001b[0m\u001b[1;33m\u001b[0m\u001b[1;33m\u001b[0m\u001b[0m\n\u001b[0;32m    113\u001b[0m     \u001b[0mcallback_model\u001b[0m\u001b[1;33m.\u001b[0m\u001b[0m_make_test_function\u001b[0m\u001b[1;33m(\u001b[0m\u001b[1;33m)\u001b[0m  \u001b[1;31m# pylint: disable=protected-access\u001b[0m\u001b[1;33m\u001b[0m\u001b[0m\n\u001b[1;32m--> 114\u001b[1;33m   \u001b[0mcallback_list\u001b[0m\u001b[1;33m.\u001b[0m\u001b[0mset_model\u001b[0m\u001b[1;33m(\u001b[0m\u001b[0mcallback_model\u001b[0m\u001b[1;33m)\u001b[0m\u001b[1;33m\u001b[0m\u001b[0m\n\u001b[0m\u001b[0;32m    115\u001b[0m \u001b[1;33m\u001b[0m\u001b[0m\n\u001b[0;32m    116\u001b[0m   \u001b[1;31m# Set callback parameters\u001b[0m\u001b[1;33m\u001b[0m\u001b[1;33m\u001b[0m\u001b[0m\n",
      "\u001b[1;32m~\\AppData\\Local\\conda\\conda\\envs\\tensorflow-gpu\\lib\\site-packages\\tensorflow\\python\\keras\\callbacks.py\u001b[0m in \u001b[0;36mset_model\u001b[1;34m(self, model)\u001b[0m\n\u001b[0;32m    187\u001b[0m     \u001b[0mself\u001b[0m\u001b[1;33m.\u001b[0m\u001b[0mmodel\u001b[0m \u001b[1;33m=\u001b[0m \u001b[0mmodel\u001b[0m\u001b[1;33m\u001b[0m\u001b[0m\n\u001b[0;32m    188\u001b[0m     \u001b[1;32mfor\u001b[0m \u001b[0mcallback\u001b[0m \u001b[1;32min\u001b[0m \u001b[0mself\u001b[0m\u001b[1;33m.\u001b[0m\u001b[0mcallbacks\u001b[0m\u001b[1;33m:\u001b[0m\u001b[1;33m\u001b[0m\u001b[0m\n\u001b[1;32m--> 189\u001b[1;33m       \u001b[0mcallback\u001b[0m\u001b[1;33m.\u001b[0m\u001b[0mset_model\u001b[0m\u001b[1;33m(\u001b[0m\u001b[0mmodel\u001b[0m\u001b[1;33m)\u001b[0m\u001b[1;33m\u001b[0m\u001b[0m\n\u001b[0m\u001b[0;32m    190\u001b[0m \u001b[1;33m\u001b[0m\u001b[0m\n\u001b[0;32m    191\u001b[0m   \u001b[1;32mdef\u001b[0m \u001b[0mon_epoch_begin\u001b[0m\u001b[1;33m(\u001b[0m\u001b[0mself\u001b[0m\u001b[1;33m,\u001b[0m \u001b[0mepoch\u001b[0m\u001b[1;33m,\u001b[0m \u001b[0mlogs\u001b[0m\u001b[1;33m=\u001b[0m\u001b[1;32mNone\u001b[0m\u001b[1;33m)\u001b[0m\u001b[1;33m:\u001b[0m\u001b[1;33m\u001b[0m\u001b[0m\n",
      "\u001b[1;32m~\\AppData\\Local\\conda\\conda\\envs\\tensorflow-gpu\\lib\\site-packages\\tensorflow\\python\\keras\\callbacks.py\u001b[0m in \u001b[0;36mset_model\u001b[1;34m(self, model)\u001b[0m\n\u001b[0;32m    942\u001b[0m \u001b[1;33m\u001b[0m\u001b[0m\n\u001b[0;32m    943\u001b[0m     \u001b[0mself\u001b[0m\u001b[1;33m.\u001b[0m\u001b[0mmodel\u001b[0m \u001b[1;33m=\u001b[0m \u001b[0mmodel\u001b[0m\u001b[1;33m\u001b[0m\u001b[0m\n\u001b[1;32m--> 944\u001b[1;33m     \u001b[0mself\u001b[0m\u001b[1;33m.\u001b[0m\u001b[0m_init_writer\u001b[0m\u001b[1;33m(\u001b[0m\u001b[1;33m)\u001b[0m\u001b[1;33m\u001b[0m\u001b[0m\n\u001b[0m\u001b[0;32m    945\u001b[0m     \u001b[1;31m# histogram summaries only enabled in graph mode\u001b[0m\u001b[1;33m\u001b[0m\u001b[1;33m\u001b[0m\u001b[0m\n\u001b[0;32m    946\u001b[0m     \u001b[1;32mif\u001b[0m \u001b[1;32mnot\u001b[0m \u001b[0mcontext\u001b[0m\u001b[1;33m.\u001b[0m\u001b[0mexecuting_eagerly\u001b[0m\u001b[1;33m(\u001b[0m\u001b[1;33m)\u001b[0m\u001b[1;33m:\u001b[0m\u001b[1;33m\u001b[0m\u001b[0m\n",
      "\u001b[1;32m~\\AppData\\Local\\conda\\conda\\envs\\tensorflow-gpu\\lib\\site-packages\\tensorflow\\python\\keras\\callbacks.py\u001b[0m in \u001b[0;36m_init_writer\u001b[1;34m(self)\u001b[0m\n\u001b[0;32m    879\u001b[0m       \u001b[0mself\u001b[0m\u001b[1;33m.\u001b[0m\u001b[0mwriter\u001b[0m \u001b[1;33m=\u001b[0m \u001b[0msummary_ops_v2\u001b[0m\u001b[1;33m.\u001b[0m\u001b[0mcreate_file_writer\u001b[0m\u001b[1;33m(\u001b[0m\u001b[0mself\u001b[0m\u001b[1;33m.\u001b[0m\u001b[0mlog_dir\u001b[0m\u001b[1;33m)\u001b[0m\u001b[1;33m\u001b[0m\u001b[0m\n\u001b[0;32m    880\u001b[0m     \u001b[1;32melif\u001b[0m \u001b[0mself\u001b[0m\u001b[1;33m.\u001b[0m\u001b[0mwrite_graph\u001b[0m\u001b[1;33m:\u001b[0m\u001b[1;33m\u001b[0m\u001b[0m\n\u001b[1;32m--> 881\u001b[1;33m       \u001b[0mself\u001b[0m\u001b[1;33m.\u001b[0m\u001b[0mwriter\u001b[0m \u001b[1;33m=\u001b[0m \u001b[0mtf_summary\u001b[0m\u001b[1;33m.\u001b[0m\u001b[0mFileWriter\u001b[0m\u001b[1;33m(\u001b[0m\u001b[0mself\u001b[0m\u001b[1;33m.\u001b[0m\u001b[0mlog_dir\u001b[0m\u001b[1;33m,\u001b[0m \u001b[0mK\u001b[0m\u001b[1;33m.\u001b[0m\u001b[0mget_session\u001b[0m\u001b[1;33m(\u001b[0m\u001b[1;33m)\u001b[0m\u001b[1;33m.\u001b[0m\u001b[0mgraph\u001b[0m\u001b[1;33m)\u001b[0m\u001b[1;33m\u001b[0m\u001b[0m\n\u001b[0m\u001b[0;32m    882\u001b[0m     \u001b[1;32melse\u001b[0m\u001b[1;33m:\u001b[0m\u001b[1;33m\u001b[0m\u001b[0m\n\u001b[0;32m    883\u001b[0m       \u001b[0mself\u001b[0m\u001b[1;33m.\u001b[0m\u001b[0mwriter\u001b[0m \u001b[1;33m=\u001b[0m \u001b[0mtf_summary\u001b[0m\u001b[1;33m.\u001b[0m\u001b[0mFileWriter\u001b[0m\u001b[1;33m(\u001b[0m\u001b[0mself\u001b[0m\u001b[1;33m.\u001b[0m\u001b[0mlog_dir\u001b[0m\u001b[1;33m)\u001b[0m\u001b[1;33m\u001b[0m\u001b[0m\n",
      "\u001b[1;32m~\\AppData\\Local\\conda\\conda\\envs\\tensorflow-gpu\\lib\\site-packages\\tensorflow\\python\\keras\\backend.py\u001b[0m in \u001b[0;36mget_session\u001b[1;34m()\u001b[0m\n\u001b[0;32m    463\u001b[0m   \u001b[1;32mif\u001b[0m \u001b[1;32mnot\u001b[0m \u001b[0m_MANUAL_VAR_INIT\u001b[0m\u001b[1;33m:\u001b[0m\u001b[1;33m\u001b[0m\u001b[0m\n\u001b[0;32m    464\u001b[0m     \u001b[1;32mwith\u001b[0m \u001b[0msession\u001b[0m\u001b[1;33m.\u001b[0m\u001b[0mgraph\u001b[0m\u001b[1;33m.\u001b[0m\u001b[0mas_default\u001b[0m\u001b[1;33m(\u001b[0m\u001b[1;33m)\u001b[0m\u001b[1;33m:\u001b[0m\u001b[1;33m\u001b[0m\u001b[0m\n\u001b[1;32m--> 465\u001b[1;33m       \u001b[0m_initialize_variables\u001b[0m\u001b[1;33m(\u001b[0m\u001b[0msession\u001b[0m\u001b[1;33m)\u001b[0m\u001b[1;33m\u001b[0m\u001b[0m\n\u001b[0m\u001b[0;32m    466\u001b[0m   \u001b[1;32mreturn\u001b[0m \u001b[0msession\u001b[0m\u001b[1;33m\u001b[0m\u001b[0m\n\u001b[0;32m    467\u001b[0m \u001b[1;33m\u001b[0m\u001b[0m\n",
      "\u001b[1;32m~\\AppData\\Local\\conda\\conda\\envs\\tensorflow-gpu\\lib\\site-packages\\tensorflow\\python\\keras\\backend.py\u001b[0m in \u001b[0;36m_initialize_variables\u001b[1;34m(session)\u001b[0m\n\u001b[0;32m    724\u001b[0m       \u001b[0mv\u001b[0m\u001b[1;33m.\u001b[0m\u001b[0m_keras_initialized\u001b[0m \u001b[1;33m=\u001b[0m \u001b[1;32mTrue\u001b[0m\u001b[1;33m\u001b[0m\u001b[0m\n\u001b[0;32m    725\u001b[0m     \u001b[1;32mif\u001b[0m \u001b[0muninitialized_vars\u001b[0m\u001b[1;33m:\u001b[0m\u001b[1;33m\u001b[0m\u001b[0m\n\u001b[1;32m--> 726\u001b[1;33m       \u001b[0msession\u001b[0m\u001b[1;33m.\u001b[0m\u001b[0mrun\u001b[0m\u001b[1;33m(\u001b[0m\u001b[0mvariables_module\u001b[0m\u001b[1;33m.\u001b[0m\u001b[0mvariables_initializer\u001b[0m\u001b[1;33m(\u001b[0m\u001b[0muninitialized_vars\u001b[0m\u001b[1;33m)\u001b[0m\u001b[1;33m)\u001b[0m\u001b[1;33m\u001b[0m\u001b[0m\n\u001b[0m\u001b[0;32m    727\u001b[0m \u001b[1;33m\u001b[0m\u001b[0m\n\u001b[0;32m    728\u001b[0m \u001b[1;33m\u001b[0m\u001b[0m\n",
      "\u001b[1;32m~\\AppData\\Local\\conda\\conda\\envs\\tensorflow-gpu\\lib\\site-packages\\tensorflow\\python\\client\\session.py\u001b[0m in \u001b[0;36mrun\u001b[1;34m(self, fetches, feed_dict, options, run_metadata)\u001b[0m\n\u001b[0;32m    885\u001b[0m     \u001b[1;32mtry\u001b[0m\u001b[1;33m:\u001b[0m\u001b[1;33m\u001b[0m\u001b[0m\n\u001b[0;32m    886\u001b[0m       result = self._run(None, fetches, feed_dict, options_ptr,\n\u001b[1;32m--> 887\u001b[1;33m                          run_metadata_ptr)\n\u001b[0m\u001b[0;32m    888\u001b[0m       \u001b[1;32mif\u001b[0m \u001b[0mrun_metadata\u001b[0m\u001b[1;33m:\u001b[0m\u001b[1;33m\u001b[0m\u001b[0m\n\u001b[0;32m    889\u001b[0m         \u001b[0mproto_data\u001b[0m \u001b[1;33m=\u001b[0m \u001b[0mtf_session\u001b[0m\u001b[1;33m.\u001b[0m\u001b[0mTF_GetBuffer\u001b[0m\u001b[1;33m(\u001b[0m\u001b[0mrun_metadata_ptr\u001b[0m\u001b[1;33m)\u001b[0m\u001b[1;33m\u001b[0m\u001b[0m\n",
      "\u001b[1;32m~\\AppData\\Local\\conda\\conda\\envs\\tensorflow-gpu\\lib\\site-packages\\tensorflow\\python\\client\\session.py\u001b[0m in \u001b[0;36m_run\u001b[1;34m(self, handle, fetches, feed_dict, options, run_metadata)\u001b[0m\n\u001b[0;32m   1108\u001b[0m     \u001b[1;32mif\u001b[0m \u001b[0mfinal_fetches\u001b[0m \u001b[1;32mor\u001b[0m \u001b[0mfinal_targets\u001b[0m \u001b[1;32mor\u001b[0m \u001b[1;33m(\u001b[0m\u001b[0mhandle\u001b[0m \u001b[1;32mand\u001b[0m \u001b[0mfeed_dict_tensor\u001b[0m\u001b[1;33m)\u001b[0m\u001b[1;33m:\u001b[0m\u001b[1;33m\u001b[0m\u001b[0m\n\u001b[0;32m   1109\u001b[0m       results = self._do_run(handle, final_targets, final_fetches,\n\u001b[1;32m-> 1110\u001b[1;33m                              feed_dict_tensor, options, run_metadata)\n\u001b[0m\u001b[0;32m   1111\u001b[0m     \u001b[1;32melse\u001b[0m\u001b[1;33m:\u001b[0m\u001b[1;33m\u001b[0m\u001b[0m\n\u001b[0;32m   1112\u001b[0m       \u001b[0mresults\u001b[0m \u001b[1;33m=\u001b[0m \u001b[1;33m[\u001b[0m\u001b[1;33m]\u001b[0m\u001b[1;33m\u001b[0m\u001b[0m\n",
      "\u001b[1;32m~\\AppData\\Local\\conda\\conda\\envs\\tensorflow-gpu\\lib\\site-packages\\tensorflow\\python\\client\\session.py\u001b[0m in \u001b[0;36m_do_run\u001b[1;34m(self, handle, target_list, fetch_list, feed_dict, options, run_metadata)\u001b[0m\n\u001b[0;32m   1284\u001b[0m     \u001b[1;32mif\u001b[0m \u001b[0mhandle\u001b[0m \u001b[1;32mis\u001b[0m \u001b[1;32mNone\u001b[0m\u001b[1;33m:\u001b[0m\u001b[1;33m\u001b[0m\u001b[0m\n\u001b[0;32m   1285\u001b[0m       return self._do_call(_run_fn, feeds, fetches, targets, options,\n\u001b[1;32m-> 1286\u001b[1;33m                            run_metadata)\n\u001b[0m\u001b[0;32m   1287\u001b[0m     \u001b[1;32melse\u001b[0m\u001b[1;33m:\u001b[0m\u001b[1;33m\u001b[0m\u001b[0m\n\u001b[0;32m   1288\u001b[0m       \u001b[1;32mreturn\u001b[0m \u001b[0mself\u001b[0m\u001b[1;33m.\u001b[0m\u001b[0m_do_call\u001b[0m\u001b[1;33m(\u001b[0m\u001b[0m_prun_fn\u001b[0m\u001b[1;33m,\u001b[0m \u001b[0mhandle\u001b[0m\u001b[1;33m,\u001b[0m \u001b[0mfeeds\u001b[0m\u001b[1;33m,\u001b[0m \u001b[0mfetches\u001b[0m\u001b[1;33m)\u001b[0m\u001b[1;33m\u001b[0m\u001b[0m\n",
      "\u001b[1;32m~\\AppData\\Local\\conda\\conda\\envs\\tensorflow-gpu\\lib\\site-packages\\tensorflow\\python\\client\\session.py\u001b[0m in \u001b[0;36m_do_call\u001b[1;34m(self, fn, *args)\u001b[0m\n\u001b[0;32m   1306\u001b[0m           self._config.experimental.client_handles_error_formatting):\n\u001b[0;32m   1307\u001b[0m         \u001b[0mmessage\u001b[0m \u001b[1;33m=\u001b[0m \u001b[0merror_interpolation\u001b[0m\u001b[1;33m.\u001b[0m\u001b[0minterpolate\u001b[0m\u001b[1;33m(\u001b[0m\u001b[0mmessage\u001b[0m\u001b[1;33m,\u001b[0m \u001b[0mself\u001b[0m\u001b[1;33m.\u001b[0m\u001b[0m_graph\u001b[0m\u001b[1;33m)\u001b[0m\u001b[1;33m\u001b[0m\u001b[0m\n\u001b[1;32m-> 1308\u001b[1;33m       \u001b[1;32mraise\u001b[0m \u001b[0mtype\u001b[0m\u001b[1;33m(\u001b[0m\u001b[0me\u001b[0m\u001b[1;33m)\u001b[0m\u001b[1;33m(\u001b[0m\u001b[0mnode_def\u001b[0m\u001b[1;33m,\u001b[0m \u001b[0mop\u001b[0m\u001b[1;33m,\u001b[0m \u001b[0mmessage\u001b[0m\u001b[1;33m)\u001b[0m\u001b[1;33m\u001b[0m\u001b[0m\n\u001b[0m\u001b[0;32m   1309\u001b[0m \u001b[1;33m\u001b[0m\u001b[0m\n\u001b[0;32m   1310\u001b[0m   \u001b[1;32mdef\u001b[0m \u001b[0m_extend_graph\u001b[0m\u001b[1;33m(\u001b[0m\u001b[0mself\u001b[0m\u001b[1;33m)\u001b[0m\u001b[1;33m:\u001b[0m\u001b[1;33m\u001b[0m\u001b[0m\n",
      "\u001b[1;31mResourceExhaustedError\u001b[0m: OOM when allocating tensor with shape[700928,128] and type float on /job:localhost/replica:0/task:0/device:GPU:0 by allocator GPU_0_bfc\n\t [[{{node dense_10/kernel/Initializer/random_uniform/RandomUniform}} = RandomUniform[T=DT_INT32, _class=[\"loc:@dense_10/kernel/Assign\"], dtype=DT_FLOAT, seed=0, seed2=0, _device=\"/job:localhost/replica:0/task:0/device:GPU:0\"](dense_10/kernel/Initializer/random_uniform/shape)]]\nHint: If you want to see a list of allocated tensors when OOM happens, add report_tensor_allocations_upon_oom to RunOptions for current allocation info.\n\n\nCaused by op 'dense_10/kernel/Initializer/random_uniform/RandomUniform', defined at:\n  File \"C:\\Users\\suleiman\\AppData\\Local\\conda\\conda\\envs\\tensorflow-gpu\\lib\\runpy.py\", line 193, in _run_module_as_main\n    \"__main__\", mod_spec)\n  File \"C:\\Users\\suleiman\\AppData\\Local\\conda\\conda\\envs\\tensorflow-gpu\\lib\\runpy.py\", line 85, in _run_code\n    exec(code, run_globals)\n  File \"C:\\Users\\suleiman\\AppData\\Local\\conda\\conda\\envs\\tensorflow-gpu\\lib\\site-packages\\ipykernel_launcher.py\", line 16, in <module>\n    app.launch_new_instance()\n  File \"C:\\Users\\suleiman\\AppData\\Local\\conda\\conda\\envs\\tensorflow-gpu\\lib\\site-packages\\traitlets\\config\\application.py\", line 658, in launch_instance\n    app.start()\n  File \"C:\\Users\\suleiman\\AppData\\Local\\conda\\conda\\envs\\tensorflow-gpu\\lib\\site-packages\\ipykernel\\kernelapp.py\", line 505, in start\n    self.io_loop.start()\n  File \"C:\\Users\\suleiman\\AppData\\Local\\conda\\conda\\envs\\tensorflow-gpu\\lib\\site-packages\\tornado\\platform\\asyncio.py\", line 132, in start\n    self.asyncio_loop.run_forever()\n  File \"C:\\Users\\suleiman\\AppData\\Local\\conda\\conda\\envs\\tensorflow-gpu\\lib\\asyncio\\base_events.py\", line 422, in run_forever\n    self._run_once()\n  File \"C:\\Users\\suleiman\\AppData\\Local\\conda\\conda\\envs\\tensorflow-gpu\\lib\\asyncio\\base_events.py\", line 1432, in _run_once\n    handle._run()\n  File \"C:\\Users\\suleiman\\AppData\\Local\\conda\\conda\\envs\\tensorflow-gpu\\lib\\asyncio\\events.py\", line 145, in _run\n    self._callback(*self._args)\n  File \"C:\\Users\\suleiman\\AppData\\Local\\conda\\conda\\envs\\tensorflow-gpu\\lib\\site-packages\\tornado\\ioloop.py\", line 758, in _run_callback\n    ret = callback()\n  File \"C:\\Users\\suleiman\\AppData\\Local\\conda\\conda\\envs\\tensorflow-gpu\\lib\\site-packages\\tornado\\stack_context.py\", line 300, in null_wrapper\n    return fn(*args, **kwargs)\n  File \"C:\\Users\\suleiman\\AppData\\Local\\conda\\conda\\envs\\tensorflow-gpu\\lib\\site-packages\\tornado\\gen.py\", line 1233, in inner\n    self.run()\n  File \"C:\\Users\\suleiman\\AppData\\Local\\conda\\conda\\envs\\tensorflow-gpu\\lib\\site-packages\\tornado\\gen.py\", line 1147, in run\n    yielded = self.gen.send(value)\n  File \"C:\\Users\\suleiman\\AppData\\Local\\conda\\conda\\envs\\tensorflow-gpu\\lib\\site-packages\\ipykernel\\kernelbase.py\", line 357, in process_one\n    yield gen.maybe_future(dispatch(*args))\n  File \"C:\\Users\\suleiman\\AppData\\Local\\conda\\conda\\envs\\tensorflow-gpu\\lib\\site-packages\\tornado\\gen.py\", line 326, in wrapper\n    yielded = next(result)\n  File \"C:\\Users\\suleiman\\AppData\\Local\\conda\\conda\\envs\\tensorflow-gpu\\lib\\site-packages\\ipykernel\\kernelbase.py\", line 267, in dispatch_shell\n    yield gen.maybe_future(handler(stream, idents, msg))\n  File \"C:\\Users\\suleiman\\AppData\\Local\\conda\\conda\\envs\\tensorflow-gpu\\lib\\site-packages\\tornado\\gen.py\", line 326, in wrapper\n    yielded = next(result)\n  File \"C:\\Users\\suleiman\\AppData\\Local\\conda\\conda\\envs\\tensorflow-gpu\\lib\\site-packages\\ipykernel\\kernelbase.py\", line 534, in execute_request\n    user_expressions, allow_stdin,\n  File \"C:\\Users\\suleiman\\AppData\\Local\\conda\\conda\\envs\\tensorflow-gpu\\lib\\site-packages\\tornado\\gen.py\", line 326, in wrapper\n    yielded = next(result)\n  File \"C:\\Users\\suleiman\\AppData\\Local\\conda\\conda\\envs\\tensorflow-gpu\\lib\\site-packages\\ipykernel\\ipkernel.py\", line 294, in do_execute\n    res = shell.run_cell(code, store_history=store_history, silent=silent)\n  File \"C:\\Users\\suleiman\\AppData\\Local\\conda\\conda\\envs\\tensorflow-gpu\\lib\\site-packages\\ipykernel\\zmqshell.py\", line 536, in run_cell\n    return super(ZMQInteractiveShell, self).run_cell(*args, **kwargs)\n  File \"C:\\Users\\suleiman\\AppData\\Local\\conda\\conda\\envs\\tensorflow-gpu\\lib\\site-packages\\IPython\\core\\interactiveshell.py\", line 2817, in run_cell\n    raw_cell, store_history, silent, shell_futures)\n  File \"C:\\Users\\suleiman\\AppData\\Local\\conda\\conda\\envs\\tensorflow-gpu\\lib\\site-packages\\IPython\\core\\interactiveshell.py\", line 2843, in _run_cell\n    return runner(coro)\n  File \"C:\\Users\\suleiman\\AppData\\Local\\conda\\conda\\envs\\tensorflow-gpu\\lib\\site-packages\\IPython\\core\\async_helpers.py\", line 67, in _pseudo_sync_runner\n    coro.send(None)\n  File \"C:\\Users\\suleiman\\AppData\\Local\\conda\\conda\\envs\\tensorflow-gpu\\lib\\site-packages\\IPython\\core\\interactiveshell.py\", line 3018, in run_cell_async\n    interactivity=interactivity, compiler=compiler, result=result)\n  File \"C:\\Users\\suleiman\\AppData\\Local\\conda\\conda\\envs\\tensorflow-gpu\\lib\\site-packages\\IPython\\core\\interactiveshell.py\", line 3183, in run_ast_nodes\n    if (yield from self.run_code(code, result)):\n  File \"C:\\Users\\suleiman\\AppData\\Local\\conda\\conda\\envs\\tensorflow-gpu\\lib\\site-packages\\IPython\\core\\interactiveshell.py\", line 3265, in run_code\n    exec(code_obj, self.user_global_ns, self.user_ns)\n  File \"<ipython-input-14-88f13bcd4031>\", line 30, in <module>\n    model.add(Dense(layer_size))\n  File \"C:\\Users\\suleiman\\AppData\\Local\\conda\\conda\\envs\\tensorflow-gpu\\lib\\site-packages\\tensorflow\\python\\training\\checkpointable\\base.py\", line 426, in _method_wrapper\n    method(self, *args, **kwargs)\n  File \"C:\\Users\\suleiman\\AppData\\Local\\conda\\conda\\envs\\tensorflow-gpu\\lib\\site-packages\\tensorflow\\python\\keras\\engine\\sequential.py\", line 175, in add\n    output_tensor = layer(self.outputs[0])\n  File \"C:\\Users\\suleiman\\AppData\\Local\\conda\\conda\\envs\\tensorflow-gpu\\lib\\site-packages\\tensorflow\\python\\keras\\engine\\base_layer.py\", line 759, in __call__\n    self.build(input_shapes)\n  File \"C:\\Users\\suleiman\\AppData\\Local\\conda\\conda\\envs\\tensorflow-gpu\\lib\\site-packages\\tensorflow\\python\\keras\\layers\\core.py\", line 921, in build\n    trainable=True)\n  File \"C:\\Users\\suleiman\\AppData\\Local\\conda\\conda\\envs\\tensorflow-gpu\\lib\\site-packages\\tensorflow\\python\\keras\\engine\\base_layer.py\", line 586, in add_weight\n    aggregation=aggregation)\n  File \"C:\\Users\\suleiman\\AppData\\Local\\conda\\conda\\envs\\tensorflow-gpu\\lib\\site-packages\\tensorflow\\python\\training\\checkpointable\\base.py\", line 591, in _add_variable_with_custom_getter\n    **kwargs_for_getter)\n  File \"C:\\Users\\suleiman\\AppData\\Local\\conda\\conda\\envs\\tensorflow-gpu\\lib\\site-packages\\tensorflow\\python\\keras\\engine\\base_layer.py\", line 1986, in make_variable\n    aggregation=aggregation)\n  File \"C:\\Users\\suleiman\\AppData\\Local\\conda\\conda\\envs\\tensorflow-gpu\\lib\\site-packages\\tensorflow\\python\\ops\\variables.py\", line 145, in __call__\n    return cls._variable_call(*args, **kwargs)\n  File \"C:\\Users\\suleiman\\AppData\\Local\\conda\\conda\\envs\\tensorflow-gpu\\lib\\site-packages\\tensorflow\\python\\ops\\variables.py\", line 141, in _variable_call\n    aggregation=aggregation)\n  File \"C:\\Users\\suleiman\\AppData\\Local\\conda\\conda\\envs\\tensorflow-gpu\\lib\\site-packages\\tensorflow\\python\\ops\\variables.py\", line 120, in <lambda>\n    previous_getter = lambda **kwargs: default_variable_creator(None, **kwargs)\n  File \"C:\\Users\\suleiman\\AppData\\Local\\conda\\conda\\envs\\tensorflow-gpu\\lib\\site-packages\\tensorflow\\python\\ops\\variable_scope.py\", line 2434, in default_variable_creator\n    import_scope=import_scope)\n  File \"C:\\Users\\suleiman\\AppData\\Local\\conda\\conda\\envs\\tensorflow-gpu\\lib\\site-packages\\tensorflow\\python\\ops\\variables.py\", line 147, in __call__\n    return super(VariableMetaclass, cls).__call__(*args, **kwargs)\n  File \"C:\\Users\\suleiman\\AppData\\Local\\conda\\conda\\envs\\tensorflow-gpu\\lib\\site-packages\\tensorflow\\python\\ops\\resource_variable_ops.py\", line 297, in __init__\n    constraint=constraint)\n  File \"C:\\Users\\suleiman\\AppData\\Local\\conda\\conda\\envs\\tensorflow-gpu\\lib\\site-packages\\tensorflow\\python\\ops\\resource_variable_ops.py\", line 411, in _init_from_args\n    initial_value(), name=\"initial_value\", dtype=dtype)\n  File \"C:\\Users\\suleiman\\AppData\\Local\\conda\\conda\\envs\\tensorflow-gpu\\lib\\site-packages\\tensorflow\\python\\keras\\engine\\base_layer.py\", line 1970, in <lambda>\n    shape, dtype=dtype, partition_info=partition_info)\n  File \"C:\\Users\\suleiman\\AppData\\Local\\conda\\conda\\envs\\tensorflow-gpu\\lib\\site-packages\\tensorflow\\python\\ops\\init_ops.py\", line 483, in __call__\n    shape, -limit, limit, dtype, seed=self.seed)\n  File \"C:\\Users\\suleiman\\AppData\\Local\\conda\\conda\\envs\\tensorflow-gpu\\lib\\site-packages\\tensorflow\\python\\ops\\random_ops.py\", line 242, in random_uniform\n    rnd = gen_random_ops.random_uniform(shape, dtype, seed=seed1, seed2=seed2)\n  File \"C:\\Users\\suleiman\\AppData\\Local\\conda\\conda\\envs\\tensorflow-gpu\\lib\\site-packages\\tensorflow\\python\\ops\\gen_random_ops.py\", line 772, in random_uniform\n    name=name)\n  File \"C:\\Users\\suleiman\\AppData\\Local\\conda\\conda\\envs\\tensorflow-gpu\\lib\\site-packages\\tensorflow\\python\\framework\\op_def_library.py\", line 787, in _apply_op_helper\n    op_def=op_def)\n  File \"C:\\Users\\suleiman\\AppData\\Local\\conda\\conda\\envs\\tensorflow-gpu\\lib\\site-packages\\tensorflow\\python\\util\\deprecation.py\", line 488, in new_func\n    return func(*args, **kwargs)\n  File \"C:\\Users\\suleiman\\AppData\\Local\\conda\\conda\\envs\\tensorflow-gpu\\lib\\site-packages\\tensorflow\\python\\framework\\ops.py\", line 3272, in create_op\n    op_def=op_def)\n  File \"C:\\Users\\suleiman\\AppData\\Local\\conda\\conda\\envs\\tensorflow-gpu\\lib\\site-packages\\tensorflow\\python\\framework\\ops.py\", line 1768, in __init__\n    self._traceback = tf_stack.extract_stack()\n\nResourceExhaustedError (see above for traceback): OOM when allocating tensor with shape[700928,128] and type float on /job:localhost/replica:0/task:0/device:GPU:0 by allocator GPU_0_bfc\n\t [[{{node dense_10/kernel/Initializer/random_uniform/RandomUniform}} = RandomUniform[T=DT_INT32, _class=[\"loc:@dense_10/kernel/Assign\"], dtype=DT_FLOAT, seed=0, seed2=0, _device=\"/job:localhost/replica:0/task:0/device:GPU:0\"](dense_10/kernel/Initializer/random_uniform/shape)]]\nHint: If you want to see a list of allocated tensors when OOM happens, add report_tensor_allocations_upon_oom to RunOptions for current allocation info.\n\n"
     ]
    }
   ],
   "source": [
    "for dense_layer in dense_layers:\n",
    "    for layer_size in layer_sizes:\n",
    "        for conv_layer in conv_layers:\n",
    "             NAME = \"{}-conv-{}-nodes-{}-dense-{}-dimension-{}\".format(conv_layer, layer_size, dense_layer, size, int(time.time()))\n",
    "            \n",
    "            print(NAME)\n",
    "            #build our model with sequential\n",
    "            model = Sequential()\n",
    "            \n",
    "            # start with Conv layer 1 and pass layer sizes, 3x3 window, input data features\n",
    "            model.add(Conv2D(layer_size, (3,3), input_shape = X.shape[1:]))\n",
    "            \n",
    "            #after convolution pass activation layer 1 with 'rectified linear'\n",
    "            model.add(Activation(\"relu\"))\n",
    "            \n",
    "            #pass max pooling layer 1 with 2x2\n",
    "            model.add(MaxPooling2D(pool_size=(2,2)))\n",
    "            model.add(Dropout(0.25))\n",
    "            \n",
    "            #Conv layer, activation and pooling layers 2\n",
    "            for l in range(conv_layer-1):\n",
    "                model.add(Conv2D(layer_size, (3,3)))\n",
    "                model.add(Activation(\"relu\"))\n",
    "                model.add(MaxPooling2D(pool_size=(2,2)))\n",
    "                model.add(Dropout(0.1))\n",
    "            \n",
    "            #need to flatten before passing to dense layer\n",
    "            model.add(Flatten()) \n",
    "            for l in range(dense_layer):\n",
    "                model.add(Dense(layer_size))\n",
    "                model.add(Activation(\"relu\"))\n",
    "            \n",
    "            #add finally an output dense layer of size 1\n",
    "            model.add(Dense(1))\n",
    "            model.add(Activation('sigmoid'))\n",
    "            \n",
    "            tensorboard = TensorBoard(log_dir= 'logs/{}'.format(NAME))\n",
    "            \n",
    "            #compile our model and measure the performance of classification \n",
    "            #Adam is a popular algorithm in the field of deep learning because it achieves good results fast\n",
    "            \n",
    "            model.compile(loss='binary_crossentropy',\n",
    "                          optimizer='adam',\n",
    "                          metrics=['accuracy'])\n",
    "            \n",
    "            #unbalanced class with more negatives 6873 than positives 3076\n",
    "            class_weights = {0: 1.,\n",
    "                             1: 2.23} #6873/3076\n",
    "            \n",
    "            #fit model set how many to pass as a time in batch size, with 30% for validation\n",
    "            model.fit(X, y, class_weight=class_weights, batch_size=10, epochs=3, validation_split=0.3, callbacks=[tensorboard])"
   ]
  },
  {
   "cell_type": "code",
   "execution_count": 15,
   "metadata": {},
   "outputs": [],
   "source": [
    "dense_layers = [2]\n",
    "layer_sizes = [128]\n",
    "conv_layers = [1,2,3]"
   ]
  },
  {
   "cell_type": "code",
   "execution_count": 16,
   "metadata": {},
   "outputs": [
    {
     "name": "stdout",
     "output_type": "stream",
     "text": [
      "1-conv-128-nodes-2-dense-1542784406\n",
      "Train on 6964 samples, validate on 2985 samples\n"
     ]
    },
    {
     "ename": "ResourceExhaustedError",
     "evalue": "OOM when allocating tensor of shape [700928,128] and type float\n\t [[{{node training_9/Adam/zeros_10}} = Const[dtype=DT_FLOAT, value=Tensor<type: float shape: [700928,128] values: [0 0 0...]...>, _device=\"/job:localhost/replica:0/task:0/device:GPU:0\"]()]]\n\nCaused by op 'training_9/Adam/zeros_10', defined at:\n  File \"C:\\Users\\suleiman\\AppData\\Local\\conda\\conda\\envs\\tensorflow-gpu\\lib\\runpy.py\", line 193, in _run_module_as_main\n    \"__main__\", mod_spec)\n  File \"C:\\Users\\suleiman\\AppData\\Local\\conda\\conda\\envs\\tensorflow-gpu\\lib\\runpy.py\", line 85, in _run_code\n    exec(code, run_globals)\n  File \"C:\\Users\\suleiman\\AppData\\Local\\conda\\conda\\envs\\tensorflow-gpu\\lib\\site-packages\\ipykernel_launcher.py\", line 16, in <module>\n    app.launch_new_instance()\n  File \"C:\\Users\\suleiman\\AppData\\Local\\conda\\conda\\envs\\tensorflow-gpu\\lib\\site-packages\\traitlets\\config\\application.py\", line 658, in launch_instance\n    app.start()\n  File \"C:\\Users\\suleiman\\AppData\\Local\\conda\\conda\\envs\\tensorflow-gpu\\lib\\site-packages\\ipykernel\\kernelapp.py\", line 505, in start\n    self.io_loop.start()\n  File \"C:\\Users\\suleiman\\AppData\\Local\\conda\\conda\\envs\\tensorflow-gpu\\lib\\site-packages\\tornado\\platform\\asyncio.py\", line 132, in start\n    self.asyncio_loop.run_forever()\n  File \"C:\\Users\\suleiman\\AppData\\Local\\conda\\conda\\envs\\tensorflow-gpu\\lib\\asyncio\\base_events.py\", line 422, in run_forever\n    self._run_once()\n  File \"C:\\Users\\suleiman\\AppData\\Local\\conda\\conda\\envs\\tensorflow-gpu\\lib\\asyncio\\base_events.py\", line 1432, in _run_once\n    handle._run()\n  File \"C:\\Users\\suleiman\\AppData\\Local\\conda\\conda\\envs\\tensorflow-gpu\\lib\\asyncio\\events.py\", line 145, in _run\n    self._callback(*self._args)\n  File \"C:\\Users\\suleiman\\AppData\\Local\\conda\\conda\\envs\\tensorflow-gpu\\lib\\site-packages\\tornado\\ioloop.py\", line 758, in _run_callback\n    ret = callback()\n  File \"C:\\Users\\suleiman\\AppData\\Local\\conda\\conda\\envs\\tensorflow-gpu\\lib\\site-packages\\tornado\\stack_context.py\", line 300, in null_wrapper\n    return fn(*args, **kwargs)\n  File \"C:\\Users\\suleiman\\AppData\\Local\\conda\\conda\\envs\\tensorflow-gpu\\lib\\site-packages\\tornado\\gen.py\", line 1233, in inner\n    self.run()\n  File \"C:\\Users\\suleiman\\AppData\\Local\\conda\\conda\\envs\\tensorflow-gpu\\lib\\site-packages\\tornado\\gen.py\", line 1147, in run\n    yielded = self.gen.send(value)\n  File \"C:\\Users\\suleiman\\AppData\\Local\\conda\\conda\\envs\\tensorflow-gpu\\lib\\site-packages\\ipykernel\\kernelbase.py\", line 357, in process_one\n    yield gen.maybe_future(dispatch(*args))\n  File \"C:\\Users\\suleiman\\AppData\\Local\\conda\\conda\\envs\\tensorflow-gpu\\lib\\site-packages\\tornado\\gen.py\", line 326, in wrapper\n    yielded = next(result)\n  File \"C:\\Users\\suleiman\\AppData\\Local\\conda\\conda\\envs\\tensorflow-gpu\\lib\\site-packages\\ipykernel\\kernelbase.py\", line 267, in dispatch_shell\n    yield gen.maybe_future(handler(stream, idents, msg))\n  File \"C:\\Users\\suleiman\\AppData\\Local\\conda\\conda\\envs\\tensorflow-gpu\\lib\\site-packages\\tornado\\gen.py\", line 326, in wrapper\n    yielded = next(result)\n  File \"C:\\Users\\suleiman\\AppData\\Local\\conda\\conda\\envs\\tensorflow-gpu\\lib\\site-packages\\ipykernel\\kernelbase.py\", line 534, in execute_request\n    user_expressions, allow_stdin,\n  File \"C:\\Users\\suleiman\\AppData\\Local\\conda\\conda\\envs\\tensorflow-gpu\\lib\\site-packages\\tornado\\gen.py\", line 326, in wrapper\n    yielded = next(result)\n  File \"C:\\Users\\suleiman\\AppData\\Local\\conda\\conda\\envs\\tensorflow-gpu\\lib\\site-packages\\ipykernel\\ipkernel.py\", line 294, in do_execute\n    res = shell.run_cell(code, store_history=store_history, silent=silent)\n  File \"C:\\Users\\suleiman\\AppData\\Local\\conda\\conda\\envs\\tensorflow-gpu\\lib\\site-packages\\ipykernel\\zmqshell.py\", line 536, in run_cell\n    return super(ZMQInteractiveShell, self).run_cell(*args, **kwargs)\n  File \"C:\\Users\\suleiman\\AppData\\Local\\conda\\conda\\envs\\tensorflow-gpu\\lib\\site-packages\\IPython\\core\\interactiveshell.py\", line 2817, in run_cell\n    raw_cell, store_history, silent, shell_futures)\n  File \"C:\\Users\\suleiman\\AppData\\Local\\conda\\conda\\envs\\tensorflow-gpu\\lib\\site-packages\\IPython\\core\\interactiveshell.py\", line 2843, in _run_cell\n    return runner(coro)\n  File \"C:\\Users\\suleiman\\AppData\\Local\\conda\\conda\\envs\\tensorflow-gpu\\lib\\site-packages\\IPython\\core\\async_helpers.py\", line 67, in _pseudo_sync_runner\n    coro.send(None)\n  File \"C:\\Users\\suleiman\\AppData\\Local\\conda\\conda\\envs\\tensorflow-gpu\\lib\\site-packages\\IPython\\core\\interactiveshell.py\", line 3018, in run_cell_async\n    interactivity=interactivity, compiler=compiler, result=result)\n  File \"C:\\Users\\suleiman\\AppData\\Local\\conda\\conda\\envs\\tensorflow-gpu\\lib\\site-packages\\IPython\\core\\interactiveshell.py\", line 3183, in run_ast_nodes\n    if (yield from self.run_code(code, result)):\n  File \"C:\\Users\\suleiman\\AppData\\Local\\conda\\conda\\envs\\tensorflow-gpu\\lib\\site-packages\\IPython\\core\\interactiveshell.py\", line 3265, in run_code\n    exec(code_obj, self.user_global_ns, self.user_ns)\n  File \"<ipython-input-16-88f13bcd4031>\", line 51, in <module>\n    model.fit(X, y, class_weight=class_weights, batch_size=10, epochs=3, validation_split=0.3, callbacks=[tensorboard])\n  File \"C:\\Users\\suleiman\\AppData\\Local\\conda\\conda\\envs\\tensorflow-gpu\\lib\\site-packages\\tensorflow\\python\\keras\\engine\\training.py\", line 1605, in fit\n    validation_steps=validation_steps)\n  File \"C:\\Users\\suleiman\\AppData\\Local\\conda\\conda\\envs\\tensorflow-gpu\\lib\\site-packages\\tensorflow\\python\\keras\\engine\\training_arrays.py\", line 86, in fit_loop\n    model._make_train_function()\n  File \"C:\\Users\\suleiman\\AppData\\Local\\conda\\conda\\envs\\tensorflow-gpu\\lib\\site-packages\\tensorflow\\python\\keras\\engine\\training.py\", line 715, in _make_train_function\n    params=self._collected_trainable_weights, loss=self.total_loss)\n  File \"C:\\Users\\suleiman\\AppData\\Local\\conda\\conda\\envs\\tensorflow-gpu\\lib\\site-packages\\tensorflow\\python\\keras\\optimizers.py\", line 472, in get_updates\n    vs = [K.zeros(K.int_shape(p), dtype=K.dtype(p)) for p in params]\n  File \"C:\\Users\\suleiman\\AppData\\Local\\conda\\conda\\envs\\tensorflow-gpu\\lib\\site-packages\\tensorflow\\python\\keras\\optimizers.py\", line 472, in <listcomp>\n    vs = [K.zeros(K.int_shape(p), dtype=K.dtype(p)) for p in params]\n  File \"C:\\Users\\suleiman\\AppData\\Local\\conda\\conda\\envs\\tensorflow-gpu\\lib\\site-packages\\tensorflow\\python\\keras\\backend.py\", line 1025, in zeros\n    v = array_ops.zeros(shape=shape, dtype=tf_dtype, name=name)\n  File \"C:\\Users\\suleiman\\AppData\\Local\\conda\\conda\\envs\\tensorflow-gpu\\lib\\site-packages\\tensorflow\\python\\ops\\array_ops.py\", line 1561, in zeros\n    output = fill(shape, constant(zero, dtype=dtype), name=name)\n  File \"C:\\Users\\suleiman\\AppData\\Local\\conda\\conda\\envs\\tensorflow-gpu\\lib\\site-packages\\tensorflow\\python\\ops\\gen_array_ops.py\", line 3359, in fill\n    \"Fill\", dims=dims, value=value, name=name)\n  File \"C:\\Users\\suleiman\\AppData\\Local\\conda\\conda\\envs\\tensorflow-gpu\\lib\\site-packages\\tensorflow\\python\\framework\\op_def_library.py\", line 787, in _apply_op_helper\n    op_def=op_def)\n  File \"C:\\Users\\suleiman\\AppData\\Local\\conda\\conda\\envs\\tensorflow-gpu\\lib\\site-packages\\tensorflow\\python\\util\\deprecation.py\", line 488, in new_func\n    return func(*args, **kwargs)\n  File \"C:\\Users\\suleiman\\AppData\\Local\\conda\\conda\\envs\\tensorflow-gpu\\lib\\site-packages\\tensorflow\\python\\framework\\ops.py\", line 3272, in create_op\n    op_def=op_def)\n  File \"C:\\Users\\suleiman\\AppData\\Local\\conda\\conda\\envs\\tensorflow-gpu\\lib\\site-packages\\tensorflow\\python\\framework\\ops.py\", line 1768, in __init__\n    self._traceback = tf_stack.extract_stack()\n\nResourceExhaustedError (see above for traceback): OOM when allocating tensor of shape [700928,128] and type float\n\t [[{{node training_9/Adam/zeros_10}} = Const[dtype=DT_FLOAT, value=Tensor<type: float shape: [700928,128] values: [0 0 0...]...>, _device=\"/job:localhost/replica:0/task:0/device:GPU:0\"]()]]\n",
     "output_type": "error",
     "traceback": [
      "\u001b[1;31m---------------------------------------------------------------------------\u001b[0m",
      "\u001b[1;31mResourceExhaustedError\u001b[0m                    Traceback (most recent call last)",
      "\u001b[1;32m~\\AppData\\Local\\conda\\conda\\envs\\tensorflow-gpu\\lib\\site-packages\\tensorflow\\python\\client\\session.py\u001b[0m in \u001b[0;36m_do_call\u001b[1;34m(self, fn, *args)\u001b[0m\n\u001b[0;32m   1291\u001b[0m     \u001b[1;32mtry\u001b[0m\u001b[1;33m:\u001b[0m\u001b[1;33m\u001b[0m\u001b[0m\n\u001b[1;32m-> 1292\u001b[1;33m       \u001b[1;32mreturn\u001b[0m \u001b[0mfn\u001b[0m\u001b[1;33m(\u001b[0m\u001b[1;33m*\u001b[0m\u001b[0margs\u001b[0m\u001b[1;33m)\u001b[0m\u001b[1;33m\u001b[0m\u001b[0m\n\u001b[0m\u001b[0;32m   1293\u001b[0m     \u001b[1;32mexcept\u001b[0m \u001b[0merrors\u001b[0m\u001b[1;33m.\u001b[0m\u001b[0mOpError\u001b[0m \u001b[1;32mas\u001b[0m \u001b[0me\u001b[0m\u001b[1;33m:\u001b[0m\u001b[1;33m\u001b[0m\u001b[0m\n",
      "\u001b[1;32m~\\AppData\\Local\\conda\\conda\\envs\\tensorflow-gpu\\lib\\site-packages\\tensorflow\\python\\client\\session.py\u001b[0m in \u001b[0;36m_run_fn\u001b[1;34m(feed_dict, fetch_list, target_list, options, run_metadata)\u001b[0m\n\u001b[0;32m   1276\u001b[0m       return self._call_tf_sessionrun(\n\u001b[1;32m-> 1277\u001b[1;33m           options, feed_dict, fetch_list, target_list, run_metadata)\n\u001b[0m\u001b[0;32m   1278\u001b[0m \u001b[1;33m\u001b[0m\u001b[0m\n",
      "\u001b[1;32m~\\AppData\\Local\\conda\\conda\\envs\\tensorflow-gpu\\lib\\site-packages\\tensorflow\\python\\client\\session.py\u001b[0m in \u001b[0;36m_call_tf_sessionrun\u001b[1;34m(self, options, feed_dict, fetch_list, target_list, run_metadata)\u001b[0m\n\u001b[0;32m   1366\u001b[0m         \u001b[0mself\u001b[0m\u001b[1;33m.\u001b[0m\u001b[0m_session\u001b[0m\u001b[1;33m,\u001b[0m \u001b[0moptions\u001b[0m\u001b[1;33m,\u001b[0m \u001b[0mfeed_dict\u001b[0m\u001b[1;33m,\u001b[0m \u001b[0mfetch_list\u001b[0m\u001b[1;33m,\u001b[0m \u001b[0mtarget_list\u001b[0m\u001b[1;33m,\u001b[0m\u001b[1;33m\u001b[0m\u001b[0m\n\u001b[1;32m-> 1367\u001b[1;33m         run_metadata)\n\u001b[0m\u001b[0;32m   1368\u001b[0m \u001b[1;33m\u001b[0m\u001b[0m\n",
      "\u001b[1;31mResourceExhaustedError\u001b[0m: OOM when allocating tensor of shape [700928,128] and type float\n\t [[{{node training_9/Adam/zeros_10}} = Const[dtype=DT_FLOAT, value=Tensor<type: float shape: [700928,128] values: [0 0 0...]...>, _device=\"/job:localhost/replica:0/task:0/device:GPU:0\"]()]]",
      "\nDuring handling of the above exception, another exception occurred:\n",
      "\u001b[1;31mResourceExhaustedError\u001b[0m                    Traceback (most recent call last)",
      "\u001b[1;32m<ipython-input-16-88f13bcd4031>\u001b[0m in \u001b[0;36m<module>\u001b[1;34m\u001b[0m\n\u001b[0;32m     49\u001b[0m \u001b[1;33m\u001b[0m\u001b[0m\n\u001b[0;32m     50\u001b[0m             \u001b[1;31m#fit model set how many to pass as a time in batch size, with 30% for validation\u001b[0m\u001b[1;33m\u001b[0m\u001b[1;33m\u001b[0m\u001b[0m\n\u001b[1;32m---> 51\u001b[1;33m             \u001b[0mmodel\u001b[0m\u001b[1;33m.\u001b[0m\u001b[0mfit\u001b[0m\u001b[1;33m(\u001b[0m\u001b[0mX\u001b[0m\u001b[1;33m,\u001b[0m \u001b[0my\u001b[0m\u001b[1;33m,\u001b[0m \u001b[0mclass_weight\u001b[0m\u001b[1;33m=\u001b[0m\u001b[0mclass_weights\u001b[0m\u001b[1;33m,\u001b[0m \u001b[0mbatch_size\u001b[0m\u001b[1;33m=\u001b[0m\u001b[1;36m10\u001b[0m\u001b[1;33m,\u001b[0m \u001b[0mepochs\u001b[0m\u001b[1;33m=\u001b[0m\u001b[1;36m3\u001b[0m\u001b[1;33m,\u001b[0m \u001b[0mvalidation_split\u001b[0m\u001b[1;33m=\u001b[0m\u001b[1;36m0.3\u001b[0m\u001b[1;33m,\u001b[0m \u001b[0mcallbacks\u001b[0m\u001b[1;33m=\u001b[0m\u001b[1;33m[\u001b[0m\u001b[0mtensorboard\u001b[0m\u001b[1;33m]\u001b[0m\u001b[1;33m)\u001b[0m\u001b[1;33m\u001b[0m\u001b[0m\n\u001b[0m",
      "\u001b[1;32m~\\AppData\\Local\\conda\\conda\\envs\\tensorflow-gpu\\lib\\site-packages\\tensorflow\\python\\keras\\engine\\training.py\u001b[0m in \u001b[0;36mfit\u001b[1;34m(self, x, y, batch_size, epochs, verbose, callbacks, validation_split, validation_data, shuffle, class_weight, sample_weight, initial_epoch, steps_per_epoch, validation_steps, **kwargs)\u001b[0m\n\u001b[0;32m   1603\u001b[0m           \u001b[0minitial_epoch\u001b[0m\u001b[1;33m=\u001b[0m\u001b[0minitial_epoch\u001b[0m\u001b[1;33m,\u001b[0m\u001b[1;33m\u001b[0m\u001b[0m\n\u001b[0;32m   1604\u001b[0m           \u001b[0msteps_per_epoch\u001b[0m\u001b[1;33m=\u001b[0m\u001b[0msteps_per_epoch\u001b[0m\u001b[1;33m,\u001b[0m\u001b[1;33m\u001b[0m\u001b[0m\n\u001b[1;32m-> 1605\u001b[1;33m           validation_steps=validation_steps)\n\u001b[0m\u001b[0;32m   1606\u001b[0m \u001b[1;33m\u001b[0m\u001b[0m\n\u001b[0;32m   1607\u001b[0m   def evaluate(self,\n",
      "\u001b[1;32m~\\AppData\\Local\\conda\\conda\\envs\\tensorflow-gpu\\lib\\site-packages\\tensorflow\\python\\keras\\engine\\training_arrays.py\u001b[0m in \u001b[0;36mfit_loop\u001b[1;34m(model, inputs, targets, sample_weights, batch_size, epochs, verbose, callbacks, val_inputs, val_targets, val_sample_weights, shuffle, initial_epoch, steps_per_epoch, validation_steps)\u001b[0m\n\u001b[0;32m    125\u001b[0m       \u001b[0mvalidation_steps\u001b[0m\u001b[1;33m=\u001b[0m\u001b[0mvalidation_steps\u001b[0m\u001b[1;33m,\u001b[0m\u001b[1;33m\u001b[0m\u001b[0m\n\u001b[0;32m    126\u001b[0m       \u001b[0mverbose\u001b[0m\u001b[1;33m=\u001b[0m\u001b[0mverbose\u001b[0m\u001b[1;33m,\u001b[0m\u001b[1;33m\u001b[0m\u001b[0m\n\u001b[1;32m--> 127\u001b[1;33m       count_mode=count_mode)\n\u001b[0m\u001b[0;32m    128\u001b[0m \u001b[1;33m\u001b[0m\u001b[0m\n\u001b[0;32m    129\u001b[0m   \u001b[1;32mif\u001b[0m \u001b[0mnum_train_samples\u001b[0m \u001b[1;32mis\u001b[0m \u001b[1;32mnot\u001b[0m \u001b[1;32mNone\u001b[0m\u001b[1;33m:\u001b[0m\u001b[1;33m\u001b[0m\u001b[0m\n",
      "\u001b[1;32m~\\AppData\\Local\\conda\\conda\\envs\\tensorflow-gpu\\lib\\site-packages\\tensorflow\\python\\keras\\callbacks.py\u001b[0m in \u001b[0;36mconfigure_callbacks\u001b[1;34m(callbacks, model, do_validation, val_inputs, val_targets, val_sample_weights, batch_size, epochs, steps_per_epoch, samples, validation_steps, verbose, count_mode)\u001b[0m\n\u001b[0;32m    112\u001b[0m     \u001b[1;31m# list of fetches of the test_function\u001b[0m\u001b[1;33m\u001b[0m\u001b[1;33m\u001b[0m\u001b[0m\n\u001b[0;32m    113\u001b[0m     \u001b[0mcallback_model\u001b[0m\u001b[1;33m.\u001b[0m\u001b[0m_make_test_function\u001b[0m\u001b[1;33m(\u001b[0m\u001b[1;33m)\u001b[0m  \u001b[1;31m# pylint: disable=protected-access\u001b[0m\u001b[1;33m\u001b[0m\u001b[0m\n\u001b[1;32m--> 114\u001b[1;33m   \u001b[0mcallback_list\u001b[0m\u001b[1;33m.\u001b[0m\u001b[0mset_model\u001b[0m\u001b[1;33m(\u001b[0m\u001b[0mcallback_model\u001b[0m\u001b[1;33m)\u001b[0m\u001b[1;33m\u001b[0m\u001b[0m\n\u001b[0m\u001b[0;32m    115\u001b[0m \u001b[1;33m\u001b[0m\u001b[0m\n\u001b[0;32m    116\u001b[0m   \u001b[1;31m# Set callback parameters\u001b[0m\u001b[1;33m\u001b[0m\u001b[1;33m\u001b[0m\u001b[0m\n",
      "\u001b[1;32m~\\AppData\\Local\\conda\\conda\\envs\\tensorflow-gpu\\lib\\site-packages\\tensorflow\\python\\keras\\callbacks.py\u001b[0m in \u001b[0;36mset_model\u001b[1;34m(self, model)\u001b[0m\n\u001b[0;32m    187\u001b[0m     \u001b[0mself\u001b[0m\u001b[1;33m.\u001b[0m\u001b[0mmodel\u001b[0m \u001b[1;33m=\u001b[0m \u001b[0mmodel\u001b[0m\u001b[1;33m\u001b[0m\u001b[0m\n\u001b[0;32m    188\u001b[0m     \u001b[1;32mfor\u001b[0m \u001b[0mcallback\u001b[0m \u001b[1;32min\u001b[0m \u001b[0mself\u001b[0m\u001b[1;33m.\u001b[0m\u001b[0mcallbacks\u001b[0m\u001b[1;33m:\u001b[0m\u001b[1;33m\u001b[0m\u001b[0m\n\u001b[1;32m--> 189\u001b[1;33m       \u001b[0mcallback\u001b[0m\u001b[1;33m.\u001b[0m\u001b[0mset_model\u001b[0m\u001b[1;33m(\u001b[0m\u001b[0mmodel\u001b[0m\u001b[1;33m)\u001b[0m\u001b[1;33m\u001b[0m\u001b[0m\n\u001b[0m\u001b[0;32m    190\u001b[0m \u001b[1;33m\u001b[0m\u001b[0m\n\u001b[0;32m    191\u001b[0m   \u001b[1;32mdef\u001b[0m \u001b[0mon_epoch_begin\u001b[0m\u001b[1;33m(\u001b[0m\u001b[0mself\u001b[0m\u001b[1;33m,\u001b[0m \u001b[0mepoch\u001b[0m\u001b[1;33m,\u001b[0m \u001b[0mlogs\u001b[0m\u001b[1;33m=\u001b[0m\u001b[1;32mNone\u001b[0m\u001b[1;33m)\u001b[0m\u001b[1;33m:\u001b[0m\u001b[1;33m\u001b[0m\u001b[0m\n",
      "\u001b[1;32m~\\AppData\\Local\\conda\\conda\\envs\\tensorflow-gpu\\lib\\site-packages\\tensorflow\\python\\keras\\callbacks.py\u001b[0m in \u001b[0;36mset_model\u001b[1;34m(self, model)\u001b[0m\n\u001b[0;32m    942\u001b[0m \u001b[1;33m\u001b[0m\u001b[0m\n\u001b[0;32m    943\u001b[0m     \u001b[0mself\u001b[0m\u001b[1;33m.\u001b[0m\u001b[0mmodel\u001b[0m \u001b[1;33m=\u001b[0m \u001b[0mmodel\u001b[0m\u001b[1;33m\u001b[0m\u001b[0m\n\u001b[1;32m--> 944\u001b[1;33m     \u001b[0mself\u001b[0m\u001b[1;33m.\u001b[0m\u001b[0m_init_writer\u001b[0m\u001b[1;33m(\u001b[0m\u001b[1;33m)\u001b[0m\u001b[1;33m\u001b[0m\u001b[0m\n\u001b[0m\u001b[0;32m    945\u001b[0m     \u001b[1;31m# histogram summaries only enabled in graph mode\u001b[0m\u001b[1;33m\u001b[0m\u001b[1;33m\u001b[0m\u001b[0m\n\u001b[0;32m    946\u001b[0m     \u001b[1;32mif\u001b[0m \u001b[1;32mnot\u001b[0m \u001b[0mcontext\u001b[0m\u001b[1;33m.\u001b[0m\u001b[0mexecuting_eagerly\u001b[0m\u001b[1;33m(\u001b[0m\u001b[1;33m)\u001b[0m\u001b[1;33m:\u001b[0m\u001b[1;33m\u001b[0m\u001b[0m\n",
      "\u001b[1;32m~\\AppData\\Local\\conda\\conda\\envs\\tensorflow-gpu\\lib\\site-packages\\tensorflow\\python\\keras\\callbacks.py\u001b[0m in \u001b[0;36m_init_writer\u001b[1;34m(self)\u001b[0m\n\u001b[0;32m    879\u001b[0m       \u001b[0mself\u001b[0m\u001b[1;33m.\u001b[0m\u001b[0mwriter\u001b[0m \u001b[1;33m=\u001b[0m \u001b[0msummary_ops_v2\u001b[0m\u001b[1;33m.\u001b[0m\u001b[0mcreate_file_writer\u001b[0m\u001b[1;33m(\u001b[0m\u001b[0mself\u001b[0m\u001b[1;33m.\u001b[0m\u001b[0mlog_dir\u001b[0m\u001b[1;33m)\u001b[0m\u001b[1;33m\u001b[0m\u001b[0m\n\u001b[0;32m    880\u001b[0m     \u001b[1;32melif\u001b[0m \u001b[0mself\u001b[0m\u001b[1;33m.\u001b[0m\u001b[0mwrite_graph\u001b[0m\u001b[1;33m:\u001b[0m\u001b[1;33m\u001b[0m\u001b[0m\n\u001b[1;32m--> 881\u001b[1;33m       \u001b[0mself\u001b[0m\u001b[1;33m.\u001b[0m\u001b[0mwriter\u001b[0m \u001b[1;33m=\u001b[0m \u001b[0mtf_summary\u001b[0m\u001b[1;33m.\u001b[0m\u001b[0mFileWriter\u001b[0m\u001b[1;33m(\u001b[0m\u001b[0mself\u001b[0m\u001b[1;33m.\u001b[0m\u001b[0mlog_dir\u001b[0m\u001b[1;33m,\u001b[0m \u001b[0mK\u001b[0m\u001b[1;33m.\u001b[0m\u001b[0mget_session\u001b[0m\u001b[1;33m(\u001b[0m\u001b[1;33m)\u001b[0m\u001b[1;33m.\u001b[0m\u001b[0mgraph\u001b[0m\u001b[1;33m)\u001b[0m\u001b[1;33m\u001b[0m\u001b[0m\n\u001b[0m\u001b[0;32m    882\u001b[0m     \u001b[1;32melse\u001b[0m\u001b[1;33m:\u001b[0m\u001b[1;33m\u001b[0m\u001b[0m\n\u001b[0;32m    883\u001b[0m       \u001b[0mself\u001b[0m\u001b[1;33m.\u001b[0m\u001b[0mwriter\u001b[0m \u001b[1;33m=\u001b[0m \u001b[0mtf_summary\u001b[0m\u001b[1;33m.\u001b[0m\u001b[0mFileWriter\u001b[0m\u001b[1;33m(\u001b[0m\u001b[0mself\u001b[0m\u001b[1;33m.\u001b[0m\u001b[0mlog_dir\u001b[0m\u001b[1;33m)\u001b[0m\u001b[1;33m\u001b[0m\u001b[0m\n",
      "\u001b[1;32m~\\AppData\\Local\\conda\\conda\\envs\\tensorflow-gpu\\lib\\site-packages\\tensorflow\\python\\keras\\backend.py\u001b[0m in \u001b[0;36mget_session\u001b[1;34m()\u001b[0m\n\u001b[0;32m    463\u001b[0m   \u001b[1;32mif\u001b[0m \u001b[1;32mnot\u001b[0m \u001b[0m_MANUAL_VAR_INIT\u001b[0m\u001b[1;33m:\u001b[0m\u001b[1;33m\u001b[0m\u001b[0m\n\u001b[0;32m    464\u001b[0m     \u001b[1;32mwith\u001b[0m \u001b[0msession\u001b[0m\u001b[1;33m.\u001b[0m\u001b[0mgraph\u001b[0m\u001b[1;33m.\u001b[0m\u001b[0mas_default\u001b[0m\u001b[1;33m(\u001b[0m\u001b[1;33m)\u001b[0m\u001b[1;33m:\u001b[0m\u001b[1;33m\u001b[0m\u001b[0m\n\u001b[1;32m--> 465\u001b[1;33m       \u001b[0m_initialize_variables\u001b[0m\u001b[1;33m(\u001b[0m\u001b[0msession\u001b[0m\u001b[1;33m)\u001b[0m\u001b[1;33m\u001b[0m\u001b[0m\n\u001b[0m\u001b[0;32m    466\u001b[0m   \u001b[1;32mreturn\u001b[0m \u001b[0msession\u001b[0m\u001b[1;33m\u001b[0m\u001b[0m\n\u001b[0;32m    467\u001b[0m \u001b[1;33m\u001b[0m\u001b[0m\n",
      "\u001b[1;32m~\\AppData\\Local\\conda\\conda\\envs\\tensorflow-gpu\\lib\\site-packages\\tensorflow\\python\\keras\\backend.py\u001b[0m in \u001b[0;36m_initialize_variables\u001b[1;34m(session)\u001b[0m\n\u001b[0;32m    724\u001b[0m       \u001b[0mv\u001b[0m\u001b[1;33m.\u001b[0m\u001b[0m_keras_initialized\u001b[0m \u001b[1;33m=\u001b[0m \u001b[1;32mTrue\u001b[0m\u001b[1;33m\u001b[0m\u001b[0m\n\u001b[0;32m    725\u001b[0m     \u001b[1;32mif\u001b[0m \u001b[0muninitialized_vars\u001b[0m\u001b[1;33m:\u001b[0m\u001b[1;33m\u001b[0m\u001b[0m\n\u001b[1;32m--> 726\u001b[1;33m       \u001b[0msession\u001b[0m\u001b[1;33m.\u001b[0m\u001b[0mrun\u001b[0m\u001b[1;33m(\u001b[0m\u001b[0mvariables_module\u001b[0m\u001b[1;33m.\u001b[0m\u001b[0mvariables_initializer\u001b[0m\u001b[1;33m(\u001b[0m\u001b[0muninitialized_vars\u001b[0m\u001b[1;33m)\u001b[0m\u001b[1;33m)\u001b[0m\u001b[1;33m\u001b[0m\u001b[0m\n\u001b[0m\u001b[0;32m    727\u001b[0m \u001b[1;33m\u001b[0m\u001b[0m\n\u001b[0;32m    728\u001b[0m \u001b[1;33m\u001b[0m\u001b[0m\n",
      "\u001b[1;32m~\\AppData\\Local\\conda\\conda\\envs\\tensorflow-gpu\\lib\\site-packages\\tensorflow\\python\\client\\session.py\u001b[0m in \u001b[0;36mrun\u001b[1;34m(self, fetches, feed_dict, options, run_metadata)\u001b[0m\n\u001b[0;32m    885\u001b[0m     \u001b[1;32mtry\u001b[0m\u001b[1;33m:\u001b[0m\u001b[1;33m\u001b[0m\u001b[0m\n\u001b[0;32m    886\u001b[0m       result = self._run(None, fetches, feed_dict, options_ptr,\n\u001b[1;32m--> 887\u001b[1;33m                          run_metadata_ptr)\n\u001b[0m\u001b[0;32m    888\u001b[0m       \u001b[1;32mif\u001b[0m \u001b[0mrun_metadata\u001b[0m\u001b[1;33m:\u001b[0m\u001b[1;33m\u001b[0m\u001b[0m\n\u001b[0;32m    889\u001b[0m         \u001b[0mproto_data\u001b[0m \u001b[1;33m=\u001b[0m \u001b[0mtf_session\u001b[0m\u001b[1;33m.\u001b[0m\u001b[0mTF_GetBuffer\u001b[0m\u001b[1;33m(\u001b[0m\u001b[0mrun_metadata_ptr\u001b[0m\u001b[1;33m)\u001b[0m\u001b[1;33m\u001b[0m\u001b[0m\n",
      "\u001b[1;32m~\\AppData\\Local\\conda\\conda\\envs\\tensorflow-gpu\\lib\\site-packages\\tensorflow\\python\\client\\session.py\u001b[0m in \u001b[0;36m_run\u001b[1;34m(self, handle, fetches, feed_dict, options, run_metadata)\u001b[0m\n\u001b[0;32m   1108\u001b[0m     \u001b[1;32mif\u001b[0m \u001b[0mfinal_fetches\u001b[0m \u001b[1;32mor\u001b[0m \u001b[0mfinal_targets\u001b[0m \u001b[1;32mor\u001b[0m \u001b[1;33m(\u001b[0m\u001b[0mhandle\u001b[0m \u001b[1;32mand\u001b[0m \u001b[0mfeed_dict_tensor\u001b[0m\u001b[1;33m)\u001b[0m\u001b[1;33m:\u001b[0m\u001b[1;33m\u001b[0m\u001b[0m\n\u001b[0;32m   1109\u001b[0m       results = self._do_run(handle, final_targets, final_fetches,\n\u001b[1;32m-> 1110\u001b[1;33m                              feed_dict_tensor, options, run_metadata)\n\u001b[0m\u001b[0;32m   1111\u001b[0m     \u001b[1;32melse\u001b[0m\u001b[1;33m:\u001b[0m\u001b[1;33m\u001b[0m\u001b[0m\n\u001b[0;32m   1112\u001b[0m       \u001b[0mresults\u001b[0m \u001b[1;33m=\u001b[0m \u001b[1;33m[\u001b[0m\u001b[1;33m]\u001b[0m\u001b[1;33m\u001b[0m\u001b[0m\n",
      "\u001b[1;32m~\\AppData\\Local\\conda\\conda\\envs\\tensorflow-gpu\\lib\\site-packages\\tensorflow\\python\\client\\session.py\u001b[0m in \u001b[0;36m_do_run\u001b[1;34m(self, handle, target_list, fetch_list, feed_dict, options, run_metadata)\u001b[0m\n\u001b[0;32m   1284\u001b[0m     \u001b[1;32mif\u001b[0m \u001b[0mhandle\u001b[0m \u001b[1;32mis\u001b[0m \u001b[1;32mNone\u001b[0m\u001b[1;33m:\u001b[0m\u001b[1;33m\u001b[0m\u001b[0m\n\u001b[0;32m   1285\u001b[0m       return self._do_call(_run_fn, feeds, fetches, targets, options,\n\u001b[1;32m-> 1286\u001b[1;33m                            run_metadata)\n\u001b[0m\u001b[0;32m   1287\u001b[0m     \u001b[1;32melse\u001b[0m\u001b[1;33m:\u001b[0m\u001b[1;33m\u001b[0m\u001b[0m\n\u001b[0;32m   1288\u001b[0m       \u001b[1;32mreturn\u001b[0m \u001b[0mself\u001b[0m\u001b[1;33m.\u001b[0m\u001b[0m_do_call\u001b[0m\u001b[1;33m(\u001b[0m\u001b[0m_prun_fn\u001b[0m\u001b[1;33m,\u001b[0m \u001b[0mhandle\u001b[0m\u001b[1;33m,\u001b[0m \u001b[0mfeeds\u001b[0m\u001b[1;33m,\u001b[0m \u001b[0mfetches\u001b[0m\u001b[1;33m)\u001b[0m\u001b[1;33m\u001b[0m\u001b[0m\n",
      "\u001b[1;32m~\\AppData\\Local\\conda\\conda\\envs\\tensorflow-gpu\\lib\\site-packages\\tensorflow\\python\\client\\session.py\u001b[0m in \u001b[0;36m_do_call\u001b[1;34m(self, fn, *args)\u001b[0m\n\u001b[0;32m   1306\u001b[0m           self._config.experimental.client_handles_error_formatting):\n\u001b[0;32m   1307\u001b[0m         \u001b[0mmessage\u001b[0m \u001b[1;33m=\u001b[0m \u001b[0merror_interpolation\u001b[0m\u001b[1;33m.\u001b[0m\u001b[0minterpolate\u001b[0m\u001b[1;33m(\u001b[0m\u001b[0mmessage\u001b[0m\u001b[1;33m,\u001b[0m \u001b[0mself\u001b[0m\u001b[1;33m.\u001b[0m\u001b[0m_graph\u001b[0m\u001b[1;33m)\u001b[0m\u001b[1;33m\u001b[0m\u001b[0m\n\u001b[1;32m-> 1308\u001b[1;33m       \u001b[1;32mraise\u001b[0m \u001b[0mtype\u001b[0m\u001b[1;33m(\u001b[0m\u001b[0me\u001b[0m\u001b[1;33m)\u001b[0m\u001b[1;33m(\u001b[0m\u001b[0mnode_def\u001b[0m\u001b[1;33m,\u001b[0m \u001b[0mop\u001b[0m\u001b[1;33m,\u001b[0m \u001b[0mmessage\u001b[0m\u001b[1;33m)\u001b[0m\u001b[1;33m\u001b[0m\u001b[0m\n\u001b[0m\u001b[0;32m   1309\u001b[0m \u001b[1;33m\u001b[0m\u001b[0m\n\u001b[0;32m   1310\u001b[0m   \u001b[1;32mdef\u001b[0m \u001b[0m_extend_graph\u001b[0m\u001b[1;33m(\u001b[0m\u001b[0mself\u001b[0m\u001b[1;33m)\u001b[0m\u001b[1;33m:\u001b[0m\u001b[1;33m\u001b[0m\u001b[0m\n",
      "\u001b[1;31mResourceExhaustedError\u001b[0m: OOM when allocating tensor of shape [700928,128] and type float\n\t [[{{node training_9/Adam/zeros_10}} = Const[dtype=DT_FLOAT, value=Tensor<type: float shape: [700928,128] values: [0 0 0...]...>, _device=\"/job:localhost/replica:0/task:0/device:GPU:0\"]()]]\n\nCaused by op 'training_9/Adam/zeros_10', defined at:\n  File \"C:\\Users\\suleiman\\AppData\\Local\\conda\\conda\\envs\\tensorflow-gpu\\lib\\runpy.py\", line 193, in _run_module_as_main\n    \"__main__\", mod_spec)\n  File \"C:\\Users\\suleiman\\AppData\\Local\\conda\\conda\\envs\\tensorflow-gpu\\lib\\runpy.py\", line 85, in _run_code\n    exec(code, run_globals)\n  File \"C:\\Users\\suleiman\\AppData\\Local\\conda\\conda\\envs\\tensorflow-gpu\\lib\\site-packages\\ipykernel_launcher.py\", line 16, in <module>\n    app.launch_new_instance()\n  File \"C:\\Users\\suleiman\\AppData\\Local\\conda\\conda\\envs\\tensorflow-gpu\\lib\\site-packages\\traitlets\\config\\application.py\", line 658, in launch_instance\n    app.start()\n  File \"C:\\Users\\suleiman\\AppData\\Local\\conda\\conda\\envs\\tensorflow-gpu\\lib\\site-packages\\ipykernel\\kernelapp.py\", line 505, in start\n    self.io_loop.start()\n  File \"C:\\Users\\suleiman\\AppData\\Local\\conda\\conda\\envs\\tensorflow-gpu\\lib\\site-packages\\tornado\\platform\\asyncio.py\", line 132, in start\n    self.asyncio_loop.run_forever()\n  File \"C:\\Users\\suleiman\\AppData\\Local\\conda\\conda\\envs\\tensorflow-gpu\\lib\\asyncio\\base_events.py\", line 422, in run_forever\n    self._run_once()\n  File \"C:\\Users\\suleiman\\AppData\\Local\\conda\\conda\\envs\\tensorflow-gpu\\lib\\asyncio\\base_events.py\", line 1432, in _run_once\n    handle._run()\n  File \"C:\\Users\\suleiman\\AppData\\Local\\conda\\conda\\envs\\tensorflow-gpu\\lib\\asyncio\\events.py\", line 145, in _run\n    self._callback(*self._args)\n  File \"C:\\Users\\suleiman\\AppData\\Local\\conda\\conda\\envs\\tensorflow-gpu\\lib\\site-packages\\tornado\\ioloop.py\", line 758, in _run_callback\n    ret = callback()\n  File \"C:\\Users\\suleiman\\AppData\\Local\\conda\\conda\\envs\\tensorflow-gpu\\lib\\site-packages\\tornado\\stack_context.py\", line 300, in null_wrapper\n    return fn(*args, **kwargs)\n  File \"C:\\Users\\suleiman\\AppData\\Local\\conda\\conda\\envs\\tensorflow-gpu\\lib\\site-packages\\tornado\\gen.py\", line 1233, in inner\n    self.run()\n  File \"C:\\Users\\suleiman\\AppData\\Local\\conda\\conda\\envs\\tensorflow-gpu\\lib\\site-packages\\tornado\\gen.py\", line 1147, in run\n    yielded = self.gen.send(value)\n  File \"C:\\Users\\suleiman\\AppData\\Local\\conda\\conda\\envs\\tensorflow-gpu\\lib\\site-packages\\ipykernel\\kernelbase.py\", line 357, in process_one\n    yield gen.maybe_future(dispatch(*args))\n  File \"C:\\Users\\suleiman\\AppData\\Local\\conda\\conda\\envs\\tensorflow-gpu\\lib\\site-packages\\tornado\\gen.py\", line 326, in wrapper\n    yielded = next(result)\n  File \"C:\\Users\\suleiman\\AppData\\Local\\conda\\conda\\envs\\tensorflow-gpu\\lib\\site-packages\\ipykernel\\kernelbase.py\", line 267, in dispatch_shell\n    yield gen.maybe_future(handler(stream, idents, msg))\n  File \"C:\\Users\\suleiman\\AppData\\Local\\conda\\conda\\envs\\tensorflow-gpu\\lib\\site-packages\\tornado\\gen.py\", line 326, in wrapper\n    yielded = next(result)\n  File \"C:\\Users\\suleiman\\AppData\\Local\\conda\\conda\\envs\\tensorflow-gpu\\lib\\site-packages\\ipykernel\\kernelbase.py\", line 534, in execute_request\n    user_expressions, allow_stdin,\n  File \"C:\\Users\\suleiman\\AppData\\Local\\conda\\conda\\envs\\tensorflow-gpu\\lib\\site-packages\\tornado\\gen.py\", line 326, in wrapper\n    yielded = next(result)\n  File \"C:\\Users\\suleiman\\AppData\\Local\\conda\\conda\\envs\\tensorflow-gpu\\lib\\site-packages\\ipykernel\\ipkernel.py\", line 294, in do_execute\n    res = shell.run_cell(code, store_history=store_history, silent=silent)\n  File \"C:\\Users\\suleiman\\AppData\\Local\\conda\\conda\\envs\\tensorflow-gpu\\lib\\site-packages\\ipykernel\\zmqshell.py\", line 536, in run_cell\n    return super(ZMQInteractiveShell, self).run_cell(*args, **kwargs)\n  File \"C:\\Users\\suleiman\\AppData\\Local\\conda\\conda\\envs\\tensorflow-gpu\\lib\\site-packages\\IPython\\core\\interactiveshell.py\", line 2817, in run_cell\n    raw_cell, store_history, silent, shell_futures)\n  File \"C:\\Users\\suleiman\\AppData\\Local\\conda\\conda\\envs\\tensorflow-gpu\\lib\\site-packages\\IPython\\core\\interactiveshell.py\", line 2843, in _run_cell\n    return runner(coro)\n  File \"C:\\Users\\suleiman\\AppData\\Local\\conda\\conda\\envs\\tensorflow-gpu\\lib\\site-packages\\IPython\\core\\async_helpers.py\", line 67, in _pseudo_sync_runner\n    coro.send(None)\n  File \"C:\\Users\\suleiman\\AppData\\Local\\conda\\conda\\envs\\tensorflow-gpu\\lib\\site-packages\\IPython\\core\\interactiveshell.py\", line 3018, in run_cell_async\n    interactivity=interactivity, compiler=compiler, result=result)\n  File \"C:\\Users\\suleiman\\AppData\\Local\\conda\\conda\\envs\\tensorflow-gpu\\lib\\site-packages\\IPython\\core\\interactiveshell.py\", line 3183, in run_ast_nodes\n    if (yield from self.run_code(code, result)):\n  File \"C:\\Users\\suleiman\\AppData\\Local\\conda\\conda\\envs\\tensorflow-gpu\\lib\\site-packages\\IPython\\core\\interactiveshell.py\", line 3265, in run_code\n    exec(code_obj, self.user_global_ns, self.user_ns)\n  File \"<ipython-input-16-88f13bcd4031>\", line 51, in <module>\n    model.fit(X, y, class_weight=class_weights, batch_size=10, epochs=3, validation_split=0.3, callbacks=[tensorboard])\n  File \"C:\\Users\\suleiman\\AppData\\Local\\conda\\conda\\envs\\tensorflow-gpu\\lib\\site-packages\\tensorflow\\python\\keras\\engine\\training.py\", line 1605, in fit\n    validation_steps=validation_steps)\n  File \"C:\\Users\\suleiman\\AppData\\Local\\conda\\conda\\envs\\tensorflow-gpu\\lib\\site-packages\\tensorflow\\python\\keras\\engine\\training_arrays.py\", line 86, in fit_loop\n    model._make_train_function()\n  File \"C:\\Users\\suleiman\\AppData\\Local\\conda\\conda\\envs\\tensorflow-gpu\\lib\\site-packages\\tensorflow\\python\\keras\\engine\\training.py\", line 715, in _make_train_function\n    params=self._collected_trainable_weights, loss=self.total_loss)\n  File \"C:\\Users\\suleiman\\AppData\\Local\\conda\\conda\\envs\\tensorflow-gpu\\lib\\site-packages\\tensorflow\\python\\keras\\optimizers.py\", line 472, in get_updates\n    vs = [K.zeros(K.int_shape(p), dtype=K.dtype(p)) for p in params]\n  File \"C:\\Users\\suleiman\\AppData\\Local\\conda\\conda\\envs\\tensorflow-gpu\\lib\\site-packages\\tensorflow\\python\\keras\\optimizers.py\", line 472, in <listcomp>\n    vs = [K.zeros(K.int_shape(p), dtype=K.dtype(p)) for p in params]\n  File \"C:\\Users\\suleiman\\AppData\\Local\\conda\\conda\\envs\\tensorflow-gpu\\lib\\site-packages\\tensorflow\\python\\keras\\backend.py\", line 1025, in zeros\n    v = array_ops.zeros(shape=shape, dtype=tf_dtype, name=name)\n  File \"C:\\Users\\suleiman\\AppData\\Local\\conda\\conda\\envs\\tensorflow-gpu\\lib\\site-packages\\tensorflow\\python\\ops\\array_ops.py\", line 1561, in zeros\n    output = fill(shape, constant(zero, dtype=dtype), name=name)\n  File \"C:\\Users\\suleiman\\AppData\\Local\\conda\\conda\\envs\\tensorflow-gpu\\lib\\site-packages\\tensorflow\\python\\ops\\gen_array_ops.py\", line 3359, in fill\n    \"Fill\", dims=dims, value=value, name=name)\n  File \"C:\\Users\\suleiman\\AppData\\Local\\conda\\conda\\envs\\tensorflow-gpu\\lib\\site-packages\\tensorflow\\python\\framework\\op_def_library.py\", line 787, in _apply_op_helper\n    op_def=op_def)\n  File \"C:\\Users\\suleiman\\AppData\\Local\\conda\\conda\\envs\\tensorflow-gpu\\lib\\site-packages\\tensorflow\\python\\util\\deprecation.py\", line 488, in new_func\n    return func(*args, **kwargs)\n  File \"C:\\Users\\suleiman\\AppData\\Local\\conda\\conda\\envs\\tensorflow-gpu\\lib\\site-packages\\tensorflow\\python\\framework\\ops.py\", line 3272, in create_op\n    op_def=op_def)\n  File \"C:\\Users\\suleiman\\AppData\\Local\\conda\\conda\\envs\\tensorflow-gpu\\lib\\site-packages\\tensorflow\\python\\framework\\ops.py\", line 1768, in __init__\n    self._traceback = tf_stack.extract_stack()\n\nResourceExhaustedError (see above for traceback): OOM when allocating tensor of shape [700928,128] and type float\n\t [[{{node training_9/Adam/zeros_10}} = Const[dtype=DT_FLOAT, value=Tensor<type: float shape: [700928,128] values: [0 0 0...]...>, _device=\"/job:localhost/replica:0/task:0/device:GPU:0\"]()]]\n"
     ]
    }
   ],
   "source": [
    "for dense_layer in dense_layers:\n",
    "    for layer_size in layer_sizes:\n",
    "        for conv_layer in conv_layers:\n",
    "            NAME = \"{}-conv-{}-nodes-{}-dense-{}-dimension-{}\".format(conv_layer, layer_size, dense_layer, size, int(time.time()))\n",
    "            \n",
    "            print(NAME)\n",
    "            #build our model with sequential\n",
    "            model = Sequential()\n",
    "            \n",
    "            # start with Conv layer 1 and pass layer sizes, 3x3 window, input data features\n",
    "            model.add(Conv2D(layer_size, (3,3), input_shape = X.shape[1:]))\n",
    "            \n",
    "            #after convolution pass activation layer 1 with 'rectified linear'\n",
    "            model.add(Activation(\"relu\"))\n",
    "            \n",
    "            #pass max pooling layer 1 with 2x2\n",
    "            model.add(MaxPooling2D(pool_size=(2,2)))\n",
    "            model.add(Dropout(0.25))\n",
    "            \n",
    "            #Conv layer, activation and pooling layers 2\n",
    "            for l in range(conv_layer-1):\n",
    "                model.add(Conv2D(layer_size, (3,3)))\n",
    "                model.add(Activation(\"relu\"))\n",
    "                model.add(MaxPooling2D(pool_size=(2,2)))\n",
    "                model.add(Dropout(0.1))\n",
    "            \n",
    "            #need to flatten before passing to dense layer\n",
    "            model.add(Flatten()) \n",
    "            for l in range(dense_layer):\n",
    "                model.add(Dense(layer_size))\n",
    "                model.add(Activation(\"relu\"))\n",
    "            \n",
    "            #add finally an output dense layer of size 1\n",
    "            model.add(Dense(1))\n",
    "            model.add(Activation('sigmoid'))\n",
    "            \n",
    "            tensorboard = TensorBoard(log_dir= 'logs/{}'.format(NAME))\n",
    "            \n",
    "            #compile our model and measure the performance of classification \n",
    "            #Adam is a popular algorithm in the field of deep learning because it achieves good results fast\n",
    "            \n",
    "            model.compile(loss='binary_crossentropy',\n",
    "                          optimizer='adam',\n",
    "                          metrics=['accuracy'])\n",
    "            \n",
    "            #unbalanced class with more negatives 6873 than positives 3076\n",
    "            class_weights = {0: 1.,\n",
    "                             1: 2.23} #6873/3076\n",
    "            \n",
    "            #fit model set how many to pass as a time in batch size, with 30% for validation\n",
    "            model.fit(X, y, class_weight=class_weights, batch_size=10, epochs=3, validation_split=0.3, callbacks=[tensorboard])"
   ]
  },
  {
   "cell_type": "code",
   "execution_count": null,
   "metadata": {},
   "outputs": [],
   "source": [
    "dense_layers = [3]\n",
    "layer_sizes = [128]\n",
    "conv_layers = [1,2,3]"
   ]
  },
  {
   "cell_type": "code",
   "execution_count": null,
   "metadata": {},
   "outputs": [],
   "source": [
    "for dense_layer in dense_layers:\n",
    "    for layer_size in layer_sizes:\n",
    "        for conv_layer in conv_layers:\n",
    "            NAME = \"{}-conv-{}-nodes-{}-dense-{}-dimension-{}\".format(conv_layer, layer_size, dense_layer, size, int(time.time()))\n",
    "            \n",
    "            print(NAME)\n",
    "            #build our model with sequential\n",
    "            model = Sequential()\n",
    "            \n",
    "            # start with Conv layer 1 and pass layer sizes, 3x3 window, input data features\n",
    "            model.add(Conv2D(layer_size, (3,3), input_shape = X.shape[1:]))\n",
    "            \n",
    "            #after convolution pass activation layer 1 with 'rectified linear'\n",
    "            model.add(Activation(\"relu\"))\n",
    "            \n",
    "            #pass max pooling layer 1 with 2x2\n",
    "            model.add(MaxPooling2D(pool_size=(2,2)))\n",
    "            model.add(Dropout(0.25))\n",
    "            \n",
    "            #Conv layer, activation and pooling layers 2\n",
    "            for l in range(conv_layer-1):\n",
    "                model.add(Conv2D(layer_size, (3,3)))\n",
    "                model.add(Activation(\"relu\"))\n",
    "                model.add(MaxPooling2D(pool_size=(2,2)))\n",
    "                model.add(Dropout(0.1))\n",
    "            \n",
    "            #need to flatten before passing to dense layer\n",
    "            model.add(Flatten()) \n",
    "            for l in range(dense_layer):\n",
    "                model.add(Dense(layer_size))\n",
    "                model.add(Activation(\"relu\"))\n",
    "            \n",
    "            #add finally an output dense layer of size 1\n",
    "            model.add(Dense(1))\n",
    "            model.add(Activation('sigmoid'))\n",
    "            \n",
    "            tensorboard = TensorBoard(log_dir= 'logs/{}'.format(NAME))\n",
    "            \n",
    "            #compile our model and measure the performance of classification \n",
    "            #Adam is a popular algorithm in the field of deep learning because it achieves good results fast\n",
    "            \n",
    "            model.compile(loss='binary_crossentropy',\n",
    "                          optimizer='adam',\n",
    "                          metrics=['accuracy'])\n",
    "            \n",
    "            #unbalanced class with more negatives 6873 than positives 3076\n",
    "            class_weights = {0: 1.,\n",
    "                             1: 2.23} #6873/3076\n",
    "            \n",
    "            #fit model set how many to pass as a time in batch size, with 30% for validation\n",
    "            model.fit(X, y, class_weight=class_weights, batch_size=10, epochs=3, validation_split=0.3, callbacks=[tensorboard])"
   ]
  },
  {
   "cell_type": "code",
   "execution_count": 37,
   "metadata": {},
   "outputs": [],
   "source": [
    "model.save('ALTS-1x64x1-CNN.model')"
   ]
  },
  {
   "cell_type": "code",
   "execution_count": 22,
   "metadata": {},
   "outputs": [
    {
     "name": "stdout",
     "output_type": "stream",
     "text": [
      "9947/9947 [==============================] - 164s 16ms/step\n",
      "0.6777853000472033 0.6909620991013955\n"
     ]
    }
   ],
   "source": [
    "val_loss, val_acc = model.evaluate(X, y)\n",
    "print(val_loss, val_acc)"
   ]
  },
  {
   "cell_type": "code",
   "execution_count": null,
   "metadata": {},
   "outputs": [],
   "source": []
  }
 ],
 "metadata": {
  "kernelspec": {
   "display_name": "Python 3",
   "language": "python",
   "name": "python3"
  },
  "language_info": {
   "codemirror_mode": {
    "name": "ipython",
    "version": 3
   },
   "file_extension": ".py",
   "mimetype": "text/x-python",
   "name": "python",
   "nbconvert_exporter": "python",
   "pygments_lexer": "ipython3",
   "version": "3.6.5"
  }
 },
 "nbformat": 4,
 "nbformat_minor": 2
}
