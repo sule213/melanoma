{
 "cells": [
  {
   "cell_type": "code",
   "execution_count": 2,
   "metadata": {},
   "outputs": [
    {
     "name": "stderr",
     "output_type": "stream",
     "text": [
      "Using TensorFlow backend.\n"
     ]
    }
   ],
   "source": [
    "import numpy as np\n",
    "from keras.preprocessing.image import ImageDataGenerator\n",
    "from matplotlib.pyplot import imread\n",
    "import scipy.ndimage\n",
    "import scipy.misc\n",
    "from scipy import ndimage\n",
    "import os\n",
    "import glob"
   ]
  },
  {
   "cell_type": "code",
   "execution_count": 14,
   "metadata": {},
   "outputs": [],
   "source": [
    "datagen = ImageDataGenerator(rotation_range=90, width_shift_range=0.1,\n",
    "            height_shift_range=0.1, shear_range=0.15, \n",
    "            zoom_range=0.15,channel_shift_range = 10, \n",
    "            fill_mode='nearest', horizontal_flip=True)"
   ]
  },
  {
   "cell_type": "code",
   "execution_count": 538,
   "metadata": {},
   "outputs": [
    {
     "name": "stderr",
     "output_type": "stream",
     "text": [
      "C:\\Users\\suleiman\\AppData\\Local\\conda\\conda\\envs\\tensorflow-gpu\\lib\\site-packages\\ipykernel_launcher.py:4: DeprecationWarning: `imread` is deprecated!\n",
      "`imread` is deprecated in SciPy 1.0.0.\n",
      "Use ``matplotlib.pyplot.imread`` instead.\n",
      "  after removing the cwd from sys.path.\n"
     ]
    }
   ],
   "source": [
    "#image_path = r\"D:\\suleiman\\Documents\\ALTS\\GrabCut\\Neg_Copy\"\n",
    "image_path = r\"D:\\suleiman\\Documents\\CervixImages\\400\\Neg\\Neg (520).jpg\"\n",
    "\n",
    "image = np.expand_dims(ndimage.imread(image_path), 0)\n",
    "\n",
    "save_here = r\"D:\\suleiman\\Documents\\ALTS\\GrabCut\\Augumented\\Neg\"\n",
    "\n",
    "datagen.fit(image)\n",
    "\n",
    "#datagen.flow_from_directory(directory=image_path, target_size=(350,350),color_mode='rgb', class_mode=None, save_to_dir='saved',save_prefix='aug_')\n",
    "\n",
    "for x, val in zip(datagen.flow(image,                    #image we chose\n",
    "            save_to_dir=save_here,     #this is where we figure out where to save\n",
    "             save_prefix='aug2',        # it will save the images as 'aug_0912' some number for every new augmented image\n",
    "            save_format='jpg'),range(9)) :     # here we define a range because we want 10 augmented images otherwise it will keep looping forever I think\n",
    "                pass"
   ]
  },
  {
   "cell_type": "code",
   "execution_count": 138,
   "metadata": {},
   "outputs": [
    {
     "ename": "IndentationError",
     "evalue": "unexpected indent (<ipython-input-138-53b3f092e188>, line 3)",
     "output_type": "error",
     "traceback": [
      "\u001b[1;36m  File \u001b[1;32m\"<ipython-input-138-53b3f092e188>\"\u001b[1;36m, line \u001b[1;32m3\u001b[0m\n\u001b[1;33m    return image\u001b[0m\n\u001b[1;37m    ^\u001b[0m\n\u001b[1;31mIndentationError\u001b[0m\u001b[1;31m:\u001b[0m unexpected indent\n"
     ]
    }
   ],
   "source": [
    "def  horizontal_flip (image):\n",
    "    image = image [:, :: - 1 ,: ]\n",
    "     return image"
   ]
  },
  {
   "cell_type": "code",
   "execution_count": null,
   "metadata": {},
   "outputs": [],
   "source": [
    "directory = os.fsencode('D:/suleiman/Documents/ALTS/GrabCut/Neg')\n",
    "\n",
    "for file in os.listdir(directory):\n",
    "    filename = os.fsdecode(file)\n",
    "    if filename.endswith(\".jpg\"): \n",
    "        #print(os.path.join(directory, filename))\n",
    "        save_here = 'D:/suleiman/Documents/ALTS/GrabCut/Augumented/Neg'\n",
    "        datagen.fit(image)\n",
    "        for x, val in zip(datagen.flow(image,                    #image we chose\n",
    "            save_to_dir=save_here,     #this is where we figure out where to save\n",
    "             save_prefix='aug',        # it will save the images as 'aug_0912' some number for every new augmented image\n",
    "            save_format='png'),range(10)) :     # here we define a range because we want 10 augmented images otherwise it will keep looping forever I think\n",
    "                pass\n",
    "       # continue"
   ]
  }
 ],
 "metadata": {
  "kernelspec": {
   "display_name": "Python 3",
   "language": "python",
   "name": "python3"
  },
  "language_info": {
   "codemirror_mode": {
    "name": "ipython",
    "version": 3
   },
   "file_extension": ".py",
   "mimetype": "text/x-python",
   "name": "python",
   "nbconvert_exporter": "python",
   "pygments_lexer": "ipython3",
   "version": "3.6.5"
  }
 },
 "nbformat": 4,
 "nbformat_minor": 2
}
